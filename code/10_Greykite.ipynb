{
 "cells": [
  {
   "cell_type": "markdown",
   "id": "b9ec5c42-51de-45ad-ae40-7d94bc607d3a",
   "metadata": {},
   "source": [
    "# Greykite time series models"
   ]
  },
  {
   "cell_type": "markdown",
   "id": "d78d9b9b-1f36-4f59-b3af-0ac142d9abd0",
   "metadata": {},
   "source": [
    "Time series models using Greykite\n",
    "adapted from https://linkedin.github.io/greykite/docs/0.4.0/html/gallery/tutorials/0300_weekly_data.html"
   ]
  },
  {
   "cell_type": "code",
   "execution_count": 1,
   "id": "0ea34d0a-9c5a-442f-8256-d6a13ba41f84",
   "metadata": {},
   "outputs": [],
   "source": [
    "# Imports\n",
    "import pandas as pd\n",
    "import warnings\n",
    "warnings.filterwarnings(\"ignore\")\n",
    "\n",
    "import numpy as np\n",
    "np.random.seed(42)\n",
    "\n",
    "import plotly\n",
    "from greykite.framework.input.univariate_time_series import UnivariateTimeSeries\n",
    "from greykite.framework.templates.autogen.forecast_config import MetadataParam\n",
    "from greykite.framework.templates.autogen.forecast_config import EvaluationPeriodParam\n",
    "from greykite.framework.templates.autogen.forecast_config import ModelComponentsParam\n",
    "from greykite.framework.templates.autogen.forecast_config import ForecastConfig\n",
    "from greykite.framework.templates.forecaster import Forecaster\n",
    "from greykite.framework.utils.result_summary import summarize_grid_search_results\n",
    "from collections import defaultdict"
   ]
  },
  {
   "cell_type": "code",
   "execution_count": 2,
   "id": "1225b631-ad0b-4a58-bbff-537033457c6e",
   "metadata": {},
   "outputs": [
    {
     "data": {
      "text/html": [
       "<div>\n",
       "<style scoped>\n",
       "    .dataframe tbody tr th:only-of-type {\n",
       "        vertical-align: middle;\n",
       "    }\n",
       "\n",
       "    .dataframe tbody tr th {\n",
       "        vertical-align: top;\n",
       "    }\n",
       "\n",
       "    .dataframe thead th {\n",
       "        text-align: right;\n",
       "    }\n",
       "</style>\n",
       "<table border=\"1\" class=\"dataframe\">\n",
       "  <thead>\n",
       "    <tr style=\"text-align: right;\">\n",
       "      <th></th>\n",
       "      <th>week</th>\n",
       "      <th>depression</th>\n",
       "      <th>anxiety</th>\n",
       "      <th>addiction</th>\n",
       "      <th>counselling</th>\n",
       "      <th>mental_health</th>\n",
       "      <th>stay_at_home</th>\n",
       "      <th>mask_mandate</th>\n",
       "      <th>gatherings_banned</th>\n",
       "      <th>business_closures</th>\n",
       "      <th>travel_restrictions</th>\n",
       "    </tr>\n",
       "  </thead>\n",
       "  <tbody>\n",
       "    <tr>\n",
       "      <th>122</th>\n",
       "      <td>2020-05-03</td>\n",
       "      <td>63.6</td>\n",
       "      <td>61.2</td>\n",
       "      <td>23.9</td>\n",
       "      <td>27.9</td>\n",
       "      <td>38.2</td>\n",
       "      <td>0.7</td>\n",
       "      <td>0.2</td>\n",
       "      <td>0.9</td>\n",
       "      <td>0.9</td>\n",
       "      <td>0.5</td>\n",
       "    </tr>\n",
       "    <tr>\n",
       "      <th>123</th>\n",
       "      <td>2020-05-10</td>\n",
       "      <td>62.7</td>\n",
       "      <td>64.2</td>\n",
       "      <td>23.1</td>\n",
       "      <td>27.4</td>\n",
       "      <td>35.8</td>\n",
       "      <td>0.6</td>\n",
       "      <td>0.3</td>\n",
       "      <td>0.9</td>\n",
       "      <td>0.9</td>\n",
       "      <td>0.5</td>\n",
       "    </tr>\n",
       "    <tr>\n",
       "      <th>124</th>\n",
       "      <td>2020-05-17</td>\n",
       "      <td>57.7</td>\n",
       "      <td>66.6</td>\n",
       "      <td>21.4</td>\n",
       "      <td>29.3</td>\n",
       "      <td>35.7</td>\n",
       "      <td>0.5</td>\n",
       "      <td>0.3</td>\n",
       "      <td>0.9</td>\n",
       "      <td>0.9</td>\n",
       "      <td>0.4</td>\n",
       "    </tr>\n",
       "    <tr>\n",
       "      <th>125</th>\n",
       "      <td>2020-05-24</td>\n",
       "      <td>46.1</td>\n",
       "      <td>67.2</td>\n",
       "      <td>19.3</td>\n",
       "      <td>27.1</td>\n",
       "      <td>33.5</td>\n",
       "      <td>0.4</td>\n",
       "      <td>0.3</td>\n",
       "      <td>0.8</td>\n",
       "      <td>0.8</td>\n",
       "      <td>0.3</td>\n",
       "    </tr>\n",
       "    <tr>\n",
       "      <th>126</th>\n",
       "      <td>2020-05-31</td>\n",
       "      <td>45.6</td>\n",
       "      <td>59.2</td>\n",
       "      <td>20.8</td>\n",
       "      <td>29.7</td>\n",
       "      <td>36.8</td>\n",
       "      <td>0.3</td>\n",
       "      <td>0.3</td>\n",
       "      <td>0.8</td>\n",
       "      <td>0.8</td>\n",
       "      <td>0.3</td>\n",
       "    </tr>\n",
       "  </tbody>\n",
       "</table>\n",
       "</div>"
      ],
      "text/plain": [
       "          week  depression  anxiety  addiction  counselling  mental_health  \\\n",
       "122 2020-05-03        63.6     61.2       23.9         27.9           38.2   \n",
       "123 2020-05-10        62.7     64.2       23.1         27.4           35.8   \n",
       "124 2020-05-17        57.7     66.6       21.4         29.3           35.7   \n",
       "125 2020-05-24        46.1     67.2       19.3         27.1           33.5   \n",
       "126 2020-05-31        45.6     59.2       20.8         29.7           36.8   \n",
       "\n",
       "     stay_at_home  mask_mandate  gatherings_banned  business_closures  \\\n",
       "122           0.7           0.2                0.9                0.9   \n",
       "123           0.6           0.3                0.9                0.9   \n",
       "124           0.5           0.3                0.9                0.9   \n",
       "125           0.4           0.3                0.8                0.8   \n",
       "126           0.3           0.3                0.8                0.8   \n",
       "\n",
       "     travel_restrictions  \n",
       "122                  0.5  \n",
       "123                  0.5  \n",
       "124                  0.4  \n",
       "125                  0.3  \n",
       "126                  0.3  "
      ]
     },
     "execution_count": 2,
     "metadata": {},
     "output_type": "execute_result"
    }
   ],
   "source": [
    "combined_states = pd.read_csv(f'../data/combined_states.csv', parse_dates=['week'])\n",
    "combined_states_begining_covid = combined_states[combined_states['week'] < '06-2020']\n",
    "combined_states_begining_covid.tail()"
   ]
  },
  {
   "cell_type": "code",
   "execution_count": 7,
   "id": "9bda2fe4-e958-4604-a9d8-823326bcb5a3",
   "metadata": {},
   "outputs": [],
   "source": [
    "df_train = combined_states_begining_covid[:-13]\n",
    "df_test = combined_states_begining_covid[-13:]"
   ]
  },
  {
   "cell_type": "code",
   "execution_count": 8,
   "id": "8427ae10-ece5-4015-ba0e-9271d378fee7",
   "metadata": {},
   "outputs": [
    {
     "data": {
      "text/html": [
       "<div>\n",
       "<style scoped>\n",
       "    .dataframe tbody tr th:only-of-type {\n",
       "        vertical-align: middle;\n",
       "    }\n",
       "\n",
       "    .dataframe tbody tr th {\n",
       "        vertical-align: top;\n",
       "    }\n",
       "\n",
       "    .dataframe thead th {\n",
       "        text-align: right;\n",
       "    }\n",
       "</style>\n",
       "<table border=\"1\" class=\"dataframe\">\n",
       "  <thead>\n",
       "    <tr style=\"text-align: right;\">\n",
       "      <th></th>\n",
       "      <th>week</th>\n",
       "      <th>depression</th>\n",
       "      <th>anxiety</th>\n",
       "      <th>addiction</th>\n",
       "      <th>counselling</th>\n",
       "      <th>mental_health</th>\n",
       "      <th>stay_at_home</th>\n",
       "      <th>mask_mandate</th>\n",
       "      <th>gatherings_banned</th>\n",
       "      <th>business_closures</th>\n",
       "      <th>travel_restrictions</th>\n",
       "    </tr>\n",
       "  </thead>\n",
       "  <tbody>\n",
       "    <tr>\n",
       "      <th>109</th>\n",
       "      <td>2020-02-02</td>\n",
       "      <td>61.2</td>\n",
       "      <td>64.9</td>\n",
       "      <td>22.7</td>\n",
       "      <td>40.1</td>\n",
       "      <td>38.5</td>\n",
       "      <td>0.0</td>\n",
       "      <td>0.0</td>\n",
       "      <td>0.0</td>\n",
       "      <td>0.0</td>\n",
       "      <td>0.0</td>\n",
       "    </tr>\n",
       "    <tr>\n",
       "      <th>110</th>\n",
       "      <td>2020-02-09</td>\n",
       "      <td>58.7</td>\n",
       "      <td>67.0</td>\n",
       "      <td>18.9</td>\n",
       "      <td>37.5</td>\n",
       "      <td>38.6</td>\n",
       "      <td>0.0</td>\n",
       "      <td>0.0</td>\n",
       "      <td>0.0</td>\n",
       "      <td>0.0</td>\n",
       "      <td>0.0</td>\n",
       "    </tr>\n",
       "    <tr>\n",
       "      <th>111</th>\n",
       "      <td>2020-02-16</td>\n",
       "      <td>61.5</td>\n",
       "      <td>71.3</td>\n",
       "      <td>22.1</td>\n",
       "      <td>39.0</td>\n",
       "      <td>38.6</td>\n",
       "      <td>0.0</td>\n",
       "      <td>0.0</td>\n",
       "      <td>0.0</td>\n",
       "      <td>0.0</td>\n",
       "      <td>0.0</td>\n",
       "    </tr>\n",
       "    <tr>\n",
       "      <th>112</th>\n",
       "      <td>2020-02-23</td>\n",
       "      <td>64.6</td>\n",
       "      <td>66.7</td>\n",
       "      <td>26.2</td>\n",
       "      <td>39.9</td>\n",
       "      <td>37.7</td>\n",
       "      <td>0.0</td>\n",
       "      <td>0.0</td>\n",
       "      <td>0.0</td>\n",
       "      <td>0.0</td>\n",
       "      <td>0.0</td>\n",
       "    </tr>\n",
       "    <tr>\n",
       "      <th>113</th>\n",
       "      <td>2020-03-01</td>\n",
       "      <td>63.4</td>\n",
       "      <td>64.4</td>\n",
       "      <td>23.2</td>\n",
       "      <td>38.2</td>\n",
       "      <td>36.4</td>\n",
       "      <td>0.0</td>\n",
       "      <td>0.0</td>\n",
       "      <td>0.0</td>\n",
       "      <td>0.0</td>\n",
       "      <td>0.0</td>\n",
       "    </tr>\n",
       "  </tbody>\n",
       "</table>\n",
       "</div>"
      ],
      "text/plain": [
       "          week  depression  anxiety  addiction  counselling  mental_health  \\\n",
       "109 2020-02-02        61.2     64.9       22.7         40.1           38.5   \n",
       "110 2020-02-09        58.7     67.0       18.9         37.5           38.6   \n",
       "111 2020-02-16        61.5     71.3       22.1         39.0           38.6   \n",
       "112 2020-02-23        64.6     66.7       26.2         39.9           37.7   \n",
       "113 2020-03-01        63.4     64.4       23.2         38.2           36.4   \n",
       "\n",
       "     stay_at_home  mask_mandate  gatherings_banned  business_closures  \\\n",
       "109           0.0           0.0                0.0                0.0   \n",
       "110           0.0           0.0                0.0                0.0   \n",
       "111           0.0           0.0                0.0                0.0   \n",
       "112           0.0           0.0                0.0                0.0   \n",
       "113           0.0           0.0                0.0                0.0   \n",
       "\n",
       "     travel_restrictions  \n",
       "109                  0.0  \n",
       "110                  0.0  \n",
       "111                  0.0  \n",
       "112                  0.0  \n",
       "113                  0.0  "
      ]
     },
     "execution_count": 8,
     "metadata": {},
     "output_type": "execute_result"
    }
   ],
   "source": [
    "df_train.tail()"
   ]
  },
  {
   "cell_type": "code",
   "execution_count": 9,
   "id": "82801658-dee2-4b91-9836-824aa0df11c7",
   "metadata": {},
   "outputs": [],
   "source": [
    "def greykite_fit_explore(data, search, autoregression=None):\n",
    "    \n",
    "    # Split the data to train and test\n",
    "    df_train, df_test = data[0:-20], data[-20:]\n",
    "    # Make timeseries data\n",
    "    ts = UnivariateTimeSeries()\n",
    "    ts.load_data(\n",
    "    df=df_train[['week', search]],\n",
    "    time_col='week',\n",
    "    value_col=search,\n",
    "    freq='W-SUN')\n",
    "    # specify dataset information\n",
    "    forecast_horizon = 13  # Forecast 13 weeks\n",
    "    time_col = 'ts'  \n",
    "    value_col = 'y'  \n",
    "    metadata = MetadataParam(\n",
    "    time_col=time_col,  \n",
    "    value_col=value_col, \n",
    "    freq=\"W-SUN\")\n",
    "    \n",
    "    cv_min_train_periods = 52 * 2\n",
    "     # Let CV use most recent splits for cross-validation.\n",
    "    cv_use_most_recent_splits = True\n",
    "     # Determine the maximum number of validations.\n",
    "    cv_max_splits = 6\n",
    "    evaluation_period = EvaluationPeriodParam(\n",
    "         test_horizon=forecast_horizon,\n",
    "         cv_horizon=forecast_horizon,\n",
    "         periods_between_train_test=0,\n",
    "         cv_min_train_periods=cv_min_train_periods,\n",
    "         cv_expanding_window=True,\n",
    "         cv_use_most_recent_splits=cv_use_most_recent_splits,\n",
    "         cv_periods_between_splits=None,\n",
    "         cv_periods_between_train_test=0,\n",
    "         cv_max_splits=cv_max_splits,\n",
    "     )\n",
    "    \n",
    "    # Specify the model parameters\n",
    "    model_components = ModelComponentsParam(\n",
    "         autoregression=autoregression,\n",
    "         seasonality={\n",
    "             \"yearly_seasonality\": 25,\n",
    "             \"quarterly_seasonality\": 0,\n",
    "             \"monthly_seasonality\": 0,\n",
    "             \"weekly_seasonality\": 0,\n",
    "             \"daily_seasonality\": 0\n",
    "         },\n",
    "         changepoints={\n",
    "             'changepoints_dict': {\n",
    "                 \"method\": \"auto\",\n",
    "                 \"resample_freq\": \"7D\",\n",
    "                 \"regularization_strength\": 0.5,\n",
    "                 \"potential_changepoint_distance\": \"14D\",\n",
    "                 \"no_changepoint_distance_from_end\": \"60D\",\n",
    "                 \"yearly_seasonality_order\": 25,\n",
    "                 \"yearly_seasonality_change_freq\": None,\n",
    "             },\n",
    "             \"seasonality_changepoints_dict\": None\n",
    "         },\n",
    "         events={\n",
    "             \"holiday_lookup_countries\": [\"US\"]\n",
    "         },\n",
    "         growth={\n",
    "             \"growth_term\": None\n",
    "         },\n",
    "         custom={\n",
    "             'feature_sets_enabled': False,\n",
    "             'fit_algorithm_dict': dict(fit_algorithm='ridge')\n",
    "         }\n",
    "     )\n",
    "\n",
    "    forecast_config = ForecastConfig(\n",
    "         model_template = 'SILVERKITE',\n",
    "         metadata_param=metadata,\n",
    "         forecast_horizon=forecast_horizon,\n",
    "         coverage=0.95,\n",
    "         evaluation_period_param=evaluation_period,\n",
    "         model_components_param=model_components\n",
    "     )\n",
    "\n",
    "     # Run the forecast model\n",
    "    forecaster = Forecaster()\n",
    "    result = forecaster.run_forecast_config(\n",
    "         df=ts.df,\n",
    "         config=forecast_config\n",
    "     )\n",
    "    \n",
    "    get_model_results_summary(result)\n",
    "    \n",
    "    fig = result.backtest.plot()\n",
    "    plotly.io.show(fig)\n",
    "    \n",
    "    fig = result.forecast.plot()\n",
    "    plotly.io.show(fig)\n",
    "    \n",
    "    fig = result.forecast.plot_components()\n",
    "    plotly.io.show(fig)\n",
    "    \n",
    "    return result\n"
   ]
  },
  {
   "cell_type": "code",
   "execution_count": 10,
   "id": "b780a548-f1a8-44cc-b5a1-89abdaf84cb3",
   "metadata": {},
   "outputs": [],
   "source": [
    "def get_model_results_summary(result):\n",
    "     \"\"\"Generates model results summary.\n",
    "\n",
    "     Parameters\n",
    "     ----------\n",
    "     result : `ForecastResult`\n",
    "         See :class:`~greykite.framework.pipeline.pipeline.ForecastResult` for documentation.\n",
    "\n",
    "     Returns\n",
    "     -------\n",
    "     Prints out model coefficients, cross-validation results, overall train/test evalautions.\n",
    "     \"\"\"\n",
    "     # Get the useful fields from the forecast result\n",
    "     model = result.model[-1]\n",
    "     backtest = result.backtest\n",
    "     grid_search = result.grid_search\n",
    "\n",
    "     # Check model coefficients / variables\n",
    "     # Get model summary with p-values\n",
    "     print(model.summary())\n",
    "\n",
    "     # Get cross-validation results\n",
    "     cv_results = summarize_grid_search_results(\n",
    "         grid_search=grid_search,\n",
    "         decimals=2,\n",
    "         cv_report_metrics=None,\n",
    "         column_order=[\n",
    "             \"rank\", \"mean_test\", \"split_test\", \"mean_train\", \"split_train\",\n",
    "             \"mean_fit_time\", \"mean_score_time\", \"params\"])\n",
    "     # Transposes to save space in the printed output\n",
    "     print(\"================================= CV Results ==================================\")\n",
    "     print(cv_results.transpose())\n",
    "\n",
    "     # Check historical evaluation metrics (on the historical training/test set).\n",
    "     backtest_eval = defaultdict(list)\n",
    "     for metric, value in backtest.train_evaluation.items():\n",
    "         backtest_eval[metric].append(value)\n",
    "         backtest_eval[metric].append(backtest.test_evaluation[metric])\n",
    "     metrics = pd.DataFrame(backtest_eval, index=[\"train\", \"test\"]).T\n",
    "     print(\"=========================== Train/Test Evaluation =============================\")\n",
    "     print(metrics)"
   ]
  },
  {
   "cell_type": "code",
   "execution_count": 12,
   "id": "19857cd5-c4a7-4ef4-9994-6940d36307d2",
   "metadata": {},
   "outputs": [
    {
     "name": "stdout",
     "output_type": "stream",
     "text": [
      "Fitting 1 folds for each of 1 candidates, totalling 1 fits\n",
      "================================ Model Summary =================================\n",
      "\n",
      "Number of observations: 107,   Number of features: 92\n",
      "Method: Ridge regression\n",
      "Number of nonzero features: 60\n",
      "Regularization parameter: 3.29\n",
      "\n",
      "Residuals:\n",
      "         Min           1Q       Median           3Q          Max\n",
      "      -6.959        -2.12      -0.3018        2.129         6.79\n",
      "\n",
      "            Pred_col Estimate Std. Err Pr(>)_boot sig. code              95%CI\n",
      "           Intercept    55.11    3.363     <2e-16       ***     (49.32, 63.16)\n",
      "events_Christmas Day       0.       0.      1.000                     (0., 0.)\n",
      " events_C...as Day-1       0.       0.      1.000                     (0., 0.)\n",
      " events_C...as Day-2  -0.3481   0.4959      0.306              (-1.51, 0.2017)\n",
      " events_C...as Day+1       0.       0.      1.000                     (0., 0.)\n",
      " events_C...as Day+2       0.       0.      1.000                     (0., 0.)\n",
      " events_I...ence Day       0.       0.      1.000                     (0., 0.)\n",
      " events_I...ce Day-1       0.       0.      1.000                     (0., 0.)\n",
      " events_I...ce Day-2       0.       0.      1.000                     (0., 0.)\n",
      " events_I...ce Day+1       0.       0.      1.000                     (0., 0.)\n",
      " events_I...ce Day+2       0.       0.      1.000                     (0., 0.)\n",
      "    events_Labor Day       0.       0.      1.000                     (0., 0.)\n",
      "  events_Labor Day-1  -0.7853   0.3316      0.002        **       (-1.186, 0.)\n",
      "  events_Labor Day-2       0.       0.      1.000                     (0., 0.)\n",
      "  events_Labor Day+1       0.       0.      1.000                     (0., 0.)\n",
      "  events_Labor Day+2       0.       0.      1.000                     (0., 0.)\n",
      " events_Memorial Day       0.       0.      1.000                     (0., 0.)\n",
      " events_M...al Day-1   -0.609   0.3028      0.004        **       (-1.083, 0.)\n",
      " events_M...al Day-2       0.       0.      1.000                     (0., 0.)\n",
      " events_M...al Day+1       0.       0.      1.000                     (0., 0.)\n",
      " events_M...al Day+2       0.       0.      1.000                     (0., 0.)\n",
      "events_New Years Day       0.       0.      1.000                     (0., 0.)\n",
      " events_N...rs Day-1  -0.5733   0.4206      0.118                 (-1.264, 0.)\n",
      " events_N...rs Day-2  0.08291   0.3249      0.494             (-0.8596, 0.622)\n",
      " events_N...rs Day+1       0.       0.      1.000                     (0., 0.)\n",
      " events_N...rs Day+2       0.       0.      1.000                     (0., 0.)\n",
      "        events_Other       0.       0.      1.000                     (0., 0.)\n",
      "      events_Other-1   0.1385   0.9181      0.930              (-1.658, 1.765)\n",
      "      events_Other-2       0.       0.      1.000                     (0., 0.)\n",
      "      events_Other+1       0.       0.      1.000                     (0., 0.)\n",
      "      events_Other+2       0.       0.      1.000                     (0., 0.)\n",
      " events_Thanksgiving       0.       0.      1.000                     (0., 0.)\n",
      " events_T...giving-1       0.       0.      1.000                     (0., 0.)\n",
      " events_T...giving-2       0.       0.      1.000                     (0., 0.)\n",
      " events_T...giving+1       0.       0.      1.000                     (0., 0.)\n",
      " events_T...giving+2       0.       0.      1.000                     (0., 0.)\n",
      " events_Veterans Day    0.246   0.2218      0.192           (-0.05632, 0.6791)\n",
      " events_V...ns Day-1 -0.09172   0.1792      0.426              (-0.43, 0.3408)\n",
      " events_V...ns Day-2       0.       0.      1.000                     (0., 0.)\n",
      " events_V...ns Day+1       0.       0.      1.000                     (0., 0.)\n",
      " events_V...ns Day+2       0.       0.      1.000                     (0., 0.)\n",
      "     sin1_ct1_yearly    5.581   0.7983     <2e-16       ***     (3.312, 6.501)\n",
      "     cos1_ct1_yearly    7.227   0.9888     <2e-16       ***     (4.379, 8.156)\n",
      "     sin2_ct1_yearly   -2.468   0.9369      0.014         *   (-3.879, -0.104)\n",
      "     cos2_ct1_yearly   -7.441   0.8531     <2e-16       ***   (-8.133, -4.637)\n",
      "     sin3_ct1_yearly    2.015   0.8728      0.014         *    (0.2172, 3.541)\n",
      "     cos3_ct1_yearly   -2.442    0.938      0.002        **  (-3.894, -0.2068)\n",
      "     sin4_ct1_yearly   0.8793   0.8939      0.338             (-0.8964, 2.592)\n",
      "     cos4_ct1_yearly   -2.346   0.9561      0.022         *  (-3.836, -0.1891)\n",
      "     sin5_ct1_yearly   -1.457   0.9093      0.106             (-2.902, 0.5163)\n",
      "     cos5_ct1_yearly   -1.484   0.9147      0.096         .   (-3.093, 0.4286)\n",
      "     sin6_ct1_yearly     1.58   0.9155      0.078         .   (-0.6044, 3.016)\n",
      "     cos6_ct1_yearly   -2.109    0.929      0.024         *    (-3.6, 0.01147)\n",
      "     sin7_ct1_yearly    0.166   0.9649      0.860              (-1.948, 1.982)\n",
      "     cos7_ct1_yearly  -0.7571   0.8634      0.366             (-2.331, 0.9162)\n",
      "     sin8_ct1_yearly   0.8176   0.8407      0.288              (-1.089, 2.241)\n",
      "     cos8_ct1_yearly   -2.363   0.9525      0.010         *  (-3.956, -0.3354)\n",
      "     sin9_ct1_yearly    1.856   0.9642      0.060         .   (-0.3982, 3.406)\n",
      "     cos9_ct1_yearly  -0.5441   0.8586      0.544               (-2.045, 1.17)\n",
      "    sin10_ct1_yearly     1.23   0.9085      0.158             (-0.8463, 2.825)\n",
      "    cos10_ct1_yearly  -0.4238   0.8903      0.638              (-2.052, 1.198)\n",
      "    sin11_ct1_yearly   0.4005   0.9115      0.664              (-1.541, 2.046)\n",
      "    cos11_ct1_yearly  -0.6232   0.8546      0.482              (-2.107, 1.115)\n",
      "    sin12_ct1_yearly    2.942   0.8891     <2e-16       ***    (0.8222, 4.235)\n",
      "    cos12_ct1_yearly  -0.4155   0.9113      0.656                (-2.119, 1.4)\n",
      "    sin13_ct1_yearly    2.305   0.9353      0.018         *    (0.3264, 3.711)\n",
      "    cos13_ct1_yearly  -0.3435   0.9374      0.716              (-2.018, 1.549)\n",
      "    sin14_ct1_yearly    1.967   0.9197      0.036         *   (-0.2487, 3.381)\n",
      "    cos14_ct1_yearly    0.419   0.9208      0.638              (-1.488, 2.105)\n",
      "    sin15_ct1_yearly    0.689   0.8922      0.444              (-1.087, 2.263)\n",
      "    cos15_ct1_yearly  -0.3814   0.9469      0.676              (-2.147, 1.431)\n",
      "    sin16_ct1_yearly  -0.3645   0.8721      0.646               (-2.11, 1.358)\n",
      "    cos16_ct1_yearly    1.416   0.9019      0.118              (-0.584, 2.864)\n",
      "    sin17_ct1_yearly   0.8356   0.9191      0.362              (-1.181, 2.351)\n",
      "    cos17_ct1_yearly  0.07151   0.8711      0.934              (-1.713, 1.661)\n",
      "    sin18_ct1_yearly   -1.663   0.8484      0.038         *   (-2.944, 0.2128)\n",
      "    cos18_ct1_yearly   0.3916   0.9304      0.680              (-1.461, 2.214)\n",
      "    sin19_ct1_yearly   0.5898   0.9297      0.550               (-1.303, 2.17)\n",
      "    cos19_ct1_yearly   0.6017   0.8917      0.476               (-1.18, 2.359)\n",
      "    sin20_ct1_yearly  -0.1254   0.8769      0.878              (-1.818, 1.648)\n",
      "    cos20_ct1_yearly -0.03788   0.9446      0.970              (-1.991, 1.542)\n",
      "    sin21_ct1_yearly   0.4063    0.935      0.662               (-1.481, 2.35)\n",
      "    cos21_ct1_yearly   0.4254   0.8495      0.610              (-1.281, 2.089)\n",
      "    sin22_ct1_yearly   0.6992   0.9248      0.446               (-1.231, 2.47)\n",
      "    cos22_ct1_yearly   -1.075   0.8952      0.224              (-2.62, 0.8869)\n",
      "    sin23_ct1_yearly  -0.6139   0.8881      0.498              (-2.108, 1.296)\n",
      "    cos23_ct1_yearly  -0.3869   0.9039      0.658              (-2.141, 1.463)\n",
      "    sin24_ct1_yearly    1.081   0.9042      0.228              (-0.955, 2.623)\n",
      "    cos24_ct1_yearly   0.4434   0.9793      0.666              (-1.544, 2.302)\n",
      "    sin25_ct1_yearly  -0.0472   0.8312      0.938              (-1.831, 1.567)\n",
      "    cos25_ct1_yearly     0.28   0.8818      0.770              (-1.481, 1.847)\n",
      "   cp0_2019_02_03_00   -3.991   0.9422     <2e-16       ***   (-5.542, -1.906)\n",
      "Signif. Code: 0 '***' 0.001 '**' 0.01 '*' 0.05 '.' 0.1 ' ' 1\n",
      "\n",
      "Multiple R-squared: 0.8279,   Adjusted R-squared: 0.7176\n",
      "F-statistic: 5.118 on 41 and 64 DF,   p-value: 2.827e-09\n",
      "Model AIC: 823.75,   model BIC: 937.07\n",
      "\n",
      "WARNING: the F-ratio and its p-value on regularized methods might be misleading, they are provided only for reference purposes.\n",
      "WARNING: the following columns have estimated coefficients equal to zero, while ridge is not supposed to have zero estimates. This is probably because these columns are degenerate in the design matrix. Make sure these columns do not have constant values.\n",
      "[\"C(Q('events_Christmas Day'), levels=['', 'event'])[T.event]\", \"C(Q('events_Christmas Day_minus_1'), levels=['', 'event'])[T.event]\", \"C(Q('events_Christmas Day_plus_1'), levels=['', 'event'])[T.event]\", \"C(Q('events_Christmas Day_plus_2'), levels=['', 'event'])[T.event]\", \"C(Q('events_Independence Day'), levels=['', 'event'])[T.event]\", \"C(Q('events_Independence Day_minus_1'), levels=['', 'event'])[T.event]\", \"C(Q('events_Independence Day_minus_2'), levels=['', 'event'])[T.event]\", \"C(Q('events_Independence Day_plus_1'), levels=['', 'event'])[T.event]\", \"C(Q('events_Independence Day_plus_2'), levels=['', 'event'])[T.event]\", \"C(Q('events_Labor Day'), levels=['', 'event'])[T.event]\", \"C(Q('events_Labor Day_minus_2'), levels=['', 'event'])[T.event]\", \"C(Q('events_Labor Day_plus_1'), levels=['', 'event'])[T.event]\", \"C(Q('events_Labor Day_plus_2'), levels=['', 'event'])[T.event]\", \"C(Q('events_Memorial Day'), levels=['', 'event'])[T.event]\", \"C(Q('events_Memorial Day_minus_2'), levels=['', 'event'])[T.event]\", \"C(Q('events_Memorial Day_plus_1'), levels=['', 'event'])[T.event]\", \"C(Q('events_Memorial Day_plus_2'), levels=['', 'event'])[T.event]\", \"C(Q('events_New Years Day'), levels=['', 'event'])[T.event]\", \"C(Q('events_New Years Day_plus_1'), levels=['', 'event'])[T.event]\", \"C(Q('events_New Years Day_plus_2'), levels=['', 'event'])[T.event]\", \"C(Q('events_Other'), levels=['', 'event'])[T.event]\", \"C(Q('events_Other_minus_2'), levels=['', 'event'])[T.event]\", \"C(Q('events_Other_plus_1'), levels=['', 'event'])[T.event]\", \"C(Q('events_Other_plus_2'), levels=['', 'event'])[T.event]\", \"C(Q('events_Thanksgiving'), levels=['', 'event'])[T.event]\", \"C(Q('events_Thanksgiving_minus_1'), levels=['', 'event'])[T.event]\", \"C(Q('events_Thanksgiving_minus_2'), levels=['', 'event'])[T.event]\", \"C(Q('events_Thanksgiving_plus_1'), levels=['', 'event'])[T.event]\", \"C(Q('events_Thanksgiving_plus_2'), levels=['', 'event'])[T.event]\", \"C(Q('events_Veterans Day_minus_2'), levels=['', 'event'])[T.event]\", \"C(Q('events_Veterans Day_plus_1'), levels=['', 'event'])[T.event]\", \"C(Q('events_Veterans Day_plus_2'), levels=['', 'event'])[T.event]\"]\n",
      "WARNING: the following columns are degenerate, do you really want to include them in your model? This may cause some of them to show unrealistic significance. Consider using the `drop_degenerate` transformer.\n",
      "['Intercept', \"C(Q('events_Christmas Day'), levels=['', 'event'])[T.event]\", \"C(Q('events_Christmas Day_minus_1'), levels=['', 'event'])[T.event]\", \"C(Q('events_Christmas Day_plus_1'), levels=['', 'event'])[T.event]\", \"C(Q('events_Christmas Day_plus_2'), levels=['', 'event'])[T.event]\", \"C(Q('events_Independence Day'), levels=['', 'event'])[T.event]\", \"C(Q('events_Independence Day_minus_1'), levels=['', 'event'])[T.event]\", \"C(Q('events_Independence Day_minus_2'), levels=['', 'event'])[T.event]\", \"C(Q('events_Independence Day_plus_1'), levels=['', 'event'])[T.event]\", \"C(Q('events_Independence Day_plus_2'), levels=['', 'event'])[T.event]\", \"C(Q('events_Labor Day'), levels=['', 'event'])[T.event]\", \"C(Q('events_Labor Day_minus_2'), levels=['', 'event'])[T.event]\", \"C(Q('events_Labor Day_plus_1'), levels=['', 'event'])[T.event]\", \"C(Q('events_Labor Day_plus_2'), levels=['', 'event'])[T.event]\", \"C(Q('events_Memorial Day'), levels=['', 'event'])[T.event]\", \"C(Q('events_Memorial Day_minus_2'), levels=['', 'event'])[T.event]\", \"C(Q('events_Memorial Day_plus_1'), levels=['', 'event'])[T.event]\", \"C(Q('events_Memorial Day_plus_2'), levels=['', 'event'])[T.event]\", \"C(Q('events_New Years Day'), levels=['', 'event'])[T.event]\", \"C(Q('events_New Years Day_plus_1'), levels=['', 'event'])[T.event]\", \"C(Q('events_New Years Day_plus_2'), levels=['', 'event'])[T.event]\", \"C(Q('events_Other'), levels=['', 'event'])[T.event]\", \"C(Q('events_Other_minus_2'), levels=['', 'event'])[T.event]\", \"C(Q('events_Other_plus_1'), levels=['', 'event'])[T.event]\", \"C(Q('events_Other_plus_2'), levels=['', 'event'])[T.event]\", \"C(Q('events_Thanksgiving'), levels=['', 'event'])[T.event]\", \"C(Q('events_Thanksgiving_minus_1'), levels=['', 'event'])[T.event]\", \"C(Q('events_Thanksgiving_minus_2'), levels=['', 'event'])[T.event]\", \"C(Q('events_Thanksgiving_plus_1'), levels=['', 'event'])[T.event]\", \"C(Q('events_Thanksgiving_plus_2'), levels=['', 'event'])[T.event]\", \"C(Q('events_Veterans Day_minus_2'), levels=['', 'event'])[T.event]\", \"C(Q('events_Veterans Day_plus_1'), levels=['', 'event'])[T.event]\", \"C(Q('events_Veterans Day_plus_2'), levels=['', 'event'])[T.event]\"]\n",
      "\n",
      "================================= CV Results ==================================\n",
      "                        0\n",
      "rank_test_MAPE          1\n",
      "mean_test_MAPE       5.09\n",
      "split_test_MAPE   (5.09,)\n",
      "mean_train_MAPE      4.11\n",
      "split_train_MAPE  (4.11,)\n",
      "mean_fit_time        3.14\n",
      "mean_score_time      0.83\n",
      "params                 []\n",
      "=========================== Train/Test Evaluation =============================\n",
      "                                                        train       test\n",
      "CORR                                                 0.940579   0.642833\n",
      "R2                                                   0.875209   0.368791\n",
      "MSE                                                  6.617644  34.699167\n",
      "RMSE                                                 2.572478     5.8906\n",
      "MAE                                                  2.039114   5.027213\n",
      "MedAE                                                 1.79503    5.04522\n",
      "MAPE                                                 3.533567   9.459173\n",
      "MedAPE                                                3.01504   9.074136\n",
      "sMAPE                                                1.760424   4.600438\n",
      "Q80                                                  1.019557   2.054845\n",
      "Q95                                                  1.019557   1.825465\n",
      "Q99                                                  1.019557   1.764297\n",
      "OutsideTolerance1p                                   0.797872   0.923077\n",
      "OutsideTolerance2p                                   0.659574   0.846154\n",
      "OutsideTolerance3p                                        0.5   0.846154\n",
      "OutsideTolerance4p                                    0.37234   0.769231\n",
      "OutsideTolerance5p                                   0.244681   0.692308\n",
      "Outside Tolerance (fraction)                             None       None\n",
      "R2_null_model_score                                      None       None\n",
      "Prediction Band Width (%)                           17.714254  18.738046\n",
      "Prediction Band Coverage (fraction)                  0.925532   0.538462\n",
      "Coverage: Lower Band                                 0.510638   0.307692\n",
      "Coverage: Upper Band                                 0.414894   0.230769\n",
      "Coverage Diff: Actual_Coverage - Intended_Coverage  -0.024468  -0.411538\n"
     ]
    },
    {
     "data": {
      "application/vnd.plotly.v1+json": {
       "config": {
        "plotlyServerURL": "https://plot.ly"
       },
       "data": [
        {
         "legendgroup": "interval",
         "line": {
          "color": "rgba(0, 90, 181, 0.5)",
          "width": 0
         },
         "mode": "lines",
         "name": "Lower Bound",
         "type": "scatter",
         "x": [
          "2017-12-31T00:00:00",
          "2018-01-07T00:00:00",
          "2018-01-14T00:00:00",
          "2018-01-21T00:00:00",
          "2018-01-28T00:00:00",
          "2018-02-04T00:00:00",
          "2018-02-11T00:00:00",
          "2018-02-18T00:00:00",
          "2018-02-25T00:00:00",
          "2018-03-04T00:00:00",
          "2018-03-11T00:00:00",
          "2018-03-18T00:00:00",
          "2018-03-25T00:00:00",
          "2018-04-01T00:00:00",
          "2018-04-08T00:00:00",
          "2018-04-15T00:00:00",
          "2018-04-22T00:00:00",
          "2018-04-29T00:00:00",
          "2018-05-06T00:00:00",
          "2018-05-13T00:00:00",
          "2018-05-20T00:00:00",
          "2018-05-27T00:00:00",
          "2018-06-03T00:00:00",
          "2018-06-10T00:00:00",
          "2018-06-17T00:00:00",
          "2018-06-24T00:00:00",
          "2018-07-01T00:00:00",
          "2018-07-08T00:00:00",
          "2018-07-15T00:00:00",
          "2018-07-22T00:00:00",
          "2018-07-29T00:00:00",
          "2018-08-05T00:00:00",
          "2018-08-12T00:00:00",
          "2018-08-19T00:00:00",
          "2018-08-26T00:00:00",
          "2018-09-02T00:00:00",
          "2018-09-09T00:00:00",
          "2018-09-16T00:00:00",
          "2018-09-23T00:00:00",
          "2018-09-30T00:00:00",
          "2018-10-07T00:00:00",
          "2018-10-14T00:00:00",
          "2018-10-21T00:00:00",
          "2018-10-28T00:00:00",
          "2018-11-04T00:00:00",
          "2018-11-11T00:00:00",
          "2018-11-18T00:00:00",
          "2018-11-25T00:00:00",
          "2018-12-02T00:00:00",
          "2018-12-09T00:00:00",
          "2018-12-16T00:00:00",
          "2018-12-23T00:00:00",
          "2018-12-30T00:00:00",
          "2019-01-06T00:00:00",
          "2019-01-13T00:00:00",
          "2019-01-20T00:00:00",
          "2019-01-27T00:00:00",
          "2019-02-03T00:00:00",
          "2019-02-10T00:00:00",
          "2019-02-17T00:00:00",
          "2019-02-24T00:00:00",
          "2019-03-03T00:00:00",
          "2019-03-10T00:00:00",
          "2019-03-17T00:00:00",
          "2019-03-24T00:00:00",
          "2019-03-31T00:00:00",
          "2019-04-07T00:00:00",
          "2019-04-14T00:00:00",
          "2019-04-21T00:00:00",
          "2019-04-28T00:00:00",
          "2019-05-05T00:00:00",
          "2019-05-12T00:00:00",
          "2019-05-19T00:00:00",
          "2019-05-26T00:00:00",
          "2019-06-02T00:00:00",
          "2019-06-09T00:00:00",
          "2019-06-16T00:00:00",
          "2019-06-23T00:00:00",
          "2019-06-30T00:00:00",
          "2019-07-07T00:00:00",
          "2019-07-14T00:00:00",
          "2019-07-21T00:00:00",
          "2019-07-28T00:00:00",
          "2019-08-04T00:00:00",
          "2019-08-11T00:00:00",
          "2019-08-18T00:00:00",
          "2019-08-25T00:00:00",
          "2019-09-01T00:00:00",
          "2019-09-08T00:00:00",
          "2019-09-15T00:00:00",
          "2019-09-22T00:00:00",
          "2019-09-29T00:00:00",
          "2019-10-06T00:00:00",
          "2019-10-13T00:00:00",
          "2019-10-20T00:00:00",
          "2019-10-27T00:00:00",
          "2019-11-03T00:00:00",
          "2019-11-10T00:00:00",
          "2019-11-17T00:00:00",
          "2019-11-24T00:00:00",
          "2019-12-01T00:00:00",
          "2019-12-08T00:00:00",
          "2019-12-15T00:00:00",
          "2019-12-22T00:00:00",
          "2019-12-29T00:00:00",
          "2020-01-05T00:00:00",
          "2020-01-12T00:00:00"
         ],
         "y": [
          46.93934818204934,
          53.35515021734784,
          55.000639473209795,
          55.81315003566092,
          56.44252417777842,
          61.32030446884952,
          61.18309385276063,
          57.54374261891853,
          61.51590038414323,
          61.68793624634825,
          60.304549358843126,
          59.401246031856495,
          57.43201090286246,
          61.063469638238466,
          57.34105428179232,
          57.063745920254874,
          57.77958218897981,
          58.54902501455204,
          57.177699218739455,
          57.232913701914526,
          57.314248024316846,
          47.449213526710324,
          55.5664530409776,
          51.27578194529554,
          44.26781764876672,
          45.65915452595031,
          45.270102736053836,
          45.096777871147175,
          46.47628744005255,
          47.88032833918612,
          45.359307484063436,
          47.30838756425125,
          44.32728735490909,
          43.76068391334575,
          44.70588573468384,
          47.882675803339836,
          52.47897513233362,
          55.3421079147782,
          53.40871151435218,
          53.58831406291351,
          56.323188603190935,
          58.185774837575075,
          62.42414187565905,
          55.47537725428713,
          55.64423358327178,
          57.08783041353778,
          53.98545657579702,
          57.55527860936505,
          59.35954474389768,
          61.647481157663584,
          54.81619944989162,
          42.9626607046693,
          46.84418330500305,
          52.91005795959877,
          54.92237549276053,
          55.70752764765878,
          56.08445656733314,
          60.62274065721993,
          61.77079698657686,
          57.51290873220287,
          60.70259471383786,
          61.82153482009756,
          59.90829939625005,
          59.43427703959535,
          56.7271622290075,
          60.22852734631547,
          57.40588969134211,
          55.929007998551604,
          57.0843098386713,
          57.338960472207624,
          56.75263106887133,
          55.499236828727305,
          57.228226384983245,
          46.64369589595928,
          52.98151559700718,
          51.58725818582038,
          42.836107937643796,
          44.053993383300245,
          43.55659071576039,
          43.459968093698116,
          44.1270498077269,
          46.247577930444734,
          43.36545794818135,
          45.12796793331872,
          42.66692685247009,
          41.3592922449862,
          42.14460204111918,
          44.73015208394139,
          49.55109185448228,
          52.47840915575522,
          51.26619889351115,
          50.29042970141764,
          53.53674794852187,
          54.434555381103344,
          59.460108399865554,
          53.46818314099442,
          51.78737732627859,
          53.86662105378357,
          50.546201213242355,
          53.641438983867346,
          55.576220219288544,
          57.97084770530011,
          52.84885342876124,
          41.44552447287354,
          42.15777005249445,
          48.42425304111398,
          50.68926407216858
         ]
        },
        {
         "fill": "tonexty",
         "fillcolor": "rgba(0, 90, 181, 0.15)",
         "legendgroup": "interval",
         "line": {
          "color": "rgba(0, 90, 181, 0.5)",
          "width": 0
         },
         "mode": "lines",
         "name": "Upper Bound",
         "type": "scatter",
         "x": [
          "2017-12-31T00:00:00",
          "2018-01-07T00:00:00",
          "2018-01-14T00:00:00",
          "2018-01-21T00:00:00",
          "2018-01-28T00:00:00",
          "2018-02-04T00:00:00",
          "2018-02-11T00:00:00",
          "2018-02-18T00:00:00",
          "2018-02-25T00:00:00",
          "2018-03-04T00:00:00",
          "2018-03-11T00:00:00",
          "2018-03-18T00:00:00",
          "2018-03-25T00:00:00",
          "2018-04-01T00:00:00",
          "2018-04-08T00:00:00",
          "2018-04-15T00:00:00",
          "2018-04-22T00:00:00",
          "2018-04-29T00:00:00",
          "2018-05-06T00:00:00",
          "2018-05-13T00:00:00",
          "2018-05-20T00:00:00",
          "2018-05-27T00:00:00",
          "2018-06-03T00:00:00",
          "2018-06-10T00:00:00",
          "2018-06-17T00:00:00",
          "2018-06-24T00:00:00",
          "2018-07-01T00:00:00",
          "2018-07-08T00:00:00",
          "2018-07-15T00:00:00",
          "2018-07-22T00:00:00",
          "2018-07-29T00:00:00",
          "2018-08-05T00:00:00",
          "2018-08-12T00:00:00",
          "2018-08-19T00:00:00",
          "2018-08-26T00:00:00",
          "2018-09-02T00:00:00",
          "2018-09-09T00:00:00",
          "2018-09-16T00:00:00",
          "2018-09-23T00:00:00",
          "2018-09-30T00:00:00",
          "2018-10-07T00:00:00",
          "2018-10-14T00:00:00",
          "2018-10-21T00:00:00",
          "2018-10-28T00:00:00",
          "2018-11-04T00:00:00",
          "2018-11-11T00:00:00",
          "2018-11-18T00:00:00",
          "2018-11-25T00:00:00",
          "2018-12-02T00:00:00",
          "2018-12-09T00:00:00",
          "2018-12-16T00:00:00",
          "2018-12-23T00:00:00",
          "2018-12-30T00:00:00",
          "2019-01-06T00:00:00",
          "2019-01-13T00:00:00",
          "2019-01-20T00:00:00",
          "2019-01-27T00:00:00",
          "2019-02-03T00:00:00",
          "2019-02-10T00:00:00",
          "2019-02-17T00:00:00",
          "2019-02-24T00:00:00",
          "2019-03-03T00:00:00",
          "2019-03-10T00:00:00",
          "2019-03-17T00:00:00",
          "2019-03-24T00:00:00",
          "2019-03-31T00:00:00",
          "2019-04-07T00:00:00",
          "2019-04-14T00:00:00",
          "2019-04-21T00:00:00",
          "2019-04-28T00:00:00",
          "2019-05-05T00:00:00",
          "2019-05-12T00:00:00",
          "2019-05-19T00:00:00",
          "2019-05-26T00:00:00",
          "2019-06-02T00:00:00",
          "2019-06-09T00:00:00",
          "2019-06-16T00:00:00",
          "2019-06-23T00:00:00",
          "2019-06-30T00:00:00",
          "2019-07-07T00:00:00",
          "2019-07-14T00:00:00",
          "2019-07-21T00:00:00",
          "2019-07-28T00:00:00",
          "2019-08-04T00:00:00",
          "2019-08-11T00:00:00",
          "2019-08-18T00:00:00",
          "2019-08-25T00:00:00",
          "2019-09-01T00:00:00",
          "2019-09-08T00:00:00",
          "2019-09-15T00:00:00",
          "2019-09-22T00:00:00",
          "2019-09-29T00:00:00",
          "2019-10-06T00:00:00",
          "2019-10-13T00:00:00",
          "2019-10-20T00:00:00",
          "2019-10-27T00:00:00",
          "2019-11-03T00:00:00",
          "2019-11-10T00:00:00",
          "2019-11-17T00:00:00",
          "2019-11-24T00:00:00",
          "2019-12-01T00:00:00",
          "2019-12-08T00:00:00",
          "2019-12-15T00:00:00",
          "2019-12-22T00:00:00",
          "2019-12-29T00:00:00",
          "2020-01-05T00:00:00",
          "2020-01-12T00:00:00"
         ],
         "y": [
          57.07734711685113,
          63.49314915214963,
          65.13863840801159,
          65.9511489704627,
          66.58052311258021,
          71.45830340365131,
          71.3210927875624,
          67.68174155372031,
          71.65389931894501,
          71.82593518115004,
          70.4425482936449,
          69.53924496665829,
          67.57000983766424,
          71.20146857304024,
          67.47905321659411,
          67.20174485505666,
          67.91758112378159,
          68.68702394935383,
          67.31569815354123,
          67.37091263671631,
          67.45224695911864,
          57.58721246151211,
          65.70445197577939,
          61.41378088009733,
          54.40581658356851,
          55.7971534607521,
          55.40810167085562,
          55.23477680594896,
          56.61428637485434,
          58.01832727398791,
          55.49730641886522,
          57.446386499053034,
          54.465286289710875,
          53.89868284814754,
          54.843884669485625,
          58.02067473814162,
          62.61697406713541,
          65.48010684957998,
          63.54671044915396,
          63.7263129977153,
          66.46118753799271,
          68.32377377237685,
          72.56214081046085,
          65.61337618908891,
          65.78223251807356,
          67.22582934833957,
          64.1234555105988,
          67.69327754416683,
          69.49754367869946,
          71.78548009246538,
          64.9541983846934,
          53.10065963947108,
          56.982182239804835,
          63.04805689440055,
          65.06037442756232,
          65.84552658246056,
          66.22245550213492,
          70.76073959202171,
          71.90879592137864,
          67.65090766700465,
          70.84059364863964,
          71.95953375489935,
          70.04629833105184,
          69.57227597439714,
          66.86516116380929,
          70.36652628111725,
          67.5438886261439,
          66.06700693335338,
          67.22230877347309,
          67.47695940700942,
          66.89063000367312,
          65.63723576352909,
          67.36622531978503,
          56.78169483076107,
          63.11951453180897,
          61.72525712062217,
          52.97410687244558,
          54.19199231810203,
          53.69458965056218,
          53.5979670284999,
          54.265048742528684,
          56.38557686524652,
          53.50345688298314,
          55.26596686812051,
          52.80492578727188,
          51.497291179787986,
          52.282600975920964,
          54.86815101874318,
          59.689090789284066,
          62.61640809055701,
          61.40419782831294,
          60.42842863621942,
          63.67474688332366,
          64.57255431590514,
          69.59810733466733,
          63.606182075796205,
          61.92537626108037,
          64.00461998858535,
          60.68420014804414,
          63.77943791866913,
          65.71421915409033,
          68.10884664010189,
          62.986852363563024,
          51.58352340767532,
          52.295768987296235,
          58.562251975915764,
          60.82726300697036
         ]
        },
        {
         "line": {
          "color": "rgba(250, 43, 20, 0.7)"
         },
         "marker": {
          "color": "rgba(250, 43, 20, 0.7)",
          "size": 2
         },
         "mode": "lines+markers",
         "name": "Actual",
         "opacity": 1,
         "type": "scatter",
         "x": [
          "2017-12-31T00:00:00",
          "2018-01-07T00:00:00",
          "2018-01-14T00:00:00",
          "2018-01-21T00:00:00",
          "2018-01-28T00:00:00",
          "2018-02-04T00:00:00",
          "2018-02-11T00:00:00",
          "2018-02-18T00:00:00",
          "2018-02-25T00:00:00",
          "2018-03-04T00:00:00",
          "2018-03-11T00:00:00",
          "2018-03-18T00:00:00",
          "2018-03-25T00:00:00",
          "2018-04-01T00:00:00",
          "2018-04-08T00:00:00",
          "2018-04-15T00:00:00",
          "2018-04-22T00:00:00",
          "2018-04-29T00:00:00",
          "2018-05-06T00:00:00",
          "2018-05-13T00:00:00",
          "2018-05-20T00:00:00",
          "2018-05-27T00:00:00",
          "2018-06-03T00:00:00",
          "2018-06-10T00:00:00",
          "2018-06-17T00:00:00",
          "2018-06-24T00:00:00",
          "2018-07-01T00:00:00",
          "2018-07-08T00:00:00",
          "2018-07-15T00:00:00",
          "2018-07-22T00:00:00",
          "2018-07-29T00:00:00",
          "2018-08-05T00:00:00",
          "2018-08-12T00:00:00",
          "2018-08-19T00:00:00",
          "2018-08-26T00:00:00",
          "2018-09-02T00:00:00",
          "2018-09-09T00:00:00",
          "2018-09-16T00:00:00",
          "2018-09-23T00:00:00",
          "2018-09-30T00:00:00",
          "2018-10-07T00:00:00",
          "2018-10-14T00:00:00",
          "2018-10-21T00:00:00",
          "2018-10-28T00:00:00",
          "2018-11-04T00:00:00",
          "2018-11-11T00:00:00",
          "2018-11-18T00:00:00",
          "2018-11-25T00:00:00",
          "2018-12-02T00:00:00",
          "2018-12-09T00:00:00",
          "2018-12-16T00:00:00",
          "2018-12-23T00:00:00",
          "2018-12-30T00:00:00",
          "2019-01-06T00:00:00",
          "2019-01-13T00:00:00",
          "2019-01-20T00:00:00",
          "2019-01-27T00:00:00",
          "2019-02-03T00:00:00",
          "2019-02-10T00:00:00",
          "2019-02-17T00:00:00",
          "2019-02-24T00:00:00",
          "2019-03-03T00:00:00",
          "2019-03-10T00:00:00",
          "2019-03-17T00:00:00",
          "2019-03-24T00:00:00",
          "2019-03-31T00:00:00",
          "2019-04-07T00:00:00",
          "2019-04-14T00:00:00",
          "2019-04-21T00:00:00",
          "2019-04-28T00:00:00",
          "2019-05-05T00:00:00",
          "2019-05-12T00:00:00",
          "2019-05-19T00:00:00",
          "2019-05-26T00:00:00",
          "2019-06-02T00:00:00",
          "2019-06-09T00:00:00",
          "2019-06-16T00:00:00",
          "2019-06-23T00:00:00",
          "2019-06-30T00:00:00",
          "2019-07-07T00:00:00",
          "2019-07-14T00:00:00",
          "2019-07-21T00:00:00",
          "2019-07-28T00:00:00",
          "2019-08-04T00:00:00",
          "2019-08-11T00:00:00",
          "2019-08-18T00:00:00",
          "2019-08-25T00:00:00",
          "2019-09-01T00:00:00",
          "2019-09-08T00:00:00",
          "2019-09-15T00:00:00",
          "2019-09-22T00:00:00",
          "2019-09-29T00:00:00",
          "2019-10-06T00:00:00",
          "2019-10-13T00:00:00",
          "2019-10-20T00:00:00",
          "2019-10-27T00:00:00",
          "2019-11-03T00:00:00",
          "2019-11-10T00:00:00",
          "2019-11-17T00:00:00",
          "2019-11-24T00:00:00",
          "2019-12-01T00:00:00",
          "2019-12-08T00:00:00",
          "2019-12-15T00:00:00",
          "2019-12-22T00:00:00",
          "2019-12-29T00:00:00",
          "2020-01-05T00:00:00",
          "2020-01-12T00:00:00"
         ],
         "y": [
          50.4,
          57.1,
          53.7,
          63.6,
          61.3,
          64.5,
          63.2,
          59.5,
          68.2,
          66.2,
          63.1,
          63.4,
          58.8,
          63.9,
          65.9,
          62.9,
          61,
          61.1,
          62.1,
          61.4,
          62.4,
          50.7,
          65.8,
          62.5,
          47.9,
          52.5,
          50.1,
          49.4,
          51.2,
          49.3,
          46.2,
          49.4,
          50.4,
          46.2,
          48.9,
          53.9,
          55.6,
          63,
          58.8,
          57.3,
          62.7,
          61.9,
          69.5,
          61,
          60.9,
          63,
          58.8,
          63.7,
          65.4,
          68.7,
          59.9,
          45.9,
          51.7,
          58.9,
          66.2,
          60.2,
          60.2,
          70,
          70.5,
          67.8,
          65.4,
          69.4,
          68.1,
          67.6,
          65.1,
          70.6,
          59.6,
          60.9,
          64,
          66.7,
          62.4,
          62.6,
          62.7,
          52.8,
          53.8,
          49.8,
          46.2,
          46.5,
          45.7,
          48.2,
          46.8,
          53.9,
          50.1,
          52.7,
          44.3,
          46.6,
          46.2,
          47.6,
          55.7,
          56.3,
          54.7,
          57.4,
          57.3,
          62,
          58.2,
          56.6,
          59.3,
          57.8,
          66.8,
          49.5,
          55.6,
          63.6,
          50,
          39.9,
          42.8,
          58.7,
          59.1
         ]
        },
        {
         "line": {
          "color": "rgba(0, 90, 181, 0.7)",
          "dash": "solid"
         },
         "name": "Forecast",
         "type": "scatter",
         "x": [
          "2017-12-31T00:00:00",
          "2018-01-07T00:00:00",
          "2018-01-14T00:00:00",
          "2018-01-21T00:00:00",
          "2018-01-28T00:00:00",
          "2018-02-04T00:00:00",
          "2018-02-11T00:00:00",
          "2018-02-18T00:00:00",
          "2018-02-25T00:00:00",
          "2018-03-04T00:00:00",
          "2018-03-11T00:00:00",
          "2018-03-18T00:00:00",
          "2018-03-25T00:00:00",
          "2018-04-01T00:00:00",
          "2018-04-08T00:00:00",
          "2018-04-15T00:00:00",
          "2018-04-22T00:00:00",
          "2018-04-29T00:00:00",
          "2018-05-06T00:00:00",
          "2018-05-13T00:00:00",
          "2018-05-20T00:00:00",
          "2018-05-27T00:00:00",
          "2018-06-03T00:00:00",
          "2018-06-10T00:00:00",
          "2018-06-17T00:00:00",
          "2018-06-24T00:00:00",
          "2018-07-01T00:00:00",
          "2018-07-08T00:00:00",
          "2018-07-15T00:00:00",
          "2018-07-22T00:00:00",
          "2018-07-29T00:00:00",
          "2018-08-05T00:00:00",
          "2018-08-12T00:00:00",
          "2018-08-19T00:00:00",
          "2018-08-26T00:00:00",
          "2018-09-02T00:00:00",
          "2018-09-09T00:00:00",
          "2018-09-16T00:00:00",
          "2018-09-23T00:00:00",
          "2018-09-30T00:00:00",
          "2018-10-07T00:00:00",
          "2018-10-14T00:00:00",
          "2018-10-21T00:00:00",
          "2018-10-28T00:00:00",
          "2018-11-04T00:00:00",
          "2018-11-11T00:00:00",
          "2018-11-18T00:00:00",
          "2018-11-25T00:00:00",
          "2018-12-02T00:00:00",
          "2018-12-09T00:00:00",
          "2018-12-16T00:00:00",
          "2018-12-23T00:00:00",
          "2018-12-30T00:00:00",
          "2019-01-06T00:00:00",
          "2019-01-13T00:00:00",
          "2019-01-20T00:00:00",
          "2019-01-27T00:00:00",
          "2019-02-03T00:00:00",
          "2019-02-10T00:00:00",
          "2019-02-17T00:00:00",
          "2019-02-24T00:00:00",
          "2019-03-03T00:00:00",
          "2019-03-10T00:00:00",
          "2019-03-17T00:00:00",
          "2019-03-24T00:00:00",
          "2019-03-31T00:00:00",
          "2019-04-07T00:00:00",
          "2019-04-14T00:00:00",
          "2019-04-21T00:00:00",
          "2019-04-28T00:00:00",
          "2019-05-05T00:00:00",
          "2019-05-12T00:00:00",
          "2019-05-19T00:00:00",
          "2019-05-26T00:00:00",
          "2019-06-02T00:00:00",
          "2019-06-09T00:00:00",
          "2019-06-16T00:00:00",
          "2019-06-23T00:00:00",
          "2019-06-30T00:00:00",
          "2019-07-07T00:00:00",
          "2019-07-14T00:00:00",
          "2019-07-21T00:00:00",
          "2019-07-28T00:00:00",
          "2019-08-04T00:00:00",
          "2019-08-11T00:00:00",
          "2019-08-18T00:00:00",
          "2019-08-25T00:00:00",
          "2019-09-01T00:00:00",
          "2019-09-08T00:00:00",
          "2019-09-15T00:00:00",
          "2019-09-22T00:00:00",
          "2019-09-29T00:00:00",
          "2019-10-06T00:00:00",
          "2019-10-13T00:00:00",
          "2019-10-20T00:00:00",
          "2019-10-27T00:00:00",
          "2019-11-03T00:00:00",
          "2019-11-10T00:00:00",
          "2019-11-17T00:00:00",
          "2019-11-24T00:00:00",
          "2019-12-01T00:00:00",
          "2019-12-08T00:00:00",
          "2019-12-15T00:00:00",
          "2019-12-22T00:00:00",
          "2019-12-29T00:00:00",
          "2020-01-05T00:00:00",
          "2020-01-12T00:00:00"
         ],
         "y": [
          52.008347649450236,
          58.424149684748734,
          60.06963894061069,
          60.88214950306181,
          61.51152364517931,
          66.38930393625041,
          66.25209332016152,
          62.61274208631942,
          66.58489985154412,
          66.75693571374914,
          65.37354882624402,
          64.47024549925739,
          62.50101037026335,
          66.13246910563936,
          62.41005374919321,
          62.13274538765577,
          62.8485816563807,
          63.618024481952936,
          62.24669868614035,
          62.30191316931542,
          62.38324749171774,
          52.51821299411122,
          60.63545250837849,
          56.344781412696435,
          49.336817116167616,
          50.72815399335121,
          50.33910220345473,
          50.16577733854807,
          51.545286907453445,
          52.949327806587014,
          50.42830695146433,
          52.37738703165214,
          49.39628682230998,
          48.829683380746644,
          49.77488520208473,
          52.95167527074073,
          57.547974599734516,
          60.41110738217909,
          58.47771098175307,
          58.657313530314404,
          61.39218807059183,
          63.25477430497597,
          67.49314134305995,
          60.544376721688025,
          60.71323305067267,
          62.15682988093867,
          59.054456043197916,
          62.62427807676594,
          64.42854421129857,
          66.71648062506448,
          59.88519891729251,
          48.03166017207019,
          51.91318277240394,
          57.97905742699966,
          59.99137496016142,
          60.77652711505967,
          61.153456034734035,
          65.69174012462082,
          66.83979645397775,
          62.58190819960376,
          65.77159418123875,
          66.89053428749845,
          64.97729886365094,
          64.50327650699624,
          61.79616169640839,
          65.29752681371636,
          62.474889158743004,
          60.9980074659525,
          62.153309306072195,
          62.40795993960852,
          61.821630536272224,
          60.5682362961282,
          62.29722585238414,
          51.712695363360176,
          58.050515064408074,
          56.656257653221274,
          47.90510740504469,
          49.12299285070114,
          48.625590183161286,
          48.52896756109901,
          49.19604927512779,
          51.31657739784563,
          48.434457415582244,
          50.196967400719615,
          47.735926319870984,
          46.42829171238709,
          47.21360150852007,
          49.799151551342284,
          54.62009132188317,
          57.547408623156116,
          56.335198360912045,
          55.35942916881853,
          58.605747415922764,
          59.50355484850424,
          64.52910786726645,
          58.53718260839531,
          56.85637679367948,
          58.93562052118446,
          55.61520068064325,
          58.71043845126824,
          60.64521968668944,
          63.039847172701,
          57.91785289616213,
          46.51452394027443,
          47.22676951989534,
          53.49325250851487,
          55.75826353956947
         ]
        }
       ],
       "layout": {
        "annotations": [
         {
          "arrowhead": 0,
          "ax": -60,
          "ay": 0,
          "showarrow": true,
          "text": "Train End Date",
          "x": "2019-10-13T00:00:00",
          "xref": "x",
          "y": 0.97,
          "yref": "paper"
         }
        ],
        "autosize": true,
        "legend": {
         "traceorder": "reversed"
        },
        "shapes": [
         {
          "line": {
           "color": "rgba(100, 100, 100, 0.9)",
           "width": 1
          },
          "type": "line",
          "x0": "2019-10-13T00:00:00",
          "x1": "2019-10-13T00:00:00",
          "xref": "x",
          "y0": 0,
          "y1": 1,
          "yref": "paper"
         }
        ],
        "showlegend": true,
        "template": {
         "data": {
          "bar": [
           {
            "error_x": {
             "color": "#2a3f5f"
            },
            "error_y": {
             "color": "#2a3f5f"
            },
            "marker": {
             "line": {
              "color": "#E5ECF6",
              "width": 0.5
             },
             "pattern": {
              "fillmode": "overlay",
              "size": 10,
              "solidity": 0.2
             }
            },
            "type": "bar"
           }
          ],
          "barpolar": [
           {
            "marker": {
             "line": {
              "color": "#E5ECF6",
              "width": 0.5
             },
             "pattern": {
              "fillmode": "overlay",
              "size": 10,
              "solidity": 0.2
             }
            },
            "type": "barpolar"
           }
          ],
          "carpet": [
           {
            "aaxis": {
             "endlinecolor": "#2a3f5f",
             "gridcolor": "white",
             "linecolor": "white",
             "minorgridcolor": "white",
             "startlinecolor": "#2a3f5f"
            },
            "baxis": {
             "endlinecolor": "#2a3f5f",
             "gridcolor": "white",
             "linecolor": "white",
             "minorgridcolor": "white",
             "startlinecolor": "#2a3f5f"
            },
            "type": "carpet"
           }
          ],
          "choropleth": [
           {
            "colorbar": {
             "outlinewidth": 0,
             "ticks": ""
            },
            "type": "choropleth"
           }
          ],
          "contour": [
           {
            "colorbar": {
             "outlinewidth": 0,
             "ticks": ""
            },
            "colorscale": [
             [
              0,
              "#0d0887"
             ],
             [
              0.1111111111111111,
              "#46039f"
             ],
             [
              0.2222222222222222,
              "#7201a8"
             ],
             [
              0.3333333333333333,
              "#9c179e"
             ],
             [
              0.4444444444444444,
              "#bd3786"
             ],
             [
              0.5555555555555556,
              "#d8576b"
             ],
             [
              0.6666666666666666,
              "#ed7953"
             ],
             [
              0.7777777777777778,
              "#fb9f3a"
             ],
             [
              0.8888888888888888,
              "#fdca26"
             ],
             [
              1,
              "#f0f921"
             ]
            ],
            "type": "contour"
           }
          ],
          "contourcarpet": [
           {
            "colorbar": {
             "outlinewidth": 0,
             "ticks": ""
            },
            "type": "contourcarpet"
           }
          ],
          "heatmap": [
           {
            "colorbar": {
             "outlinewidth": 0,
             "ticks": ""
            },
            "colorscale": [
             [
              0,
              "#0d0887"
             ],
             [
              0.1111111111111111,
              "#46039f"
             ],
             [
              0.2222222222222222,
              "#7201a8"
             ],
             [
              0.3333333333333333,
              "#9c179e"
             ],
             [
              0.4444444444444444,
              "#bd3786"
             ],
             [
              0.5555555555555556,
              "#d8576b"
             ],
             [
              0.6666666666666666,
              "#ed7953"
             ],
             [
              0.7777777777777778,
              "#fb9f3a"
             ],
             [
              0.8888888888888888,
              "#fdca26"
             ],
             [
              1,
              "#f0f921"
             ]
            ],
            "type": "heatmap"
           }
          ],
          "heatmapgl": [
           {
            "colorbar": {
             "outlinewidth": 0,
             "ticks": ""
            },
            "colorscale": [
             [
              0,
              "#0d0887"
             ],
             [
              0.1111111111111111,
              "#46039f"
             ],
             [
              0.2222222222222222,
              "#7201a8"
             ],
             [
              0.3333333333333333,
              "#9c179e"
             ],
             [
              0.4444444444444444,
              "#bd3786"
             ],
             [
              0.5555555555555556,
              "#d8576b"
             ],
             [
              0.6666666666666666,
              "#ed7953"
             ],
             [
              0.7777777777777778,
              "#fb9f3a"
             ],
             [
              0.8888888888888888,
              "#fdca26"
             ],
             [
              1,
              "#f0f921"
             ]
            ],
            "type": "heatmapgl"
           }
          ],
          "histogram": [
           {
            "marker": {
             "pattern": {
              "fillmode": "overlay",
              "size": 10,
              "solidity": 0.2
             }
            },
            "type": "histogram"
           }
          ],
          "histogram2d": [
           {
            "colorbar": {
             "outlinewidth": 0,
             "ticks": ""
            },
            "colorscale": [
             [
              0,
              "#0d0887"
             ],
             [
              0.1111111111111111,
              "#46039f"
             ],
             [
              0.2222222222222222,
              "#7201a8"
             ],
             [
              0.3333333333333333,
              "#9c179e"
             ],
             [
              0.4444444444444444,
              "#bd3786"
             ],
             [
              0.5555555555555556,
              "#d8576b"
             ],
             [
              0.6666666666666666,
              "#ed7953"
             ],
             [
              0.7777777777777778,
              "#fb9f3a"
             ],
             [
              0.8888888888888888,
              "#fdca26"
             ],
             [
              1,
              "#f0f921"
             ]
            ],
            "type": "histogram2d"
           }
          ],
          "histogram2dcontour": [
           {
            "colorbar": {
             "outlinewidth": 0,
             "ticks": ""
            },
            "colorscale": [
             [
              0,
              "#0d0887"
             ],
             [
              0.1111111111111111,
              "#46039f"
             ],
             [
              0.2222222222222222,
              "#7201a8"
             ],
             [
              0.3333333333333333,
              "#9c179e"
             ],
             [
              0.4444444444444444,
              "#bd3786"
             ],
             [
              0.5555555555555556,
              "#d8576b"
             ],
             [
              0.6666666666666666,
              "#ed7953"
             ],
             [
              0.7777777777777778,
              "#fb9f3a"
             ],
             [
              0.8888888888888888,
              "#fdca26"
             ],
             [
              1,
              "#f0f921"
             ]
            ],
            "type": "histogram2dcontour"
           }
          ],
          "mesh3d": [
           {
            "colorbar": {
             "outlinewidth": 0,
             "ticks": ""
            },
            "type": "mesh3d"
           }
          ],
          "parcoords": [
           {
            "line": {
             "colorbar": {
              "outlinewidth": 0,
              "ticks": ""
             }
            },
            "type": "parcoords"
           }
          ],
          "pie": [
           {
            "automargin": true,
            "type": "pie"
           }
          ],
          "scatter": [
           {
            "fillpattern": {
             "fillmode": "overlay",
             "size": 10,
             "solidity": 0.2
            },
            "type": "scatter"
           }
          ],
          "scatter3d": [
           {
            "line": {
             "colorbar": {
              "outlinewidth": 0,
              "ticks": ""
             }
            },
            "marker": {
             "colorbar": {
              "outlinewidth": 0,
              "ticks": ""
             }
            },
            "type": "scatter3d"
           }
          ],
          "scattercarpet": [
           {
            "marker": {
             "colorbar": {
              "outlinewidth": 0,
              "ticks": ""
             }
            },
            "type": "scattercarpet"
           }
          ],
          "scattergeo": [
           {
            "marker": {
             "colorbar": {
              "outlinewidth": 0,
              "ticks": ""
             }
            },
            "type": "scattergeo"
           }
          ],
          "scattergl": [
           {
            "marker": {
             "colorbar": {
              "outlinewidth": 0,
              "ticks": ""
             }
            },
            "type": "scattergl"
           }
          ],
          "scattermapbox": [
           {
            "marker": {
             "colorbar": {
              "outlinewidth": 0,
              "ticks": ""
             }
            },
            "type": "scattermapbox"
           }
          ],
          "scatterpolar": [
           {
            "marker": {
             "colorbar": {
              "outlinewidth": 0,
              "ticks": ""
             }
            },
            "type": "scatterpolar"
           }
          ],
          "scatterpolargl": [
           {
            "marker": {
             "colorbar": {
              "outlinewidth": 0,
              "ticks": ""
             }
            },
            "type": "scatterpolargl"
           }
          ],
          "scatterternary": [
           {
            "marker": {
             "colorbar": {
              "outlinewidth": 0,
              "ticks": ""
             }
            },
            "type": "scatterternary"
           }
          ],
          "surface": [
           {
            "colorbar": {
             "outlinewidth": 0,
             "ticks": ""
            },
            "colorscale": [
             [
              0,
              "#0d0887"
             ],
             [
              0.1111111111111111,
              "#46039f"
             ],
             [
              0.2222222222222222,
              "#7201a8"
             ],
             [
              0.3333333333333333,
              "#9c179e"
             ],
             [
              0.4444444444444444,
              "#bd3786"
             ],
             [
              0.5555555555555556,
              "#d8576b"
             ],
             [
              0.6666666666666666,
              "#ed7953"
             ],
             [
              0.7777777777777778,
              "#fb9f3a"
             ],
             [
              0.8888888888888888,
              "#fdca26"
             ],
             [
              1,
              "#f0f921"
             ]
            ],
            "type": "surface"
           }
          ],
          "table": [
           {
            "cells": {
             "fill": {
              "color": "#EBF0F8"
             },
             "line": {
              "color": "white"
             }
            },
            "header": {
             "fill": {
              "color": "#C8D4E3"
             },
             "line": {
              "color": "white"
             }
            },
            "type": "table"
           }
          ]
         },
         "layout": {
          "annotationdefaults": {
           "arrowcolor": "#2a3f5f",
           "arrowhead": 0,
           "arrowwidth": 1
          },
          "autotypenumbers": "strict",
          "coloraxis": {
           "colorbar": {
            "outlinewidth": 0,
            "ticks": ""
           }
          },
          "colorscale": {
           "diverging": [
            [
             0,
             "#8e0152"
            ],
            [
             0.1,
             "#c51b7d"
            ],
            [
             0.2,
             "#de77ae"
            ],
            [
             0.3,
             "#f1b6da"
            ],
            [
             0.4,
             "#fde0ef"
            ],
            [
             0.5,
             "#f7f7f7"
            ],
            [
             0.6,
             "#e6f5d0"
            ],
            [
             0.7,
             "#b8e186"
            ],
            [
             0.8,
             "#7fbc41"
            ],
            [
             0.9,
             "#4d9221"
            ],
            [
             1,
             "#276419"
            ]
           ],
           "sequential": [
            [
             0,
             "#0d0887"
            ],
            [
             0.1111111111111111,
             "#46039f"
            ],
            [
             0.2222222222222222,
             "#7201a8"
            ],
            [
             0.3333333333333333,
             "#9c179e"
            ],
            [
             0.4444444444444444,
             "#bd3786"
            ],
            [
             0.5555555555555556,
             "#d8576b"
            ],
            [
             0.6666666666666666,
             "#ed7953"
            ],
            [
             0.7777777777777778,
             "#fb9f3a"
            ],
            [
             0.8888888888888888,
             "#fdca26"
            ],
            [
             1,
             "#f0f921"
            ]
           ],
           "sequentialminus": [
            [
             0,
             "#0d0887"
            ],
            [
             0.1111111111111111,
             "#46039f"
            ],
            [
             0.2222222222222222,
             "#7201a8"
            ],
            [
             0.3333333333333333,
             "#9c179e"
            ],
            [
             0.4444444444444444,
             "#bd3786"
            ],
            [
             0.5555555555555556,
             "#d8576b"
            ],
            [
             0.6666666666666666,
             "#ed7953"
            ],
            [
             0.7777777777777778,
             "#fb9f3a"
            ],
            [
             0.8888888888888888,
             "#fdca26"
            ],
            [
             1,
             "#f0f921"
            ]
           ]
          },
          "colorway": [
           "#636efa",
           "#EF553B",
           "#00cc96",
           "#ab63fa",
           "#FFA15A",
           "#19d3f3",
           "#FF6692",
           "#B6E880",
           "#FF97FF",
           "#FECB52"
          ],
          "font": {
           "color": "#2a3f5f"
          },
          "geo": {
           "bgcolor": "white",
           "lakecolor": "white",
           "landcolor": "#E5ECF6",
           "showlakes": true,
           "showland": true,
           "subunitcolor": "white"
          },
          "hoverlabel": {
           "align": "left"
          },
          "hovermode": "closest",
          "mapbox": {
           "style": "light"
          },
          "paper_bgcolor": "white",
          "plot_bgcolor": "#E5ECF6",
          "polar": {
           "angularaxis": {
            "gridcolor": "white",
            "linecolor": "white",
            "ticks": ""
           },
           "bgcolor": "#E5ECF6",
           "radialaxis": {
            "gridcolor": "white",
            "linecolor": "white",
            "ticks": ""
           }
          },
          "scene": {
           "xaxis": {
            "backgroundcolor": "#E5ECF6",
            "gridcolor": "white",
            "gridwidth": 2,
            "linecolor": "white",
            "showbackground": true,
            "ticks": "",
            "zerolinecolor": "white"
           },
           "yaxis": {
            "backgroundcolor": "#E5ECF6",
            "gridcolor": "white",
            "gridwidth": 2,
            "linecolor": "white",
            "showbackground": true,
            "ticks": "",
            "zerolinecolor": "white"
           },
           "zaxis": {
            "backgroundcolor": "#E5ECF6",
            "gridcolor": "white",
            "gridwidth": 2,
            "linecolor": "white",
            "showbackground": true,
            "ticks": "",
            "zerolinecolor": "white"
           }
          },
          "shapedefaults": {
           "line": {
            "color": "#2a3f5f"
           }
          },
          "ternary": {
           "aaxis": {
            "gridcolor": "white",
            "linecolor": "white",
            "ticks": ""
           },
           "baxis": {
            "gridcolor": "white",
            "linecolor": "white",
            "ticks": ""
           },
           "bgcolor": "#E5ECF6",
           "caxis": {
            "gridcolor": "white",
            "linecolor": "white",
            "ticks": ""
           }
          },
          "title": {
           "x": 0.05
          },
          "xaxis": {
           "automargin": true,
           "gridcolor": "white",
           "linecolor": "white",
           "ticks": "",
           "title": {
            "standoff": 15
           },
           "zerolinecolor": "white",
           "zerolinewidth": 2
          },
          "yaxis": {
           "automargin": true,
           "gridcolor": "white",
           "linecolor": "white",
           "ticks": "",
           "title": {
            "standoff": 15
           },
           "zerolinecolor": "white",
           "zerolinewidth": 2
          }
         }
        },
        "title": {
         "text": "Forecast vs Actual",
         "x": 0.5
        },
        "xaxis": {
         "autorange": true,
         "range": [
          "2017-11-17 14:17:35.7967",
          "2020-02-24 09:42:24.2033"
         ],
         "title": {
          "text": "ts"
         },
         "type": "date"
        },
        "yaxis": {
         "autorange": true,
         "range": [
          37.43493276902182,
          74.41094123369447
         ],
         "title": {
          "text": "y"
         },
         "type": "linear"
        }
       }
      },
      "image/png": "[encoded data removed]",
      "text/html": [
       "<div>                            <div id=\"0017d68a-d4c3-4fcc-b012-7fe873e7271c\" class=\"plotly-graph-div\" style=\"height:525px; width:100%;\"></div>            <script type=\"text/javascript\">                require([\"plotly\"], function(Plotly) {                    window.PLOTLYENV=window.PLOTLYENV || {};                                    if (document.getElementById(\"0017d68a-d4c3-4fcc-b012-7fe873e7271c\")) {                    Plotly.newPlot(                        \"0017d68a-d4c3-4fcc-b012-7fe873e7271c\",                        [{\"legendgroup\":\"interval\",\"line\":{\"color\":\"rgba(0, 90, 181, 0.5)\",\"width\":0.0},\"mode\":\"lines\",\"name\":\"Lower Bound\",\"x\":[\"2017-12-31T00:00:00\",\"2018-01-07T00:00:00\",\"2018-01-14T00:00:00\",\"2018-01-21T00:00:00\",\"2018-01-28T00:00:00\",\"2018-02-04T00:00:00\",\"2018-02-11T00:00:00\",\"2018-02-18T00:00:00\",\"2018-02-25T00:00:00\",\"2018-03-04T00:00:00\",\"2018-03-11T00:00:00\",\"2018-03-18T00:00:00\",\"2018-03-25T00:00:00\",\"2018-04-01T00:00:00\",\"2018-04-08T00:00:00\",\"2018-04-15T00:00:00\",\"2018-04-22T00:00:00\",\"2018-04-29T00:00:00\",\"2018-05-06T00:00:00\",\"2018-05-13T00:00:00\",\"2018-05-20T00:00:00\",\"2018-05-27T00:00:00\",\"2018-06-03T00:00:00\",\"2018-06-10T00:00:00\",\"2018-06-17T00:00:00\",\"2018-06-24T00:00:00\",\"2018-07-01T00:00:00\",\"2018-07-08T00:00:00\",\"2018-07-15T00:00:00\",\"2018-07-22T00:00:00\",\"2018-07-29T00:00:00\",\"2018-08-05T00:00:00\",\"2018-08-12T00:00:00\",\"2018-08-19T00:00:00\",\"2018-08-26T00:00:00\",\"2018-09-02T00:00:00\",\"2018-09-09T00:00:00\",\"2018-09-16T00:00:00\",\"2018-09-23T00:00:00\",\"2018-09-30T00:00:00\",\"2018-10-07T00:00:00\",\"2018-10-14T00:00:00\",\"2018-10-21T00:00:00\",\"2018-10-28T00:00:00\",\"2018-11-04T00:00:00\",\"2018-11-11T00:00:00\",\"2018-11-18T00:00:00\",\"2018-11-25T00:00:00\",\"2018-12-02T00:00:00\",\"2018-12-09T00:00:00\",\"2018-12-16T00:00:00\",\"2018-12-23T00:00:00\",\"2018-12-30T00:00:00\",\"2019-01-06T00:00:00\",\"2019-01-13T00:00:00\",\"2019-01-20T00:00:00\",\"2019-01-27T00:00:00\",\"2019-02-03T00:00:00\",\"2019-02-10T00:00:00\",\"2019-02-17T00:00:00\",\"2019-02-24T00:00:00\",\"2019-03-03T00:00:00\",\"2019-03-10T00:00:00\",\"2019-03-17T00:00:00\",\"2019-03-24T00:00:00\",\"2019-03-31T00:00:00\",\"2019-04-07T00:00:00\",\"2019-04-14T00:00:00\",\"2019-04-21T00:00:00\",\"2019-04-28T00:00:00\",\"2019-05-05T00:00:00\",\"2019-05-12T00:00:00\",\"2019-05-19T00:00:00\",\"2019-05-26T00:00:00\",\"2019-06-02T00:00:00\",\"2019-06-09T00:00:00\",\"2019-06-16T00:00:00\",\"2019-06-23T00:00:00\",\"2019-06-30T00:00:00\",\"2019-07-07T00:00:00\",\"2019-07-14T00:00:00\",\"2019-07-21T00:00:00\",\"2019-07-28T00:00:00\",\"2019-08-04T00:00:00\",\"2019-08-11T00:00:00\",\"2019-08-18T00:00:00\",\"2019-08-25T00:00:00\",\"2019-09-01T00:00:00\",\"2019-09-08T00:00:00\",\"2019-09-15T00:00:00\",\"2019-09-22T00:00:00\",\"2019-09-29T00:00:00\",\"2019-10-06T00:00:00\",\"2019-10-13T00:00:00\",\"2019-10-20T00:00:00\",\"2019-10-27T00:00:00\",\"2019-11-03T00:00:00\",\"2019-11-10T00:00:00\",\"2019-11-17T00:00:00\",\"2019-11-24T00:00:00\",\"2019-12-01T00:00:00\",\"2019-12-08T00:00:00\",\"2019-12-15T00:00:00\",\"2019-12-22T00:00:00\",\"2019-12-29T00:00:00\",\"2020-01-05T00:00:00\",\"2020-01-12T00:00:00\"],\"y\":[46.93934818204934,53.35515021734784,55.000639473209795,55.81315003566092,56.44252417777842,61.32030446884952,61.18309385276063,57.54374261891853,61.51590038414323,61.68793624634825,60.304549358843126,59.401246031856495,57.43201090286246,61.063469638238466,57.34105428179232,57.063745920254874,57.77958218897981,58.54902501455204,57.177699218739455,57.232913701914526,57.314248024316846,47.449213526710324,55.5664530409776,51.27578194529554,44.26781764876672,45.65915452595031,45.270102736053836,45.096777871147175,46.47628744005255,47.88032833918612,45.359307484063436,47.30838756425125,44.32728735490909,43.76068391334575,44.70588573468384,47.882675803339836,52.47897513233362,55.3421079147782,53.40871151435218,53.58831406291351,56.323188603190935,58.185774837575075,62.42414187565905,55.47537725428713,55.64423358327178,57.08783041353778,53.98545657579702,57.55527860936505,59.35954474389768,61.647481157663584,54.81619944989162,42.9626607046693,46.84418330500305,52.91005795959877,54.92237549276053,55.70752764765878,56.08445656733314,60.62274065721993,61.77079698657686,57.51290873220287,60.70259471383786,61.82153482009756,59.90829939625005,59.43427703959535,56.7271622290075,60.22852734631547,57.40588969134211,55.929007998551604,57.0843098386713,57.338960472207624,56.75263106887133,55.499236828727305,57.228226384983245,46.64369589595928,52.98151559700718,51.58725818582038,42.836107937643796,44.053993383300245,43.55659071576039,43.459968093698116,44.1270498077269,46.247577930444734,43.36545794818135,45.12796793331872,42.66692685247009,41.3592922449862,42.14460204111918,44.73015208394139,49.55109185448228,52.47840915575522,51.26619889351115,50.29042970141764,53.53674794852187,54.434555381103344,59.460108399865554,53.46818314099442,51.78737732627859,53.86662105378357,50.546201213242355,53.641438983867346,55.576220219288544,57.97084770530011,52.84885342876124,41.44552447287354,42.15777005249445,48.42425304111398,50.68926407216858],\"type\":\"scatter\"},{\"fill\":\"tonexty\",\"fillcolor\":\"rgba(0, 90, 181, 0.15)\",\"legendgroup\":\"interval\",\"line\":{\"color\":\"rgba(0, 90, 181, 0.5)\",\"width\":0.0},\"mode\":\"lines\",\"name\":\"Upper Bound\",\"x\":[\"2017-12-31T00:00:00\",\"2018-01-07T00:00:00\",\"2018-01-14T00:00:00\",\"2018-01-21T00:00:00\",\"2018-01-28T00:00:00\",\"2018-02-04T00:00:00\",\"2018-02-11T00:00:00\",\"2018-02-18T00:00:00\",\"2018-02-25T00:00:00\",\"2018-03-04T00:00:00\",\"2018-03-11T00:00:00\",\"2018-03-18T00:00:00\",\"2018-03-25T00:00:00\",\"2018-04-01T00:00:00\",\"2018-04-08T00:00:00\",\"2018-04-15T00:00:00\",\"2018-04-22T00:00:00\",\"2018-04-29T00:00:00\",\"2018-05-06T00:00:00\",\"2018-05-13T00:00:00\",\"2018-05-20T00:00:00\",\"2018-05-27T00:00:00\",\"2018-06-03T00:00:00\",\"2018-06-10T00:00:00\",\"2018-06-17T00:00:00\",\"2018-06-24T00:00:00\",\"2018-07-01T00:00:00\",\"2018-07-08T00:00:00\",\"2018-07-15T00:00:00\",\"2018-07-22T00:00:00\",\"2018-07-29T00:00:00\",\"2018-08-05T00:00:00\",\"2018-08-12T00:00:00\",\"2018-08-19T00:00:00\",\"2018-08-26T00:00:00\",\"2018-09-02T00:00:00\",\"2018-09-09T00:00:00\",\"2018-09-16T00:00:00\",\"2018-09-23T00:00:00\",\"2018-09-30T00:00:00\",\"2018-10-07T00:00:00\",\"2018-10-14T00:00:00\",\"2018-10-21T00:00:00\",\"2018-10-28T00:00:00\",\"2018-11-04T00:00:00\",\"2018-11-11T00:00:00\",\"2018-11-18T00:00:00\",\"2018-11-25T00:00:00\",\"2018-12-02T00:00:00\",\"2018-12-09T00:00:00\",\"2018-12-16T00:00:00\",\"2018-12-23T00:00:00\",\"2018-12-30T00:00:00\",\"2019-01-06T00:00:00\",\"2019-01-13T00:00:00\",\"2019-01-20T00:00:00\",\"2019-01-27T00:00:00\",\"2019-02-03T00:00:00\",\"2019-02-10T00:00:00\",\"2019-02-17T00:00:00\",\"2019-02-24T00:00:00\",\"2019-03-03T00:00:00\",\"2019-03-10T00:00:00\",\"2019-03-17T00:00:00\",\"2019-03-24T00:00:00\",\"2019-03-31T00:00:00\",\"2019-04-07T00:00:00\",\"2019-04-14T00:00:00\",\"2019-04-21T00:00:00\",\"2019-04-28T00:00:00\",\"2019-05-05T00:00:00\",\"2019-05-12T00:00:00\",\"2019-05-19T00:00:00\",\"2019-05-26T00:00:00\",\"2019-06-02T00:00:00\",\"2019-06-09T00:00:00\",\"2019-06-16T00:00:00\",\"2019-06-23T00:00:00\",\"2019-06-30T00:00:00\",\"2019-07-07T00:00:00\",\"2019-07-14T00:00:00\",\"2019-07-21T00:00:00\",\"2019-07-28T00:00:00\",\"2019-08-04T00:00:00\",\"2019-08-11T00:00:00\",\"2019-08-18T00:00:00\",\"2019-08-25T00:00:00\",\"2019-09-01T00:00:00\",\"2019-09-08T00:00:00\",\"2019-09-15T00:00:00\",\"2019-09-22T00:00:00\",\"2019-09-29T00:00:00\",\"2019-10-06T00:00:00\",\"2019-10-13T00:00:00\",\"2019-10-20T00:00:00\",\"2019-10-27T00:00:00\",\"2019-11-03T00:00:00\",\"2019-11-10T00:00:00\",\"2019-11-17T00:00:00\",\"2019-11-24T00:00:00\",\"2019-12-01T00:00:00\",\"2019-12-08T00:00:00\",\"2019-12-15T00:00:00\",\"2019-12-22T00:00:00\",\"2019-12-29T00:00:00\",\"2020-01-05T00:00:00\",\"2020-01-12T00:00:00\"],\"y\":[57.07734711685113,63.49314915214963,65.13863840801159,65.9511489704627,66.58052311258021,71.45830340365131,71.3210927875624,67.68174155372031,71.65389931894501,71.82593518115004,70.4425482936449,69.53924496665829,67.57000983766424,71.20146857304024,67.47905321659411,67.20174485505666,67.91758112378159,68.68702394935383,67.31569815354123,67.37091263671631,67.45224695911864,57.58721246151211,65.70445197577939,61.41378088009733,54.40581658356851,55.7971534607521,55.40810167085562,55.23477680594896,56.61428637485434,58.01832727398791,55.49730641886522,57.446386499053034,54.465286289710875,53.89868284814754,54.843884669485625,58.02067473814162,62.61697406713541,65.48010684957998,63.54671044915396,63.7263129977153,66.46118753799271,68.32377377237685,72.56214081046085,65.61337618908891,65.78223251807356,67.22582934833957,64.1234555105988,67.69327754416683,69.49754367869946,71.78548009246538,64.9541983846934,53.10065963947108,56.982182239804835,63.04805689440055,65.06037442756232,65.84552658246056,66.22245550213492,70.76073959202171,71.90879592137864,67.65090766700465,70.84059364863964,71.95953375489935,70.04629833105184,69.57227597439714,66.86516116380929,70.36652628111725,67.5438886261439,66.06700693335338,67.22230877347309,67.47695940700942,66.89063000367312,65.63723576352909,67.36622531978503,56.78169483076107,63.11951453180897,61.72525712062217,52.97410687244558,54.19199231810203,53.69458965056218,53.5979670284999,54.265048742528684,56.38557686524652,53.50345688298314,55.26596686812051,52.80492578727188,51.497291179787986,52.282600975920964,54.86815101874318,59.689090789284066,62.61640809055701,61.40419782831294,60.42842863621942,63.67474688332366,64.57255431590514,69.59810733466733,63.606182075796205,61.92537626108037,64.00461998858535,60.68420014804414,63.77943791866913,65.71421915409033,68.10884664010189,62.986852363563024,51.58352340767532,52.295768987296235,58.562251975915764,60.82726300697036],\"type\":\"scatter\"},{\"line\":{\"color\":\"rgba(250, 43, 20, 0.7)\"},\"marker\":{\"color\":\"rgba(250, 43, 20, 0.7)\",\"size\":2.0},\"mode\":\"lines+markers\",\"name\":\"Actual\",\"opacity\":1.0,\"x\":[\"2017-12-31T00:00:00\",\"2018-01-07T00:00:00\",\"2018-01-14T00:00:00\",\"2018-01-21T00:00:00\",\"2018-01-28T00:00:00\",\"2018-02-04T00:00:00\",\"2018-02-11T00:00:00\",\"2018-02-18T00:00:00\",\"2018-02-25T00:00:00\",\"2018-03-04T00:00:00\",\"2018-03-11T00:00:00\",\"2018-03-18T00:00:00\",\"2018-03-25T00:00:00\",\"2018-04-01T00:00:00\",\"2018-04-08T00:00:00\",\"2018-04-15T00:00:00\",\"2018-04-22T00:00:00\",\"2018-04-29T00:00:00\",\"2018-05-06T00:00:00\",\"2018-05-13T00:00:00\",\"2018-05-20T00:00:00\",\"2018-05-27T00:00:00\",\"2018-06-03T00:00:00\",\"2018-06-10T00:00:00\",\"2018-06-17T00:00:00\",\"2018-06-24T00:00:00\",\"2018-07-01T00:00:00\",\"2018-07-08T00:00:00\",\"2018-07-15T00:00:00\",\"2018-07-22T00:00:00\",\"2018-07-29T00:00:00\",\"2018-08-05T00:00:00\",\"2018-08-12T00:00:00\",\"2018-08-19T00:00:00\",\"2018-08-26T00:00:00\",\"2018-09-02T00:00:00\",\"2018-09-09T00:00:00\",\"2018-09-16T00:00:00\",\"2018-09-23T00:00:00\",\"2018-09-30T00:00:00\",\"2018-10-07T00:00:00\",\"2018-10-14T00:00:00\",\"2018-10-21T00:00:00\",\"2018-10-28T00:00:00\",\"2018-11-04T00:00:00\",\"2018-11-11T00:00:00\",\"2018-11-18T00:00:00\",\"2018-11-25T00:00:00\",\"2018-12-02T00:00:00\",\"2018-12-09T00:00:00\",\"2018-12-16T00:00:00\",\"2018-12-23T00:00:00\",\"2018-12-30T00:00:00\",\"2019-01-06T00:00:00\",\"2019-01-13T00:00:00\",\"2019-01-20T00:00:00\",\"2019-01-27T00:00:00\",\"2019-02-03T00:00:00\",\"2019-02-10T00:00:00\",\"2019-02-17T00:00:00\",\"2019-02-24T00:00:00\",\"2019-03-03T00:00:00\",\"2019-03-10T00:00:00\",\"2019-03-17T00:00:00\",\"2019-03-24T00:00:00\",\"2019-03-31T00:00:00\",\"2019-04-07T00:00:00\",\"2019-04-14T00:00:00\",\"2019-04-21T00:00:00\",\"2019-04-28T00:00:00\",\"2019-05-05T00:00:00\",\"2019-05-12T00:00:00\",\"2019-05-19T00:00:00\",\"2019-05-26T00:00:00\",\"2019-06-02T00:00:00\",\"2019-06-09T00:00:00\",\"2019-06-16T00:00:00\",\"2019-06-23T00:00:00\",\"2019-06-30T00:00:00\",\"2019-07-07T00:00:00\",\"2019-07-14T00:00:00\",\"2019-07-21T00:00:00\",\"2019-07-28T00:00:00\",\"2019-08-04T00:00:00\",\"2019-08-11T00:00:00\",\"2019-08-18T00:00:00\",\"2019-08-25T00:00:00\",\"2019-09-01T00:00:00\",\"2019-09-08T00:00:00\",\"2019-09-15T00:00:00\",\"2019-09-22T00:00:00\",\"2019-09-29T00:00:00\",\"2019-10-06T00:00:00\",\"2019-10-13T00:00:00\",\"2019-10-20T00:00:00\",\"2019-10-27T00:00:00\",\"2019-11-03T00:00:00\",\"2019-11-10T00:00:00\",\"2019-11-17T00:00:00\",\"2019-11-24T00:00:00\",\"2019-12-01T00:00:00\",\"2019-12-08T00:00:00\",\"2019-12-15T00:00:00\",\"2019-12-22T00:00:00\",\"2019-12-29T00:00:00\",\"2020-01-05T00:00:00\",\"2020-01-12T00:00:00\"],\"y\":[50.4,57.1,53.7,63.6,61.3,64.5,63.2,59.5,68.2,66.2,63.1,63.4,58.8,63.9,65.9,62.9,61.0,61.1,62.1,61.4,62.4,50.7,65.8,62.5,47.9,52.5,50.1,49.4,51.2,49.3,46.2,49.4,50.4,46.2,48.9,53.9,55.6,63.0,58.8,57.3,62.7,61.9,69.5,61.0,60.9,63.0,58.8,63.7,65.4,68.7,59.9,45.9,51.7,58.9,66.2,60.2,60.2,70.0,70.5,67.8,65.4,69.4,68.1,67.6,65.1,70.6,59.6,60.9,64.0,66.7,62.4,62.6,62.7,52.8,53.8,49.8,46.2,46.5,45.7,48.2,46.8,53.9,50.1,52.7,44.3,46.6,46.2,47.6,55.7,56.3,54.7,57.4,57.3,62.0,58.2,56.6,59.3,57.8,66.8,49.5,55.6,63.6,50.0,39.9,42.8,58.7,59.1],\"type\":\"scatter\"},{\"line\":{\"color\":\"rgba(0, 90, 181, 0.7)\",\"dash\":\"solid\"},\"name\":\"Forecast\",\"x\":[\"2017-12-31T00:00:00\",\"2018-01-07T00:00:00\",\"2018-01-14T00:00:00\",\"2018-01-21T00:00:00\",\"2018-01-28T00:00:00\",\"2018-02-04T00:00:00\",\"2018-02-11T00:00:00\",\"2018-02-18T00:00:00\",\"2018-02-25T00:00:00\",\"2018-03-04T00:00:00\",\"2018-03-11T00:00:00\",\"2018-03-18T00:00:00\",\"2018-03-25T00:00:00\",\"2018-04-01T00:00:00\",\"2018-04-08T00:00:00\",\"2018-04-15T00:00:00\",\"2018-04-22T00:00:00\",\"2018-04-29T00:00:00\",\"2018-05-06T00:00:00\",\"2018-05-13T00:00:00\",\"2018-05-20T00:00:00\",\"2018-05-27T00:00:00\",\"2018-06-03T00:00:00\",\"2018-06-10T00:00:00\",\"2018-06-17T00:00:00\",\"2018-06-24T00:00:00\",\"2018-07-01T00:00:00\",\"2018-07-08T00:00:00\",\"2018-07-15T00:00:00\",\"2018-07-22T00:00:00\",\"2018-07-29T00:00:00\",\"2018-08-05T00:00:00\",\"2018-08-12T00:00:00\",\"2018-08-19T00:00:00\",\"2018-08-26T00:00:00\",\"2018-09-02T00:00:00\",\"2018-09-09T00:00:00\",\"2018-09-16T00:00:00\",\"2018-09-23T00:00:00\",\"2018-09-30T00:00:00\",\"2018-10-07T00:00:00\",\"2018-10-14T00:00:00\",\"2018-10-21T00:00:00\",\"2018-10-28T00:00:00\",\"2018-11-04T00:00:00\",\"2018-11-11T00:00:00\",\"2018-11-18T00:00:00\",\"2018-11-25T00:00:00\",\"2018-12-02T00:00:00\",\"2018-12-09T00:00:00\",\"2018-12-16T00:00:00\",\"2018-12-23T00:00:00\",\"2018-12-30T00:00:00\",\"2019-01-06T00:00:00\",\"2019-01-13T00:00:00\",\"2019-01-20T00:00:00\",\"2019-01-27T00:00:00\",\"2019-02-03T00:00:00\",\"2019-02-10T00:00:00\",\"2019-02-17T00:00:00\",\"2019-02-24T00:00:00\",\"2019-03-03T00:00:00\",\"2019-03-10T00:00:00\",\"2019-03-17T00:00:00\",\"2019-03-24T00:00:00\",\"2019-03-31T00:00:00\",\"2019-04-07T00:00:00\",\"2019-04-14T00:00:00\",\"2019-04-21T00:00:00\",\"2019-04-28T00:00:00\",\"2019-05-05T00:00:00\",\"2019-05-12T00:00:00\",\"2019-05-19T00:00:00\",\"2019-05-26T00:00:00\",\"2019-06-02T00:00:00\",\"2019-06-09T00:00:00\",\"2019-06-16T00:00:00\",\"2019-06-23T00:00:00\",\"2019-06-30T00:00:00\",\"2019-07-07T00:00:00\",\"2019-07-14T00:00:00\",\"2019-07-21T00:00:00\",\"2019-07-28T00:00:00\",\"2019-08-04T00:00:00\",\"2019-08-11T00:00:00\",\"2019-08-18T00:00:00\",\"2019-08-25T00:00:00\",\"2019-09-01T00:00:00\",\"2019-09-08T00:00:00\",\"2019-09-15T00:00:00\",\"2019-09-22T00:00:00\",\"2019-09-29T00:00:00\",\"2019-10-06T00:00:00\",\"2019-10-13T00:00:00\",\"2019-10-20T00:00:00\",\"2019-10-27T00:00:00\",\"2019-11-03T00:00:00\",\"2019-11-10T00:00:00\",\"2019-11-17T00:00:00\",\"2019-11-24T00:00:00\",\"2019-12-01T00:00:00\",\"2019-12-08T00:00:00\",\"2019-12-15T00:00:00\",\"2019-12-22T00:00:00\",\"2019-12-29T00:00:00\",\"2020-01-05T00:00:00\",\"2020-01-12T00:00:00\"],\"y\":[52.008347649450236,58.424149684748734,60.06963894061069,60.88214950306181,61.51152364517931,66.38930393625041,66.25209332016152,62.61274208631942,66.58489985154412,66.75693571374914,65.37354882624402,64.47024549925739,62.50101037026335,66.13246910563936,62.41005374919321,62.13274538765577,62.8485816563807,63.618024481952936,62.24669868614035,62.30191316931542,62.38324749171774,52.51821299411122,60.63545250837849,56.344781412696435,49.336817116167616,50.72815399335121,50.33910220345473,50.16577733854807,51.545286907453445,52.949327806587014,50.42830695146433,52.37738703165214,49.39628682230998,48.829683380746644,49.77488520208473,52.95167527074073,57.547974599734516,60.41110738217909,58.47771098175307,58.657313530314404,61.39218807059183,63.25477430497597,67.49314134305995,60.544376721688025,60.71323305067267,62.15682988093867,59.054456043197916,62.62427807676594,64.42854421129857,66.71648062506448,59.88519891729251,48.03166017207019,51.91318277240394,57.97905742699966,59.99137496016142,60.77652711505967,61.153456034734035,65.69174012462082,66.83979645397775,62.58190819960376,65.77159418123875,66.89053428749845,64.97729886365094,64.50327650699624,61.79616169640839,65.29752681371636,62.474889158743004,60.9980074659525,62.153309306072195,62.40795993960852,61.821630536272224,60.5682362961282,62.29722585238414,51.712695363360176,58.050515064408074,56.656257653221274,47.90510740504469,49.12299285070114,48.625590183161286,48.52896756109901,49.19604927512779,51.31657739784563,48.434457415582244,50.196967400719615,47.735926319870984,46.42829171238709,47.21360150852007,49.799151551342284,54.62009132188317,57.547408623156116,56.335198360912045,55.35942916881853,58.605747415922764,59.50355484850424,64.52910786726645,58.53718260839531,56.85637679367948,58.93562052118446,55.61520068064325,58.71043845126824,60.64521968668944,63.039847172701,57.91785289616213,46.51452394027443,47.22676951989534,53.49325250851487,55.75826353956947],\"type\":\"scatter\"}],                        {\"legend\":{\"traceorder\":\"reversed\"},\"showlegend\":true,\"title\":{\"text\":\"Forecast vs Actual\",\"x\":0.5},\"xaxis\":{\"title\":{\"text\":\"ts\"}},\"yaxis\":{\"title\":{\"text\":\"y\"}},\"template\":{\"data\":{\"histogram2dcontour\":[{\"type\":\"histogram2dcontour\",\"colorbar\":{\"outlinewidth\":0,\"ticks\":\"\"},\"colorscale\":[[0.0,\"#0d0887\"],[0.1111111111111111,\"#46039f\"],[0.2222222222222222,\"#7201a8\"],[0.3333333333333333,\"#9c179e\"],[0.4444444444444444,\"#bd3786\"],[0.5555555555555556,\"#d8576b\"],[0.6666666666666666,\"#ed7953\"],[0.7777777777777778,\"#fb9f3a\"],[0.8888888888888888,\"#fdca26\"],[1.0,\"#f0f921\"]]}],\"choropleth\":[{\"type\":\"choropleth\",\"colorbar\":{\"outlinewidth\":0,\"ticks\":\"\"}}],\"histogram2d\":[{\"type\":\"histogram2d\",\"colorbar\":{\"outlinewidth\":0,\"ticks\":\"\"},\"colorscale\":[[0.0,\"#0d0887\"],[0.1111111111111111,\"#46039f\"],[0.2222222222222222,\"#7201a8\"],[0.3333333333333333,\"#9c179e\"],[0.4444444444444444,\"#bd3786\"],[0.5555555555555556,\"#d8576b\"],[0.6666666666666666,\"#ed7953\"],[0.7777777777777778,\"#fb9f3a\"],[0.8888888888888888,\"#fdca26\"],[1.0,\"#f0f921\"]]}],\"heatmap\":[{\"type\":\"heatmap\",\"colorbar\":{\"outlinewidth\":0,\"ticks\":\"\"},\"colorscale\":[[0.0,\"#0d0887\"],[0.1111111111111111,\"#46039f\"],[0.2222222222222222,\"#7201a8\"],[0.3333333333333333,\"#9c179e\"],[0.4444444444444444,\"#bd3786\"],[0.5555555555555556,\"#d8576b\"],[0.6666666666666666,\"#ed7953\"],[0.7777777777777778,\"#fb9f3a\"],[0.8888888888888888,\"#fdca26\"],[1.0,\"#f0f921\"]]}],\"heatmapgl\":[{\"type\":\"heatmapgl\",\"colorbar\":{\"outlinewidth\":0,\"ticks\":\"\"},\"colorscale\":[[0.0,\"#0d0887\"],[0.1111111111111111,\"#46039f\"],[0.2222222222222222,\"#7201a8\"],[0.3333333333333333,\"#9c179e\"],[0.4444444444444444,\"#bd3786\"],[0.5555555555555556,\"#d8576b\"],[0.6666666666666666,\"#ed7953\"],[0.7777777777777778,\"#fb9f3a\"],[0.8888888888888888,\"#fdca26\"],[1.0,\"#f0f921\"]]}],\"contourcarpet\":[{\"type\":\"contourcarpet\",\"colorbar\":{\"outlinewidth\":0,\"ticks\":\"\"}}],\"contour\":[{\"type\":\"contour\",\"colorbar\":{\"outlinewidth\":0,\"ticks\":\"\"},\"colorscale\":[[0.0,\"#0d0887\"],[0.1111111111111111,\"#46039f\"],[0.2222222222222222,\"#7201a8\"],[0.3333333333333333,\"#9c179e\"],[0.4444444444444444,\"#bd3786\"],[0.5555555555555556,\"#d8576b\"],[0.6666666666666666,\"#ed7953\"],[0.7777777777777778,\"#fb9f3a\"],[0.8888888888888888,\"#fdca26\"],[1.0,\"#f0f921\"]]}],\"surface\":[{\"type\":\"surface\",\"colorbar\":{\"outlinewidth\":0,\"ticks\":\"\"},\"colorscale\":[[0.0,\"#0d0887\"],[0.1111111111111111,\"#46039f\"],[0.2222222222222222,\"#7201a8\"],[0.3333333333333333,\"#9c179e\"],[0.4444444444444444,\"#bd3786\"],[0.5555555555555556,\"#d8576b\"],[0.6666666666666666,\"#ed7953\"],[0.7777777777777778,\"#fb9f3a\"],[0.8888888888888888,\"#fdca26\"],[1.0,\"#f0f921\"]]}],\"mesh3d\":[{\"type\":\"mesh3d\",\"colorbar\":{\"outlinewidth\":0,\"ticks\":\"\"}}],\"scatter\":[{\"fillpattern\":{\"fillmode\":\"overlay\",\"size\":10,\"solidity\":0.2},\"type\":\"scatter\"}],\"parcoords\":[{\"type\":\"parcoords\",\"line\":{\"colorbar\":{\"outlinewidth\":0,\"ticks\":\"\"}}}],\"scatterpolargl\":[{\"type\":\"scatterpolargl\",\"marker\":{\"colorbar\":{\"outlinewidth\":0,\"ticks\":\"\"}}}],\"bar\":[{\"error_x\":{\"color\":\"#2a3f5f\"},\"error_y\":{\"color\":\"#2a3f5f\"},\"marker\":{\"line\":{\"color\":\"#E5ECF6\",\"width\":0.5},\"pattern\":{\"fillmode\":\"overlay\",\"size\":10,\"solidity\":0.2}},\"type\":\"bar\"}],\"scattergeo\":[{\"type\":\"scattergeo\",\"marker\":{\"colorbar\":{\"outlinewidth\":0,\"ticks\":\"\"}}}],\"scatterpolar\":[{\"type\":\"scatterpolar\",\"marker\":{\"colorbar\":{\"outlinewidth\":0,\"ticks\":\"\"}}}],\"histogram\":[{\"marker\":{\"pattern\":{\"fillmode\":\"overlay\",\"size\":10,\"solidity\":0.2}},\"type\":\"histogram\"}],\"scattergl\":[{\"type\":\"scattergl\",\"marker\":{\"colorbar\":{\"outlinewidth\":0,\"ticks\":\"\"}}}],\"scatter3d\":[{\"type\":\"scatter3d\",\"line\":{\"colorbar\":{\"outlinewidth\":0,\"ticks\":\"\"}},\"marker\":{\"colorbar\":{\"outlinewidth\":0,\"ticks\":\"\"}}}],\"scattermapbox\":[{\"type\":\"scattermapbox\",\"marker\":{\"colorbar\":{\"outlinewidth\":0,\"ticks\":\"\"}}}],\"scatterternary\":[{\"type\":\"scatterternary\",\"marker\":{\"colorbar\":{\"outlinewidth\":0,\"ticks\":\"\"}}}],\"scattercarpet\":[{\"type\":\"scattercarpet\",\"marker\":{\"colorbar\":{\"outlinewidth\":0,\"ticks\":\"\"}}}],\"carpet\":[{\"aaxis\":{\"endlinecolor\":\"#2a3f5f\",\"gridcolor\":\"white\",\"linecolor\":\"white\",\"minorgridcolor\":\"white\",\"startlinecolor\":\"#2a3f5f\"},\"baxis\":{\"endlinecolor\":\"#2a3f5f\",\"gridcolor\":\"white\",\"linecolor\":\"white\",\"minorgridcolor\":\"white\",\"startlinecolor\":\"#2a3f5f\"},\"type\":\"carpet\"}],\"table\":[{\"cells\":{\"fill\":{\"color\":\"#EBF0F8\"},\"line\":{\"color\":\"white\"}},\"header\":{\"fill\":{\"color\":\"#C8D4E3\"},\"line\":{\"color\":\"white\"}},\"type\":\"table\"}],\"barpolar\":[{\"marker\":{\"line\":{\"color\":\"#E5ECF6\",\"width\":0.5},\"pattern\":{\"fillmode\":\"overlay\",\"size\":10,\"solidity\":0.2}},\"type\":\"barpolar\"}],\"pie\":[{\"automargin\":true,\"type\":\"pie\"}]},\"layout\":{\"autotypenumbers\":\"strict\",\"colorway\":[\"#636efa\",\"#EF553B\",\"#00cc96\",\"#ab63fa\",\"#FFA15A\",\"#19d3f3\",\"#FF6692\",\"#B6E880\",\"#FF97FF\",\"#FECB52\"],\"font\":{\"color\":\"#2a3f5f\"},\"hovermode\":\"closest\",\"hoverlabel\":{\"align\":\"left\"},\"paper_bgcolor\":\"white\",\"plot_bgcolor\":\"#E5ECF6\",\"polar\":{\"bgcolor\":\"#E5ECF6\",\"angularaxis\":{\"gridcolor\":\"white\",\"linecolor\":\"white\",\"ticks\":\"\"},\"radialaxis\":{\"gridcolor\":\"white\",\"linecolor\":\"white\",\"ticks\":\"\"}},\"ternary\":{\"bgcolor\":\"#E5ECF6\",\"aaxis\":{\"gridcolor\":\"white\",\"linecolor\":\"white\",\"ticks\":\"\"},\"baxis\":{\"gridcolor\":\"white\",\"linecolor\":\"white\",\"ticks\":\"\"},\"caxis\":{\"gridcolor\":\"white\",\"linecolor\":\"white\",\"ticks\":\"\"}},\"coloraxis\":{\"colorbar\":{\"outlinewidth\":0,\"ticks\":\"\"}},\"colorscale\":{\"sequential\":[[0.0,\"#0d0887\"],[0.1111111111111111,\"#46039f\"],[0.2222222222222222,\"#7201a8\"],[0.3333333333333333,\"#9c179e\"],[0.4444444444444444,\"#bd3786\"],[0.5555555555555556,\"#d8576b\"],[0.6666666666666666,\"#ed7953\"],[0.7777777777777778,\"#fb9f3a\"],[0.8888888888888888,\"#fdca26\"],[1.0,\"#f0f921\"]],\"sequentialminus\":[[0.0,\"#0d0887\"],[0.1111111111111111,\"#46039f\"],[0.2222222222222222,\"#7201a8\"],[0.3333333333333333,\"#9c179e\"],[0.4444444444444444,\"#bd3786\"],[0.5555555555555556,\"#d8576b\"],[0.6666666666666666,\"#ed7953\"],[0.7777777777777778,\"#fb9f3a\"],[0.8888888888888888,\"#fdca26\"],[1.0,\"#f0f921\"]],\"diverging\":[[0,\"#8e0152\"],[0.1,\"#c51b7d\"],[0.2,\"#de77ae\"],[0.3,\"#f1b6da\"],[0.4,\"#fde0ef\"],[0.5,\"#f7f7f7\"],[0.6,\"#e6f5d0\"],[0.7,\"#b8e186\"],[0.8,\"#7fbc41\"],[0.9,\"#4d9221\"],[1,\"#276419\"]]},\"xaxis\":{\"gridcolor\":\"white\",\"linecolor\":\"white\",\"ticks\":\"\",\"title\":{\"standoff\":15},\"zerolinecolor\":\"white\",\"automargin\":true,\"zerolinewidth\":2},\"yaxis\":{\"gridcolor\":\"white\",\"linecolor\":\"white\",\"ticks\":\"\",\"title\":{\"standoff\":15},\"zerolinecolor\":\"white\",\"automargin\":true,\"zerolinewidth\":2},\"scene\":{\"xaxis\":{\"backgroundcolor\":\"#E5ECF6\",\"gridcolor\":\"white\",\"linecolor\":\"white\",\"showbackground\":true,\"ticks\":\"\",\"zerolinecolor\":\"white\",\"gridwidth\":2},\"yaxis\":{\"backgroundcolor\":\"#E5ECF6\",\"gridcolor\":\"white\",\"linecolor\":\"white\",\"showbackground\":true,\"ticks\":\"\",\"zerolinecolor\":\"white\",\"gridwidth\":2},\"zaxis\":{\"backgroundcolor\":\"#E5ECF6\",\"gridcolor\":\"white\",\"linecolor\":\"white\",\"showbackground\":true,\"ticks\":\"\",\"zerolinecolor\":\"white\",\"gridwidth\":2}},\"shapedefaults\":{\"line\":{\"color\":\"#2a3f5f\"}},\"annotationdefaults\":{\"arrowcolor\":\"#2a3f5f\",\"arrowhead\":0,\"arrowwidth\":1},\"geo\":{\"bgcolor\":\"white\",\"landcolor\":\"#E5ECF6\",\"subunitcolor\":\"white\",\"showland\":true,\"showlakes\":true,\"lakecolor\":\"white\"},\"title\":{\"x\":0.05},\"mapbox\":{\"style\":\"light\"}}},\"shapes\":[{\"line\":{\"color\":\"rgba(100, 100, 100, 0.9)\",\"width\":1.0},\"type\":\"line\",\"x0\":\"2019-10-13T00:00:00\",\"x1\":\"2019-10-13T00:00:00\",\"xref\":\"x\",\"y0\":0,\"y1\":1,\"yref\":\"paper\"}],\"annotations\":[{\"arrowhead\":0,\"ax\":-60,\"ay\":0,\"showarrow\":true,\"text\":\"Train End Date\",\"x\":\"2019-10-13T00:00:00\",\"xref\":\"x\",\"y\":0.97,\"yref\":\"paper\"}]},                        {\"responsive\": true}                    ).then(function(){\n",
       "                            \n",
       "var gd = document.getElementById('0017d68a-d4c3-4fcc-b012-7fe873e7271c');\n",
       "var x = new MutationObserver(function (mutations, observer) {{\n",
       "        var display = window.getComputedStyle(gd).display;\n",
       "        if (!display || display === 'none') {{\n",
       "            console.log([gd, 'removed!']);\n",
       "            Plotly.purge(gd);\n",
       "            observer.disconnect();\n",
       "        }}\n",
       "}});\n",
       "\n",
       "// Listen for the removal of the full notebook cells\n",
       "var notebookContainer = gd.closest('#notebook-container');\n",
       "if (notebookContainer) {{\n",
       "    x.observe(notebookContainer, {childList: true});\n",
       "}}\n",
       "\n",
       "// Listen for the clearing of the current output cell\n",
       "var outputEl = gd.closest('.output');\n",
       "if (outputEl) {{\n",
       "    x.observe(outputEl, {childList: true});\n",
       "}}\n",
       "\n",
       "                        })                };                });            </script>        </div>"
      ]
     },
     "metadata": {},
     "output_type": "display_data"
    },
    {
     "data": {
      "application/vnd.plotly.v1+json": {
       "config": {
        "plotlyServerURL": "https://plot.ly"
       },
       "data": [
        {
         "legendgroup": "interval",
         "line": {
          "color": "rgba(0, 90, 181, 0.5)",
          "width": 0
         },
         "mode": "lines",
         "name": "Lower Bound",
         "type": "scatter",
         "x": [
          "2017-12-31T00:00:00",
          "2018-01-07T00:00:00",
          "2018-01-14T00:00:00",
          "2018-01-21T00:00:00",
          "2018-01-28T00:00:00",
          "2018-02-04T00:00:00",
          "2018-02-11T00:00:00",
          "2018-02-18T00:00:00",
          "2018-02-25T00:00:00",
          "2018-03-04T00:00:00",
          "2018-03-11T00:00:00",
          "2018-03-18T00:00:00",
          "2018-03-25T00:00:00",
          "2018-04-01T00:00:00",
          "2018-04-08T00:00:00",
          "2018-04-15T00:00:00",
          "2018-04-22T00:00:00",
          "2018-04-29T00:00:00",
          "2018-05-06T00:00:00",
          "2018-05-13T00:00:00",
          "2018-05-20T00:00:00",
          "2018-05-27T00:00:00",
          "2018-06-03T00:00:00",
          "2018-06-10T00:00:00",
          "2018-06-17T00:00:00",
          "2018-06-24T00:00:00",
          "2018-07-01T00:00:00",
          "2018-07-08T00:00:00",
          "2018-07-15T00:00:00",
          "2018-07-22T00:00:00",
          "2018-07-29T00:00:00",
          "2018-08-05T00:00:00",
          "2018-08-12T00:00:00",
          "2018-08-19T00:00:00",
          "2018-08-26T00:00:00",
          "2018-09-02T00:00:00",
          "2018-09-09T00:00:00",
          "2018-09-16T00:00:00",
          "2018-09-23T00:00:00",
          "2018-09-30T00:00:00",
          "2018-10-07T00:00:00",
          "2018-10-14T00:00:00",
          "2018-10-21T00:00:00",
          "2018-10-28T00:00:00",
          "2018-11-04T00:00:00",
          "2018-11-11T00:00:00",
          "2018-11-18T00:00:00",
          "2018-11-25T00:00:00",
          "2018-12-02T00:00:00",
          "2018-12-09T00:00:00",
          "2018-12-16T00:00:00",
          "2018-12-23T00:00:00",
          "2018-12-30T00:00:00",
          "2019-01-06T00:00:00",
          "2019-01-13T00:00:00",
          "2019-01-20T00:00:00",
          "2019-01-27T00:00:00",
          "2019-02-03T00:00:00",
          "2019-02-10T00:00:00",
          "2019-02-17T00:00:00",
          "2019-02-24T00:00:00",
          "2019-03-03T00:00:00",
          "2019-03-10T00:00:00",
          "2019-03-17T00:00:00",
          "2019-03-24T00:00:00",
          "2019-03-31T00:00:00",
          "2019-04-07T00:00:00",
          "2019-04-14T00:00:00",
          "2019-04-21T00:00:00",
          "2019-04-28T00:00:00",
          "2019-05-05T00:00:00",
          "2019-05-12T00:00:00",
          "2019-05-19T00:00:00",
          "2019-05-26T00:00:00",
          "2019-06-02T00:00:00",
          "2019-06-09T00:00:00",
          "2019-06-16T00:00:00",
          "2019-06-23T00:00:00",
          "2019-06-30T00:00:00",
          "2019-07-07T00:00:00",
          "2019-07-14T00:00:00",
          "2019-07-21T00:00:00",
          "2019-07-28T00:00:00",
          "2019-08-04T00:00:00",
          "2019-08-11T00:00:00",
          "2019-08-18T00:00:00",
          "2019-08-25T00:00:00",
          "2019-09-01T00:00:00",
          "2019-09-08T00:00:00",
          "2019-09-15T00:00:00",
          "2019-09-22T00:00:00",
          "2019-09-29T00:00:00",
          "2019-10-06T00:00:00",
          "2019-10-13T00:00:00",
          "2019-10-20T00:00:00",
          "2019-10-27T00:00:00",
          "2019-11-03T00:00:00",
          "2019-11-10T00:00:00",
          "2019-11-17T00:00:00",
          "2019-11-24T00:00:00",
          "2019-12-01T00:00:00",
          "2019-12-08T00:00:00",
          "2019-12-15T00:00:00",
          "2019-12-22T00:00:00",
          "2019-12-29T00:00:00",
          "2020-01-05T00:00:00",
          "2020-01-12T00:00:00",
          "2020-01-19T00:00:00",
          "2020-01-26T00:00:00",
          "2020-02-02T00:00:00",
          "2020-02-09T00:00:00",
          "2020-02-16T00:00:00",
          "2020-02-23T00:00:00",
          "2020-03-01T00:00:00",
          "2020-03-08T00:00:00",
          "2020-03-15T00:00:00",
          "2020-03-22T00:00:00",
          "2020-03-29T00:00:00",
          "2020-04-05T00:00:00",
          "2020-04-12T00:00:00"
         ],
         "y": [
          46.27131835489267,
          54.1600216920682,
          54.589047195796496,
          54.51498762270896,
          55.15353802866494,
          59.562758221430514,
          59.37492935623318,
          56.27356669294619,
          59.690949354252126,
          59.91281746614068,
          58.59808786501975,
          57.88394639795882,
          56.03491846633176,
          59.36601642748144,
          55.94849481683387,
          55.81117648481549,
          56.33407947711281,
          57.1347914571536,
          55.79450586559777,
          55.96429499366525,
          55.91546352013434,
          47.186218969279324,
          54.34169634558354,
          50.673856177205224,
          44.288337095577276,
          45.67739089906783,
          45.175418267469354,
          45.179145113667886,
          46.24388354347025,
          47.65778024969504,
          45.24468552221229,
          47.151777076146615,
          44.320156793628044,
          43.99958169802126,
          44.647065718797975,
          47.58667452091788,
          51.56047582688541,
          54.30418548118398,
          52.381745457689235,
          52.73921148471565,
          55.14493693183715,
          56.527076218090485,
          57.62793570570628,
          54.34834800672124,
          54.85195638081403,
          56.1756111142348,
          56.97863448161732,
          51.628595114121424,
          56.74604879832471,
          59.44041299083658,
          50.534507995278574,
          41.030370605258454,
          45.41216048469849,
          53.73462892075763,
          54.44578289064978,
          54.70808208605064,
          54.79306310324483,
          58.96719522296725,
          59.80558119724432,
          56.19364032532232,
          58.80966982752808,
          59.97329164084837,
          58.09963666527061,
          57.82836462877684,
          55.25629867437284,
          58.51746688984284,
          55.8459692600221,
          54.67699902104614,
          55.54546740380556,
          55.91598944259482,
          55.23487522803086,
          54.26464889487184,
          55.63868566012002,
          46.28746236043874,
          51.85843409150931,
          50.7440362740322,
          42.81208595445558,
          44.02745210440901,
          43.436904628589275,
          43.48348229542566,
          43.92967227096601,
          45.94730895016194,
          43.237312440877616,
          44.93475147985714,
          42.60123105510583,
          41.56500358669449,
          42.122535668849494,
          44.467054488089715,
          48.68881128216971,
          51.42587563042626,
          50.19984043479215,
          49.46921367776582,
          52.11047051827184,
          53.254166095585276,
          54.95226793401544,
          51.467667115537864,
          51.61319606390521,
          52.08675443601528,
          53.99453013564843,
          48.671149668145816,
          51.982603192021486,
          56.387499966687855,
          48.434848376186906,
          38.40481598461369,
          40.086995804989215,
          49.17626184592025,
          50.47700513314001,
          50.66566794708996,
          50.385135142708094,
          53.99562378830163,
          55.98100400293605,
          52.28223757104472,
          53.78190906799219,
          56.07991106449815,
          53.86204529410547,
          53.96432664644995,
          51.04954130380419,
          53.76488555793419,
          52.49992275570155,
          50.10078788677504
         ]
        },
        {
         "fill": "tonexty",
         "fillcolor": "rgba(0, 90, 181, 0.15)",
         "legendgroup": "interval",
         "line": {
          "color": "rgba(0, 90, 181, 0.5)",
          "width": 0
         },
         "mode": "lines",
         "name": "Upper Bound",
         "type": "scatter",
         "x": [
          "2017-12-31T00:00:00",
          "2018-01-07T00:00:00",
          "2018-01-14T00:00:00",
          "2018-01-21T00:00:00",
          "2018-01-28T00:00:00",
          "2018-02-04T00:00:00",
          "2018-02-11T00:00:00",
          "2018-02-18T00:00:00",
          "2018-02-25T00:00:00",
          "2018-03-04T00:00:00",
          "2018-03-11T00:00:00",
          "2018-03-18T00:00:00",
          "2018-03-25T00:00:00",
          "2018-04-01T00:00:00",
          "2018-04-08T00:00:00",
          "2018-04-15T00:00:00",
          "2018-04-22T00:00:00",
          "2018-04-29T00:00:00",
          "2018-05-06T00:00:00",
          "2018-05-13T00:00:00",
          "2018-05-20T00:00:00",
          "2018-05-27T00:00:00",
          "2018-06-03T00:00:00",
          "2018-06-10T00:00:00",
          "2018-06-17T00:00:00",
          "2018-06-24T00:00:00",
          "2018-07-01T00:00:00",
          "2018-07-08T00:00:00",
          "2018-07-15T00:00:00",
          "2018-07-22T00:00:00",
          "2018-07-29T00:00:00",
          "2018-08-05T00:00:00",
          "2018-08-12T00:00:00",
          "2018-08-19T00:00:00",
          "2018-08-26T00:00:00",
          "2018-09-02T00:00:00",
          "2018-09-09T00:00:00",
          "2018-09-16T00:00:00",
          "2018-09-23T00:00:00",
          "2018-09-30T00:00:00",
          "2018-10-07T00:00:00",
          "2018-10-14T00:00:00",
          "2018-10-21T00:00:00",
          "2018-10-28T00:00:00",
          "2018-11-04T00:00:00",
          "2018-11-11T00:00:00",
          "2018-11-18T00:00:00",
          "2018-11-25T00:00:00",
          "2018-12-02T00:00:00",
          "2018-12-09T00:00:00",
          "2018-12-16T00:00:00",
          "2018-12-23T00:00:00",
          "2018-12-30T00:00:00",
          "2019-01-06T00:00:00",
          "2019-01-13T00:00:00",
          "2019-01-20T00:00:00",
          "2019-01-27T00:00:00",
          "2019-02-03T00:00:00",
          "2019-02-10T00:00:00",
          "2019-02-17T00:00:00",
          "2019-02-24T00:00:00",
          "2019-03-03T00:00:00",
          "2019-03-10T00:00:00",
          "2019-03-17T00:00:00",
          "2019-03-24T00:00:00",
          "2019-03-31T00:00:00",
          "2019-04-07T00:00:00",
          "2019-04-14T00:00:00",
          "2019-04-21T00:00:00",
          "2019-04-28T00:00:00",
          "2019-05-05T00:00:00",
          "2019-05-12T00:00:00",
          "2019-05-19T00:00:00",
          "2019-05-26T00:00:00",
          "2019-06-02T00:00:00",
          "2019-06-09T00:00:00",
          "2019-06-16T00:00:00",
          "2019-06-23T00:00:00",
          "2019-06-30T00:00:00",
          "2019-07-07T00:00:00",
          "2019-07-14T00:00:00",
          "2019-07-21T00:00:00",
          "2019-07-28T00:00:00",
          "2019-08-04T00:00:00",
          "2019-08-11T00:00:00",
          "2019-08-18T00:00:00",
          "2019-08-25T00:00:00",
          "2019-09-01T00:00:00",
          "2019-09-08T00:00:00",
          "2019-09-15T00:00:00",
          "2019-09-22T00:00:00",
          "2019-09-29T00:00:00",
          "2019-10-06T00:00:00",
          "2019-10-13T00:00:00",
          "2019-10-20T00:00:00",
          "2019-10-27T00:00:00",
          "2019-11-03T00:00:00",
          "2019-11-10T00:00:00",
          "2019-11-17T00:00:00",
          "2019-11-24T00:00:00",
          "2019-12-01T00:00:00",
          "2019-12-08T00:00:00",
          "2019-12-15T00:00:00",
          "2019-12-22T00:00:00",
          "2019-12-29T00:00:00",
          "2020-01-05T00:00:00",
          "2020-01-12T00:00:00",
          "2020-01-19T00:00:00",
          "2020-01-26T00:00:00",
          "2020-02-02T00:00:00",
          "2020-02-09T00:00:00",
          "2020-02-16T00:00:00",
          "2020-02-23T00:00:00",
          "2020-03-01T00:00:00",
          "2020-03-08T00:00:00",
          "2020-03-15T00:00:00",
          "2020-03-22T00:00:00",
          "2020-03-29T00:00:00",
          "2020-04-05T00:00:00",
          "2020-04-12T00:00:00"
         ],
         "y": [
          58.30141875200184,
          66.19012208917736,
          66.61914759290566,
          66.54508801981812,
          67.1836384257741,
          71.59285861853967,
          71.40502975334233,
          68.30366709005534,
          71.72104975136128,
          71.94291786324983,
          70.6281882621289,
          69.91404679506799,
          68.06501886344091,
          71.39611682459059,
          67.97859521394302,
          67.84127688192464,
          68.36417987422197,
          69.16489185426276,
          67.82460626270694,
          67.99439539077441,
          67.94556391724349,
          59.216319366388475,
          66.37179674269271,
          62.703956574314375,
          56.31843749268644,
          57.70749129617698,
          57.20551866457852,
          57.20924551077705,
          58.27398394057941,
          59.68788064680419,
          57.27478591932146,
          59.18187747325577,
          56.35025719073721,
          56.02968209513041,
          56.67716611590713,
          59.61677491802703,
          63.59057622399456,
          66.33428587829313,
          64.41184585479839,
          64.7693118818248,
          67.1750373289463,
          68.55717661519965,
          69.65803610281543,
          66.37844840383039,
          66.88205677792318,
          68.20571151134396,
          69.00873487872647,
          63.658695511230576,
          68.77614919543386,
          71.47051338794573,
          62.564608392387726,
          53.06047100236762,
          57.44226088180764,
          65.7647293178668,
          66.47588328775893,
          66.73818248315979,
          66.823163500354,
          70.9972956200764,
          71.83568159435347,
          68.22374072243147,
          70.83977022463723,
          72.00339203795752,
          70.12973706237976,
          69.858465025886,
          67.28639907148201,
          70.54756728695199,
          67.87606965713125,
          66.7070994181553,
          67.57556780091471,
          67.94608983970397,
          67.26497562514001,
          66.29474929198099,
          67.66878605722918,
          58.31756275754789,
          63.88853448861846,
          62.77413667114135,
          54.84218635156475,
          56.057552501518174,
          55.46700502569843,
          55.513582692534825,
          55.95977266807516,
          57.977409347271106,
          55.26741283798678,
          56.96485187696629,
          54.631331452214994,
          53.595103983803654,
          54.152636065958646,
          56.49715488519887,
          60.718911679278875,
          63.455976027535414,
          62.22994083190132,
          61.49931407487499,
          64.14057091538099,
          65.28426649269443,
          66.98236833112459,
          63.49776751264703,
          63.64329646101436,
          64.11685483312445,
          66.0246305327576,
          60.70125006525497,
          64.01270358913064,
          68.417600363797,
          60.46494877329606,
          50.43491638172286,
          52.11709620209837,
          61.20636224302942,
          62.50710553024918,
          62.695768344199124,
          62.41523553981726,
          66.0257241854108,
          68.0111044000452,
          64.31233796815387,
          65.81200946510134,
          68.1100114616073,
          65.89214569121462,
          65.9944270435591,
          63.07964170091334,
          65.79498595504334,
          64.5300231528107,
          62.13088828388419
         ]
        },
        {
         "line": {
          "color": "rgba(250, 43, 20, 0.7)"
         },
         "marker": {
          "color": "rgba(250, 43, 20, 0.7)",
          "size": 2
         },
         "mode": "lines+markers",
         "name": "Actual",
         "opacity": 1,
         "type": "scatter",
         "x": [
          "2017-12-31T00:00:00",
          "2018-01-07T00:00:00",
          "2018-01-14T00:00:00",
          "2018-01-21T00:00:00",
          "2018-01-28T00:00:00",
          "2018-02-04T00:00:00",
          "2018-02-11T00:00:00",
          "2018-02-18T00:00:00",
          "2018-02-25T00:00:00",
          "2018-03-04T00:00:00",
          "2018-03-11T00:00:00",
          "2018-03-18T00:00:00",
          "2018-03-25T00:00:00",
          "2018-04-01T00:00:00",
          "2018-04-08T00:00:00",
          "2018-04-15T00:00:00",
          "2018-04-22T00:00:00",
          "2018-04-29T00:00:00",
          "2018-05-06T00:00:00",
          "2018-05-13T00:00:00",
          "2018-05-20T00:00:00",
          "2018-05-27T00:00:00",
          "2018-06-03T00:00:00",
          "2018-06-10T00:00:00",
          "2018-06-17T00:00:00",
          "2018-06-24T00:00:00",
          "2018-07-01T00:00:00",
          "2018-07-08T00:00:00",
          "2018-07-15T00:00:00",
          "2018-07-22T00:00:00",
          "2018-07-29T00:00:00",
          "2018-08-05T00:00:00",
          "2018-08-12T00:00:00",
          "2018-08-19T00:00:00",
          "2018-08-26T00:00:00",
          "2018-09-02T00:00:00",
          "2018-09-09T00:00:00",
          "2018-09-16T00:00:00",
          "2018-09-23T00:00:00",
          "2018-09-30T00:00:00",
          "2018-10-07T00:00:00",
          "2018-10-14T00:00:00",
          "2018-10-21T00:00:00",
          "2018-10-28T00:00:00",
          "2018-11-04T00:00:00",
          "2018-11-11T00:00:00",
          "2018-11-18T00:00:00",
          "2018-11-25T00:00:00",
          "2018-12-02T00:00:00",
          "2018-12-09T00:00:00",
          "2018-12-16T00:00:00",
          "2018-12-23T00:00:00",
          "2018-12-30T00:00:00",
          "2019-01-06T00:00:00",
          "2019-01-13T00:00:00",
          "2019-01-20T00:00:00",
          "2019-01-27T00:00:00",
          "2019-02-03T00:00:00",
          "2019-02-10T00:00:00",
          "2019-02-17T00:00:00",
          "2019-02-24T00:00:00",
          "2019-03-03T00:00:00",
          "2019-03-10T00:00:00",
          "2019-03-17T00:00:00",
          "2019-03-24T00:00:00",
          "2019-03-31T00:00:00",
          "2019-04-07T00:00:00",
          "2019-04-14T00:00:00",
          "2019-04-21T00:00:00",
          "2019-04-28T00:00:00",
          "2019-05-05T00:00:00",
          "2019-05-12T00:00:00",
          "2019-05-19T00:00:00",
          "2019-05-26T00:00:00",
          "2019-06-02T00:00:00",
          "2019-06-09T00:00:00",
          "2019-06-16T00:00:00",
          "2019-06-23T00:00:00",
          "2019-06-30T00:00:00",
          "2019-07-07T00:00:00",
          "2019-07-14T00:00:00",
          "2019-07-21T00:00:00",
          "2019-07-28T00:00:00",
          "2019-08-04T00:00:00",
          "2019-08-11T00:00:00",
          "2019-08-18T00:00:00",
          "2019-08-25T00:00:00",
          "2019-09-01T00:00:00",
          "2019-09-08T00:00:00",
          "2019-09-15T00:00:00",
          "2019-09-22T00:00:00",
          "2019-09-29T00:00:00",
          "2019-10-06T00:00:00",
          "2019-10-13T00:00:00",
          "2019-10-20T00:00:00",
          "2019-10-27T00:00:00",
          "2019-11-03T00:00:00",
          "2019-11-10T00:00:00",
          "2019-11-17T00:00:00",
          "2019-11-24T00:00:00",
          "2019-12-01T00:00:00",
          "2019-12-08T00:00:00",
          "2019-12-15T00:00:00",
          "2019-12-22T00:00:00",
          "2019-12-29T00:00:00",
          "2020-01-05T00:00:00",
          "2020-01-12T00:00:00",
          "2020-01-19T00:00:00",
          "2020-01-26T00:00:00",
          "2020-02-02T00:00:00",
          "2020-02-09T00:00:00",
          "2020-02-16T00:00:00",
          "2020-02-23T00:00:00",
          "2020-03-01T00:00:00",
          "2020-03-08T00:00:00",
          "2020-03-15T00:00:00",
          "2020-03-22T00:00:00",
          "2020-03-29T00:00:00",
          "2020-04-05T00:00:00",
          "2020-04-12T00:00:00"
         ],
         "y": [
          50.4,
          57.1,
          53.7,
          63.6,
          61.3,
          64.5,
          63.2,
          59.5,
          68.2,
          66.2,
          63.1,
          63.4,
          58.8,
          63.9,
          65.9,
          62.9,
          61,
          61.1,
          62.1,
          61.4,
          62.4,
          50.7,
          65.8,
          62.5,
          47.9,
          52.5,
          50.1,
          49.4,
          51.2,
          49.3,
          46.2,
          49.4,
          50.4,
          46.2,
          48.9,
          53.9,
          55.6,
          63,
          58.8,
          57.3,
          62.7,
          61.9,
          69.5,
          61,
          60.9,
          63,
          58.8,
          63.7,
          65.4,
          68.7,
          59.9,
          45.9,
          51.7,
          58.9,
          66.2,
          60.2,
          60.2,
          70,
          70.5,
          67.8,
          65.4,
          69.4,
          68.1,
          67.6,
          65.1,
          70.6,
          59.6,
          60.9,
          64,
          66.7,
          62.4,
          62.6,
          62.7,
          52.8,
          53.8,
          49.8,
          46.2,
          46.5,
          45.7,
          48.2,
          46.8,
          53.9,
          50.1,
          52.7,
          44.3,
          46.6,
          46.2,
          47.6,
          55.7,
          56.3,
          54.7,
          57.4,
          57.3,
          62,
          58.2,
          56.6,
          59.3,
          57.8,
          66.8,
          49.5,
          55.6,
          63.6,
          50,
          39.9,
          42.8,
          58.7,
          59.1,
          null,
          null,
          null,
          null,
          null,
          null,
          null,
          null,
          null,
          null,
          null,
          null,
          null
         ]
        },
        {
         "line": {
          "color": "rgba(0, 90, 181, 0.7)",
          "dash": "solid"
         },
         "name": "Forecast",
         "type": "scatter",
         "x": [
          "2017-12-31T00:00:00",
          "2018-01-07T00:00:00",
          "2018-01-14T00:00:00",
          "2018-01-21T00:00:00",
          "2018-01-28T00:00:00",
          "2018-02-04T00:00:00",
          "2018-02-11T00:00:00",
          "2018-02-18T00:00:00",
          "2018-02-25T00:00:00",
          "2018-03-04T00:00:00",
          "2018-03-11T00:00:00",
          "2018-03-18T00:00:00",
          "2018-03-25T00:00:00",
          "2018-04-01T00:00:00",
          "2018-04-08T00:00:00",
          "2018-04-15T00:00:00",
          "2018-04-22T00:00:00",
          "2018-04-29T00:00:00",
          "2018-05-06T00:00:00",
          "2018-05-13T00:00:00",
          "2018-05-20T00:00:00",
          "2018-05-27T00:00:00",
          "2018-06-03T00:00:00",
          "2018-06-10T00:00:00",
          "2018-06-17T00:00:00",
          "2018-06-24T00:00:00",
          "2018-07-01T00:00:00",
          "2018-07-08T00:00:00",
          "2018-07-15T00:00:00",
          "2018-07-22T00:00:00",
          "2018-07-29T00:00:00",
          "2018-08-05T00:00:00",
          "2018-08-12T00:00:00",
          "2018-08-19T00:00:00",
          "2018-08-26T00:00:00",
          "2018-09-02T00:00:00",
          "2018-09-09T00:00:00",
          "2018-09-16T00:00:00",
          "2018-09-23T00:00:00",
          "2018-09-30T00:00:00",
          "2018-10-07T00:00:00",
          "2018-10-14T00:00:00",
          "2018-10-21T00:00:00",
          "2018-10-28T00:00:00",
          "2018-11-04T00:00:00",
          "2018-11-11T00:00:00",
          "2018-11-18T00:00:00",
          "2018-11-25T00:00:00",
          "2018-12-02T00:00:00",
          "2018-12-09T00:00:00",
          "2018-12-16T00:00:00",
          "2018-12-23T00:00:00",
          "2018-12-30T00:00:00",
          "2019-01-06T00:00:00",
          "2019-01-13T00:00:00",
          "2019-01-20T00:00:00",
          "2019-01-27T00:00:00",
          "2019-02-03T00:00:00",
          "2019-02-10T00:00:00",
          "2019-02-17T00:00:00",
          "2019-02-24T00:00:00",
          "2019-03-03T00:00:00",
          "2019-03-10T00:00:00",
          "2019-03-17T00:00:00",
          "2019-03-24T00:00:00",
          "2019-03-31T00:00:00",
          "2019-04-07T00:00:00",
          "2019-04-14T00:00:00",
          "2019-04-21T00:00:00",
          "2019-04-28T00:00:00",
          "2019-05-05T00:00:00",
          "2019-05-12T00:00:00",
          "2019-05-19T00:00:00",
          "2019-05-26T00:00:00",
          "2019-06-02T00:00:00",
          "2019-06-09T00:00:00",
          "2019-06-16T00:00:00",
          "2019-06-23T00:00:00",
          "2019-06-30T00:00:00",
          "2019-07-07T00:00:00",
          "2019-07-14T00:00:00",
          "2019-07-21T00:00:00",
          "2019-07-28T00:00:00",
          "2019-08-04T00:00:00",
          "2019-08-11T00:00:00",
          "2019-08-18T00:00:00",
          "2019-08-25T00:00:00",
          "2019-09-01T00:00:00",
          "2019-09-08T00:00:00",
          "2019-09-15T00:00:00",
          "2019-09-22T00:00:00",
          "2019-09-29T00:00:00",
          "2019-10-06T00:00:00",
          "2019-10-13T00:00:00",
          "2019-10-20T00:00:00",
          "2019-10-27T00:00:00",
          "2019-11-03T00:00:00",
          "2019-11-10T00:00:00",
          "2019-11-17T00:00:00",
          "2019-11-24T00:00:00",
          "2019-12-01T00:00:00",
          "2019-12-08T00:00:00",
          "2019-12-15T00:00:00",
          "2019-12-22T00:00:00",
          "2019-12-29T00:00:00",
          "2020-01-05T00:00:00",
          "2020-01-12T00:00:00",
          "2020-01-19T00:00:00",
          "2020-01-26T00:00:00",
          "2020-02-02T00:00:00",
          "2020-02-09T00:00:00",
          "2020-02-16T00:00:00",
          "2020-02-23T00:00:00",
          "2020-03-01T00:00:00",
          "2020-03-08T00:00:00",
          "2020-03-15T00:00:00",
          "2020-03-22T00:00:00",
          "2020-03-29T00:00:00",
          "2020-04-05T00:00:00",
          "2020-04-12T00:00:00"
         ],
         "y": [
          52.286368553447254,
          60.17507189062278,
          60.60409739435108,
          60.53003782126354,
          61.16858822721952,
          65.57780841998509,
          65.38997955478776,
          62.288616891500766,
          65.7059995528067,
          65.92786766469526,
          64.61313806357433,
          63.898996596513406,
          62.049968664886336,
          65.38106662603602,
          61.96354501538845,
          61.826226683370066,
          62.34912967566739,
          63.14984165570818,
          61.80955606415235,
          61.97934519221983,
          61.930513718688914,
          53.2012691678339,
          60.356746544138126,
          56.6889063757598,
          50.30338729413186,
          51.69244109762241,
          51.19046846602394,
          51.19419531222247,
          52.25893374202483,
          53.67283044824961,
          51.25973572076688,
          53.16682727470119,
          50.33520699218263,
          50.014631896575835,
          50.66211591735255,
          53.60172471947246,
          57.575526025439984,
          60.319235679738554,
          58.39679565624381,
          58.75426168327023,
          61.15998713039173,
          62.54212641664507,
          63.642985904260854,
          60.363398205275814,
          60.867006579368606,
          62.19066131278938,
          62.993684680171896,
          57.643645312676,
          62.761098996879284,
          65.45546318939115,
          56.54955819383315,
          47.04542080381304,
          51.427210683253065,
          59.74967911931221,
          60.46083308920436,
          60.723132284605214,
          60.808113301799416,
          64.98224542152182,
          65.8206313957989,
          62.208690523876896,
          64.82472002608266,
          65.98834183940295,
          64.11468686382518,
          63.84341482733142,
          61.271348872927426,
          64.53251708839741,
          61.86101945857668,
          60.69204921960072,
          61.560517602360136,
          61.9310396411494,
          61.249925426585435,
          60.279699093426416,
          61.6537358586746,
          52.302512558993314,
          57.873484290063885,
          56.75908647258677,
          48.827136153010166,
          50.04250230296359,
          49.45195482714385,
          49.49853249398024,
          49.944722469520585,
          51.96235914871652,
          49.2523626394322,
          50.94980167841172,
          48.61628125366041,
          47.58005378524907,
          48.13758586740407,
          50.48210468664429,
          54.70386148072429,
          57.44092582898084,
          56.214890633346734,
          55.484263876320405,
          58.125520716826415,
          59.26921629413985,
          60.967318132570014,
          57.48271731409245,
          57.62824626245978,
          58.101804634569866,
          60.009580334203015,
          54.68619986670039,
          57.99765339057606,
          62.40255016524243,
          54.44989857474148,
          44.419866183168274,
          46.10204600354379,
          55.191312044474834,
          56.492055331694594,
          56.68071814564454,
          56.40018534126268,
          60.01067398685621,
          61.99605420149062,
          58.29728776959929,
          59.796959266546764,
          62.094961263052724,
          59.87709549266005,
          59.97937684500452,
          57.064591502358766,
          59.77993575648877,
          58.51497295425612,
          56.115838085329614
         ]
        }
       ],
       "layout": {
        "annotations": [
         {
          "arrowhead": 0,
          "ax": -60,
          "ay": 0,
          "showarrow": true,
          "text": "Train End Date",
          "x": "2020-01-12T00:00:00",
          "xref": "x",
          "y": 0.97,
          "yref": "paper"
         }
        ],
        "autosize": true,
        "legend": {
         "traceorder": "reversed"
        },
        "shapes": [
         {
          "line": {
           "color": "rgba(100, 100, 100, 0.9)",
           "width": 1
          },
          "type": "line",
          "x0": "2020-01-12T00:00:00",
          "x1": "2020-01-12T00:00:00",
          "xref": "x",
          "y0": 0,
          "y1": 1,
          "yref": "paper"
         }
        ],
        "showlegend": true,
        "template": {
         "data": {
          "bar": [
           {
            "error_x": {
             "color": "#2a3f5f"
            },
            "error_y": {
             "color": "#2a3f5f"
            },
            "marker": {
             "line": {
              "color": "#E5ECF6",
              "width": 0.5
             },
             "pattern": {
              "fillmode": "overlay",
              "size": 10,
              "solidity": 0.2
             }
            },
            "type": "bar"
           }
          ],
          "barpolar": [
           {
            "marker": {
             "line": {
              "color": "#E5ECF6",
              "width": 0.5
             },
             "pattern": {
              "fillmode": "overlay",
              "size": 10,
              "solidity": 0.2
             }
            },
            "type": "barpolar"
           }
          ],
          "carpet": [
           {
            "aaxis": {
             "endlinecolor": "#2a3f5f",
             "gridcolor": "white",
             "linecolor": "white",
             "minorgridcolor": "white",
             "startlinecolor": "#2a3f5f"
            },
            "baxis": {
             "endlinecolor": "#2a3f5f",
             "gridcolor": "white",
             "linecolor": "white",
             "minorgridcolor": "white",
             "startlinecolor": "#2a3f5f"
            },
            "type": "carpet"
           }
          ],
          "choropleth": [
           {
            "colorbar": {
             "outlinewidth": 0,
             "ticks": ""
            },
            "type": "choropleth"
           }
          ],
          "contour": [
           {
            "colorbar": {
             "outlinewidth": 0,
             "ticks": ""
            },
            "colorscale": [
             [
              0,
              "#0d0887"
             ],
             [
              0.1111111111111111,
              "#46039f"
             ],
             [
              0.2222222222222222,
              "#7201a8"
             ],
             [
              0.3333333333333333,
              "#9c179e"
             ],
             [
              0.4444444444444444,
              "#bd3786"
             ],
             [
              0.5555555555555556,
              "#d8576b"
             ],
             [
              0.6666666666666666,
              "#ed7953"
             ],
             [
              0.7777777777777778,
              "#fb9f3a"
             ],
             [
              0.8888888888888888,
              "#fdca26"
             ],
             [
              1,
              "#f0f921"
             ]
            ],
            "type": "contour"
           }
          ],
          "contourcarpet": [
           {
            "colorbar": {
             "outlinewidth": 0,
             "ticks": ""
            },
            "type": "contourcarpet"
           }
          ],
          "heatmap": [
           {
            "colorbar": {
             "outlinewidth": 0,
             "ticks": ""
            },
            "colorscale": [
             [
              0,
              "#0d0887"
             ],
             [
              0.1111111111111111,
              "#46039f"
             ],
             [
              0.2222222222222222,
              "#7201a8"
             ],
             [
              0.3333333333333333,
              "#9c179e"
             ],
             [
              0.4444444444444444,
              "#bd3786"
             ],
             [
              0.5555555555555556,
              "#d8576b"
             ],
             [
              0.6666666666666666,
              "#ed7953"
             ],
             [
              0.7777777777777778,
              "#fb9f3a"
             ],
             [
              0.8888888888888888,
              "#fdca26"
             ],
             [
              1,
              "#f0f921"
             ]
            ],
            "type": "heatmap"
           }
          ],
          "heatmapgl": [
           {
            "colorbar": {
             "outlinewidth": 0,
             "ticks": ""
            },
            "colorscale": [
             [
              0,
              "#0d0887"
             ],
             [
              0.1111111111111111,
              "#46039f"
             ],
             [
              0.2222222222222222,
              "#7201a8"
             ],
             [
              0.3333333333333333,
              "#9c179e"
             ],
             [
              0.4444444444444444,
              "#bd3786"
             ],
             [
              0.5555555555555556,
              "#d8576b"
             ],
             [
              0.6666666666666666,
              "#ed7953"
             ],
             [
              0.7777777777777778,
              "#fb9f3a"
             ],
             [
              0.8888888888888888,
              "#fdca26"
             ],
             [
              1,
              "#f0f921"
             ]
            ],
            "type": "heatmapgl"
           }
          ],
          "histogram": [
           {
            "marker": {
             "pattern": {
              "fillmode": "overlay",
              "size": 10,
              "solidity": 0.2
             }
            },
            "type": "histogram"
           }
          ],
          "histogram2d": [
           {
            "colorbar": {
             "outlinewidth": 0,
             "ticks": ""
            },
            "colorscale": [
             [
              0,
              "#0d0887"
             ],
             [
              0.1111111111111111,
              "#46039f"
             ],
             [
              0.2222222222222222,
              "#7201a8"
             ],
             [
              0.3333333333333333,
              "#9c179e"
             ],
             [
              0.4444444444444444,
              "#bd3786"
             ],
             [
              0.5555555555555556,
              "#d8576b"
             ],
             [
              0.6666666666666666,
              "#ed7953"
             ],
             [
              0.7777777777777778,
              "#fb9f3a"
             ],
             [
              0.8888888888888888,
              "#fdca26"
             ],
             [
              1,
              "#f0f921"
             ]
            ],
            "type": "histogram2d"
           }
          ],
          "histogram2dcontour": [
           {
            "colorbar": {
             "outlinewidth": 0,
             "ticks": ""
            },
            "colorscale": [
             [
              0,
              "#0d0887"
             ],
             [
              0.1111111111111111,
              "#46039f"
             ],
             [
              0.2222222222222222,
              "#7201a8"
             ],
             [
              0.3333333333333333,
              "#9c179e"
             ],
             [
              0.4444444444444444,
              "#bd3786"
             ],
             [
              0.5555555555555556,
              "#d8576b"
             ],
             [
              0.6666666666666666,
              "#ed7953"
             ],
             [
              0.7777777777777778,
              "#fb9f3a"
             ],
             [
              0.8888888888888888,
              "#fdca26"
             ],
             [
              1,
              "#f0f921"
             ]
            ],
            "type": "histogram2dcontour"
           }
          ],
          "mesh3d": [
           {
            "colorbar": {
             "outlinewidth": 0,
             "ticks": ""
            },
            "type": "mesh3d"
           }
          ],
          "parcoords": [
           {
            "line": {
             "colorbar": {
              "outlinewidth": 0,
              "ticks": ""
             }
            },
            "type": "parcoords"
           }
          ],
          "pie": [
           {
            "automargin": true,
            "type": "pie"
           }
          ],
          "scatter": [
           {
            "fillpattern": {
             "fillmode": "overlay",
             "size": 10,
             "solidity": 0.2
            },
            "type": "scatter"
           }
          ],
          "scatter3d": [
           {
            "line": {
             "colorbar": {
              "outlinewidth": 0,
              "ticks": ""
             }
            },
            "marker": {
             "colorbar": {
              "outlinewidth": 0,
              "ticks": ""
             }
            },
            "type": "scatter3d"
           }
          ],
          "scattercarpet": [
           {
            "marker": {
             "colorbar": {
              "outlinewidth": 0,
              "ticks": ""
             }
            },
            "type": "scattercarpet"
           }
          ],
          "scattergeo": [
           {
            "marker": {
             "colorbar": {
              "outlinewidth": 0,
              "ticks": ""
             }
            },
            "type": "scattergeo"
           }
          ],
          "scattergl": [
           {
            "marker": {
             "colorbar": {
              "outlinewidth": 0,
              "ticks": ""
             }
            },
            "type": "scattergl"
           }
          ],
          "scattermapbox": [
           {
            "marker": {
             "colorbar": {
              "outlinewidth": 0,
              "ticks": ""
             }
            },
            "type": "scattermapbox"
           }
          ],
          "scatterpolar": [
           {
            "marker": {
             "colorbar": {
              "outlinewidth": 0,
              "ticks": ""
             }
            },
            "type": "scatterpolar"
           }
          ],
          "scatterpolargl": [
           {
            "marker": {
             "colorbar": {
              "outlinewidth": 0,
              "ticks": ""
             }
            },
            "type": "scatterpolargl"
           }
          ],
          "scatterternary": [
           {
            "marker": {
             "colorbar": {
              "outlinewidth": 0,
              "ticks": ""
             }
            },
            "type": "scatterternary"
           }
          ],
          "surface": [
           {
            "colorbar": {
             "outlinewidth": 0,
             "ticks": ""
            },
            "colorscale": [
             [
              0,
              "#0d0887"
             ],
             [
              0.1111111111111111,
              "#46039f"
             ],
             [
              0.2222222222222222,
              "#7201a8"
             ],
             [
              0.3333333333333333,
              "#9c179e"
             ],
             [
              0.4444444444444444,
              "#bd3786"
             ],
             [
              0.5555555555555556,
              "#d8576b"
             ],
             [
              0.6666666666666666,
              "#ed7953"
             ],
             [
              0.7777777777777778,
              "#fb9f3a"
             ],
             [
              0.8888888888888888,
              "#fdca26"
             ],
             [
              1,
              "#f0f921"
             ]
            ],
            "type": "surface"
           }
          ],
          "table": [
           {
            "cells": {
             "fill": {
              "color": "#EBF0F8"
             },
             "line": {
              "color": "white"
             }
            },
            "header": {
             "fill": {
              "color": "#C8D4E3"
             },
             "line": {
              "color": "white"
             }
            },
            "type": "table"
           }
          ]
         },
         "layout": {
          "annotationdefaults": {
           "arrowcolor": "#2a3f5f",
           "arrowhead": 0,
           "arrowwidth": 1
          },
          "autotypenumbers": "strict",
          "coloraxis": {
           "colorbar": {
            "outlinewidth": 0,
            "ticks": ""
           }
          },
          "colorscale": {
           "diverging": [
            [
             0,
             "#8e0152"
            ],
            [
             0.1,
             "#c51b7d"
            ],
            [
             0.2,
             "#de77ae"
            ],
            [
             0.3,
             "#f1b6da"
            ],
            [
             0.4,
             "#fde0ef"
            ],
            [
             0.5,
             "#f7f7f7"
            ],
            [
             0.6,
             "#e6f5d0"
            ],
            [
             0.7,
             "#b8e186"
            ],
            [
             0.8,
             "#7fbc41"
            ],
            [
             0.9,
             "#4d9221"
            ],
            [
             1,
             "#276419"
            ]
           ],
           "sequential": [
            [
             0,
             "#0d0887"
            ],
            [
             0.1111111111111111,
             "#46039f"
            ],
            [
             0.2222222222222222,
             "#7201a8"
            ],
            [
             0.3333333333333333,
             "#9c179e"
            ],
            [
             0.4444444444444444,
             "#bd3786"
            ],
            [
             0.5555555555555556,
             "#d8576b"
            ],
            [
             0.6666666666666666,
             "#ed7953"
            ],
            [
             0.7777777777777778,
             "#fb9f3a"
            ],
            [
             0.8888888888888888,
             "#fdca26"
            ],
            [
             1,
             "#f0f921"
            ]
           ],
           "sequentialminus": [
            [
             0,
             "#0d0887"
            ],
            [
             0.1111111111111111,
             "#46039f"
            ],
            [
             0.2222222222222222,
             "#7201a8"
            ],
            [
             0.3333333333333333,
             "#9c179e"
            ],
            [
             0.4444444444444444,
             "#bd3786"
            ],
            [
             0.5555555555555556,
             "#d8576b"
            ],
            [
             0.6666666666666666,
             "#ed7953"
            ],
            [
             0.7777777777777778,
             "#fb9f3a"
            ],
            [
             0.8888888888888888,
             "#fdca26"
            ],
            [
             1,
             "#f0f921"
            ]
           ]
          },
          "colorway": [
           "#636efa",
           "#EF553B",
           "#00cc96",
           "#ab63fa",
           "#FFA15A",
           "#19d3f3",
           "#FF6692",
           "#B6E880",
           "#FF97FF",
           "#FECB52"
          ],
          "font": {
           "color": "#2a3f5f"
          },
          "geo": {
           "bgcolor": "white",
           "lakecolor": "white",
           "landcolor": "#E5ECF6",
           "showlakes": true,
           "showland": true,
           "subunitcolor": "white"
          },
          "hoverlabel": {
           "align": "left"
          },
          "hovermode": "closest",
          "mapbox": {
           "style": "light"
          },
          "paper_bgcolor": "white",
          "plot_bgcolor": "#E5ECF6",
          "polar": {
           "angularaxis": {
            "gridcolor": "white",
            "linecolor": "white",
            "ticks": ""
           },
           "bgcolor": "#E5ECF6",
           "radialaxis": {
            "gridcolor": "white",
            "linecolor": "white",
            "ticks": ""
           }
          },
          "scene": {
           "xaxis": {
            "backgroundcolor": "#E5ECF6",
            "gridcolor": "white",
            "gridwidth": 2,
            "linecolor": "white",
            "showbackground": true,
            "ticks": "",
            "zerolinecolor": "white"
           },
           "yaxis": {
            "backgroundcolor": "#E5ECF6",
            "gridcolor": "white",
            "gridwidth": 2,
            "linecolor": "white",
            "showbackground": true,
            "ticks": "",
            "zerolinecolor": "white"
           },
           "zaxis": {
            "backgroundcolor": "#E5ECF6",
            "gridcolor": "white",
            "gridwidth": 2,
            "linecolor": "white",
            "showbackground": true,
            "ticks": "",
            "zerolinecolor": "white"
           }
          },
          "shapedefaults": {
           "line": {
            "color": "#2a3f5f"
           }
          },
          "ternary": {
           "aaxis": {
            "gridcolor": "white",
            "linecolor": "white",
            "ticks": ""
           },
           "baxis": {
            "gridcolor": "white",
            "linecolor": "white",
            "ticks": ""
           },
           "bgcolor": "#E5ECF6",
           "caxis": {
            "gridcolor": "white",
            "linecolor": "white",
            "ticks": ""
           }
          },
          "title": {
           "x": 0.05
          },
          "xaxis": {
           "automargin": true,
           "gridcolor": "white",
           "linecolor": "white",
           "ticks": "",
           "title": {
            "standoff": 15
           },
           "zerolinecolor": "white",
           "zerolinewidth": 2
          },
          "yaxis": {
           "automargin": true,
           "gridcolor": "white",
           "linecolor": "white",
           "ticks": "",
           "title": {
            "standoff": 15
           },
           "zerolinecolor": "white",
           "zerolinewidth": 2
          }
         }
        },
        "title": {
         "text": "Forecast vs Actual",
         "x": 0.5
        },
        "xaxis": {
         "autorange": true,
         "range": [
          "2017-11-12 06:32:12.451",
          "2020-05-30 17:27:47.549"
         ],
         "title": {
          "text": "ts"
         },
         "type": "date"
        },
        "yaxis": {
         "autorange": true,
         "range": [
          36.53822842609459,
          73.86997959647663
         ],
         "title": {
          "text": "y"
         },
         "type": "linear"
        }
       }
      },
      "image/png": "[encoded data removed]",
      "text/html": [
       "<div>                            <div id=\"2c0667ea-056e-4f9d-b4a8-fb58ef679c84\" class=\"plotly-graph-div\" style=\"height:525px; width:100%;\"></div>            <script type=\"text/javascript\">                require([\"plotly\"], function(Plotly) {                    window.PLOTLYENV=window.PLOTLYENV || {};                                    if (document.getElementById(\"2c0667ea-056e-4f9d-b4a8-fb58ef679c84\")) {                    Plotly.newPlot(                        \"2c0667ea-056e-4f9d-b4a8-fb58ef679c84\",                        [{\"legendgroup\":\"interval\",\"line\":{\"color\":\"rgba(0, 90, 181, 0.5)\",\"width\":0.0},\"mode\":\"lines\",\"name\":\"Lower Bound\",\"x\":[\"2017-12-31T00:00:00\",\"2018-01-07T00:00:00\",\"2018-01-14T00:00:00\",\"2018-01-21T00:00:00\",\"2018-01-28T00:00:00\",\"2018-02-04T00:00:00\",\"2018-02-11T00:00:00\",\"2018-02-18T00:00:00\",\"2018-02-25T00:00:00\",\"2018-03-04T00:00:00\",\"2018-03-11T00:00:00\",\"2018-03-18T00:00:00\",\"2018-03-25T00:00:00\",\"2018-04-01T00:00:00\",\"2018-04-08T00:00:00\",\"2018-04-15T00:00:00\",\"2018-04-22T00:00:00\",\"2018-04-29T00:00:00\",\"2018-05-06T00:00:00\",\"2018-05-13T00:00:00\",\"2018-05-20T00:00:00\",\"2018-05-27T00:00:00\",\"2018-06-03T00:00:00\",\"2018-06-10T00:00:00\",\"2018-06-17T00:00:00\",\"2018-06-24T00:00:00\",\"2018-07-01T00:00:00\",\"2018-07-08T00:00:00\",\"2018-07-15T00:00:00\",\"2018-07-22T00:00:00\",\"2018-07-29T00:00:00\",\"2018-08-05T00:00:00\",\"2018-08-12T00:00:00\",\"2018-08-19T00:00:00\",\"2018-08-26T00:00:00\",\"2018-09-02T00:00:00\",\"2018-09-09T00:00:00\",\"2018-09-16T00:00:00\",\"2018-09-23T00:00:00\",\"2018-09-30T00:00:00\",\"2018-10-07T00:00:00\",\"2018-10-14T00:00:00\",\"2018-10-21T00:00:00\",\"2018-10-28T00:00:00\",\"2018-11-04T00:00:00\",\"2018-11-11T00:00:00\",\"2018-11-18T00:00:00\",\"2018-11-25T00:00:00\",\"2018-12-02T00:00:00\",\"2018-12-09T00:00:00\",\"2018-12-16T00:00:00\",\"2018-12-23T00:00:00\",\"2018-12-30T00:00:00\",\"2019-01-06T00:00:00\",\"2019-01-13T00:00:00\",\"2019-01-20T00:00:00\",\"2019-01-27T00:00:00\",\"2019-02-03T00:00:00\",\"2019-02-10T00:00:00\",\"2019-02-17T00:00:00\",\"2019-02-24T00:00:00\",\"2019-03-03T00:00:00\",\"2019-03-10T00:00:00\",\"2019-03-17T00:00:00\",\"2019-03-24T00:00:00\",\"2019-03-31T00:00:00\",\"2019-04-07T00:00:00\",\"2019-04-14T00:00:00\",\"2019-04-21T00:00:00\",\"2019-04-28T00:00:00\",\"2019-05-05T00:00:00\",\"2019-05-12T00:00:00\",\"2019-05-19T00:00:00\",\"2019-05-26T00:00:00\",\"2019-06-02T00:00:00\",\"2019-06-09T00:00:00\",\"2019-06-16T00:00:00\",\"2019-06-23T00:00:00\",\"2019-06-30T00:00:00\",\"2019-07-07T00:00:00\",\"2019-07-14T00:00:00\",\"2019-07-21T00:00:00\",\"2019-07-28T00:00:00\",\"2019-08-04T00:00:00\",\"2019-08-11T00:00:00\",\"2019-08-18T00:00:00\",\"2019-08-25T00:00:00\",\"2019-09-01T00:00:00\",\"2019-09-08T00:00:00\",\"2019-09-15T00:00:00\",\"2019-09-22T00:00:00\",\"2019-09-29T00:00:00\",\"2019-10-06T00:00:00\",\"2019-10-13T00:00:00\",\"2019-10-20T00:00:00\",\"2019-10-27T00:00:00\",\"2019-11-03T00:00:00\",\"2019-11-10T00:00:00\",\"2019-11-17T00:00:00\",\"2019-11-24T00:00:00\",\"2019-12-01T00:00:00\",\"2019-12-08T00:00:00\",\"2019-12-15T00:00:00\",\"2019-12-22T00:00:00\",\"2019-12-29T00:00:00\",\"2020-01-05T00:00:00\",\"2020-01-12T00:00:00\",\"2020-01-19T00:00:00\",\"2020-01-26T00:00:00\",\"2020-02-02T00:00:00\",\"2020-02-09T00:00:00\",\"2020-02-16T00:00:00\",\"2020-02-23T00:00:00\",\"2020-03-01T00:00:00\",\"2020-03-08T00:00:00\",\"2020-03-15T00:00:00\",\"2020-03-22T00:00:00\",\"2020-03-29T00:00:00\",\"2020-04-05T00:00:00\",\"2020-04-12T00:00:00\"],\"y\":[46.27131835489267,54.1600216920682,54.589047195796496,54.51498762270896,55.15353802866494,59.562758221430514,59.37492935623318,56.27356669294619,59.690949354252126,59.91281746614068,58.59808786501975,57.88394639795882,56.03491846633176,59.36601642748144,55.94849481683387,55.81117648481549,56.33407947711281,57.1347914571536,55.79450586559777,55.96429499366525,55.91546352013434,47.186218969279324,54.34169634558354,50.673856177205224,44.288337095577276,45.67739089906783,45.175418267469354,45.179145113667886,46.24388354347025,47.65778024969504,45.24468552221229,47.151777076146615,44.320156793628044,43.99958169802126,44.647065718797975,47.58667452091788,51.56047582688541,54.30418548118398,52.381745457689235,52.73921148471565,55.14493693183715,56.527076218090485,57.62793570570628,54.34834800672124,54.85195638081403,56.1756111142348,56.97863448161732,51.628595114121424,56.74604879832471,59.44041299083658,50.534507995278574,41.030370605258454,45.41216048469849,53.73462892075763,54.44578289064978,54.70808208605064,54.79306310324483,58.96719522296725,59.80558119724432,56.19364032532232,58.80966982752808,59.97329164084837,58.09963666527061,57.82836462877684,55.25629867437284,58.51746688984284,55.8459692600221,54.67699902104614,55.54546740380556,55.91598944259482,55.23487522803086,54.26464889487184,55.63868566012002,46.28746236043874,51.85843409150931,50.7440362740322,42.81208595445558,44.02745210440901,43.436904628589275,43.48348229542566,43.92967227096601,45.94730895016194,43.237312440877616,44.93475147985714,42.60123105510583,41.56500358669449,42.122535668849494,44.467054488089715,48.68881128216971,51.42587563042626,50.19984043479215,49.46921367776582,52.11047051827184,53.254166095585276,54.95226793401544,51.467667115537864,51.61319606390521,52.08675443601528,53.99453013564843,48.671149668145816,51.982603192021486,56.387499966687855,48.434848376186906,38.40481598461369,40.086995804989215,49.17626184592025,50.47700513314001,50.66566794708996,50.385135142708094,53.99562378830163,55.98100400293605,52.28223757104472,53.78190906799219,56.07991106449815,53.86204529410547,53.96432664644995,51.04954130380419,53.76488555793419,52.49992275570155,50.10078788677504],\"type\":\"scatter\"},{\"fill\":\"tonexty\",\"fillcolor\":\"rgba(0, 90, 181, 0.15)\",\"legendgroup\":\"interval\",\"line\":{\"color\":\"rgba(0, 90, 181, 0.5)\",\"width\":0.0},\"mode\":\"lines\",\"name\":\"Upper Bound\",\"x\":[\"2017-12-31T00:00:00\",\"2018-01-07T00:00:00\",\"2018-01-14T00:00:00\",\"2018-01-21T00:00:00\",\"2018-01-28T00:00:00\",\"2018-02-04T00:00:00\",\"2018-02-11T00:00:00\",\"2018-02-18T00:00:00\",\"2018-02-25T00:00:00\",\"2018-03-04T00:00:00\",\"2018-03-11T00:00:00\",\"2018-03-18T00:00:00\",\"2018-03-25T00:00:00\",\"2018-04-01T00:00:00\",\"2018-04-08T00:00:00\",\"2018-04-15T00:00:00\",\"2018-04-22T00:00:00\",\"2018-04-29T00:00:00\",\"2018-05-06T00:00:00\",\"2018-05-13T00:00:00\",\"2018-05-20T00:00:00\",\"2018-05-27T00:00:00\",\"2018-06-03T00:00:00\",\"2018-06-10T00:00:00\",\"2018-06-17T00:00:00\",\"2018-06-24T00:00:00\",\"2018-07-01T00:00:00\",\"2018-07-08T00:00:00\",\"2018-07-15T00:00:00\",\"2018-07-22T00:00:00\",\"2018-07-29T00:00:00\",\"2018-08-05T00:00:00\",\"2018-08-12T00:00:00\",\"2018-08-19T00:00:00\",\"2018-08-26T00:00:00\",\"2018-09-02T00:00:00\",\"2018-09-09T00:00:00\",\"2018-09-16T00:00:00\",\"2018-09-23T00:00:00\",\"2018-09-30T00:00:00\",\"2018-10-07T00:00:00\",\"2018-10-14T00:00:00\",\"2018-10-21T00:00:00\",\"2018-10-28T00:00:00\",\"2018-11-04T00:00:00\",\"2018-11-11T00:00:00\",\"2018-11-18T00:00:00\",\"2018-11-25T00:00:00\",\"2018-12-02T00:00:00\",\"2018-12-09T00:00:00\",\"2018-12-16T00:00:00\",\"2018-12-23T00:00:00\",\"2018-12-30T00:00:00\",\"2019-01-06T00:00:00\",\"2019-01-13T00:00:00\",\"2019-01-20T00:00:00\",\"2019-01-27T00:00:00\",\"2019-02-03T00:00:00\",\"2019-02-10T00:00:00\",\"2019-02-17T00:00:00\",\"2019-02-24T00:00:00\",\"2019-03-03T00:00:00\",\"2019-03-10T00:00:00\",\"2019-03-17T00:00:00\",\"2019-03-24T00:00:00\",\"2019-03-31T00:00:00\",\"2019-04-07T00:00:00\",\"2019-04-14T00:00:00\",\"2019-04-21T00:00:00\",\"2019-04-28T00:00:00\",\"2019-05-05T00:00:00\",\"2019-05-12T00:00:00\",\"2019-05-19T00:00:00\",\"2019-05-26T00:00:00\",\"2019-06-02T00:00:00\",\"2019-06-09T00:00:00\",\"2019-06-16T00:00:00\",\"2019-06-23T00:00:00\",\"2019-06-30T00:00:00\",\"2019-07-07T00:00:00\",\"2019-07-14T00:00:00\",\"2019-07-21T00:00:00\",\"2019-07-28T00:00:00\",\"2019-08-04T00:00:00\",\"2019-08-11T00:00:00\",\"2019-08-18T00:00:00\",\"2019-08-25T00:00:00\",\"2019-09-01T00:00:00\",\"2019-09-08T00:00:00\",\"2019-09-15T00:00:00\",\"2019-09-22T00:00:00\",\"2019-09-29T00:00:00\",\"2019-10-06T00:00:00\",\"2019-10-13T00:00:00\",\"2019-10-20T00:00:00\",\"2019-10-27T00:00:00\",\"2019-11-03T00:00:00\",\"2019-11-10T00:00:00\",\"2019-11-17T00:00:00\",\"2019-11-24T00:00:00\",\"2019-12-01T00:00:00\",\"2019-12-08T00:00:00\",\"2019-12-15T00:00:00\",\"2019-12-22T00:00:00\",\"2019-12-29T00:00:00\",\"2020-01-05T00:00:00\",\"2020-01-12T00:00:00\",\"2020-01-19T00:00:00\",\"2020-01-26T00:00:00\",\"2020-02-02T00:00:00\",\"2020-02-09T00:00:00\",\"2020-02-16T00:00:00\",\"2020-02-23T00:00:00\",\"2020-03-01T00:00:00\",\"2020-03-08T00:00:00\",\"2020-03-15T00:00:00\",\"2020-03-22T00:00:00\",\"2020-03-29T00:00:00\",\"2020-04-05T00:00:00\",\"2020-04-12T00:00:00\"],\"y\":[58.30141875200184,66.19012208917736,66.61914759290566,66.54508801981812,67.1836384257741,71.59285861853967,71.40502975334233,68.30366709005534,71.72104975136128,71.94291786324983,70.6281882621289,69.91404679506799,68.06501886344091,71.39611682459059,67.97859521394302,67.84127688192464,68.36417987422197,69.16489185426276,67.82460626270694,67.99439539077441,67.94556391724349,59.216319366388475,66.37179674269271,62.703956574314375,56.31843749268644,57.70749129617698,57.20551866457852,57.20924551077705,58.27398394057941,59.68788064680419,57.27478591932146,59.18187747325577,56.35025719073721,56.02968209513041,56.67716611590713,59.61677491802703,63.59057622399456,66.33428587829313,64.41184585479839,64.7693118818248,67.1750373289463,68.55717661519965,69.65803610281543,66.37844840383039,66.88205677792318,68.20571151134396,69.00873487872647,63.658695511230576,68.77614919543386,71.47051338794573,62.564608392387726,53.06047100236762,57.44226088180764,65.7647293178668,66.47588328775893,66.73818248315979,66.823163500354,70.9972956200764,71.83568159435347,68.22374072243147,70.83977022463723,72.00339203795752,70.12973706237976,69.858465025886,67.28639907148201,70.54756728695199,67.87606965713125,66.7070994181553,67.57556780091471,67.94608983970397,67.26497562514001,66.29474929198099,67.66878605722918,58.31756275754789,63.88853448861846,62.77413667114135,54.84218635156475,56.057552501518174,55.46700502569843,55.513582692534825,55.95977266807516,57.977409347271106,55.26741283798678,56.96485187696629,54.631331452214994,53.595103983803654,54.152636065958646,56.49715488519887,60.718911679278875,63.455976027535414,62.22994083190132,61.49931407487499,64.14057091538099,65.28426649269443,66.98236833112459,63.49776751264703,63.64329646101436,64.11685483312445,66.0246305327576,60.70125006525497,64.01270358913064,68.417600363797,60.46494877329606,50.43491638172286,52.11709620209837,61.20636224302942,62.50710553024918,62.695768344199124,62.41523553981726,66.0257241854108,68.0111044000452,64.31233796815387,65.81200946510134,68.1100114616073,65.89214569121462,65.9944270435591,63.07964170091334,65.79498595504334,64.5300231528107,62.13088828388419],\"type\":\"scatter\"},{\"line\":{\"color\":\"rgba(250, 43, 20, 0.7)\"},\"marker\":{\"color\":\"rgba(250, 43, 20, 0.7)\",\"size\":2.0},\"mode\":\"lines+markers\",\"name\":\"Actual\",\"opacity\":1.0,\"x\":[\"2017-12-31T00:00:00\",\"2018-01-07T00:00:00\",\"2018-01-14T00:00:00\",\"2018-01-21T00:00:00\",\"2018-01-28T00:00:00\",\"2018-02-04T00:00:00\",\"2018-02-11T00:00:00\",\"2018-02-18T00:00:00\",\"2018-02-25T00:00:00\",\"2018-03-04T00:00:00\",\"2018-03-11T00:00:00\",\"2018-03-18T00:00:00\",\"2018-03-25T00:00:00\",\"2018-04-01T00:00:00\",\"2018-04-08T00:00:00\",\"2018-04-15T00:00:00\",\"2018-04-22T00:00:00\",\"2018-04-29T00:00:00\",\"2018-05-06T00:00:00\",\"2018-05-13T00:00:00\",\"2018-05-20T00:00:00\",\"2018-05-27T00:00:00\",\"2018-06-03T00:00:00\",\"2018-06-10T00:00:00\",\"2018-06-17T00:00:00\",\"2018-06-24T00:00:00\",\"2018-07-01T00:00:00\",\"2018-07-08T00:00:00\",\"2018-07-15T00:00:00\",\"2018-07-22T00:00:00\",\"2018-07-29T00:00:00\",\"2018-08-05T00:00:00\",\"2018-08-12T00:00:00\",\"2018-08-19T00:00:00\",\"2018-08-26T00:00:00\",\"2018-09-02T00:00:00\",\"2018-09-09T00:00:00\",\"2018-09-16T00:00:00\",\"2018-09-23T00:00:00\",\"2018-09-30T00:00:00\",\"2018-10-07T00:00:00\",\"2018-10-14T00:00:00\",\"2018-10-21T00:00:00\",\"2018-10-28T00:00:00\",\"2018-11-04T00:00:00\",\"2018-11-11T00:00:00\",\"2018-11-18T00:00:00\",\"2018-11-25T00:00:00\",\"2018-12-02T00:00:00\",\"2018-12-09T00:00:00\",\"2018-12-16T00:00:00\",\"2018-12-23T00:00:00\",\"2018-12-30T00:00:00\",\"2019-01-06T00:00:00\",\"2019-01-13T00:00:00\",\"2019-01-20T00:00:00\",\"2019-01-27T00:00:00\",\"2019-02-03T00:00:00\",\"2019-02-10T00:00:00\",\"2019-02-17T00:00:00\",\"2019-02-24T00:00:00\",\"2019-03-03T00:00:00\",\"2019-03-10T00:00:00\",\"2019-03-17T00:00:00\",\"2019-03-24T00:00:00\",\"2019-03-31T00:00:00\",\"2019-04-07T00:00:00\",\"2019-04-14T00:00:00\",\"2019-04-21T00:00:00\",\"2019-04-28T00:00:00\",\"2019-05-05T00:00:00\",\"2019-05-12T00:00:00\",\"2019-05-19T00:00:00\",\"2019-05-26T00:00:00\",\"2019-06-02T00:00:00\",\"2019-06-09T00:00:00\",\"2019-06-16T00:00:00\",\"2019-06-23T00:00:00\",\"2019-06-30T00:00:00\",\"2019-07-07T00:00:00\",\"2019-07-14T00:00:00\",\"2019-07-21T00:00:00\",\"2019-07-28T00:00:00\",\"2019-08-04T00:00:00\",\"2019-08-11T00:00:00\",\"2019-08-18T00:00:00\",\"2019-08-25T00:00:00\",\"2019-09-01T00:00:00\",\"2019-09-08T00:00:00\",\"2019-09-15T00:00:00\",\"2019-09-22T00:00:00\",\"2019-09-29T00:00:00\",\"2019-10-06T00:00:00\",\"2019-10-13T00:00:00\",\"2019-10-20T00:00:00\",\"2019-10-27T00:00:00\",\"2019-11-03T00:00:00\",\"2019-11-10T00:00:00\",\"2019-11-17T00:00:00\",\"2019-11-24T00:00:00\",\"2019-12-01T00:00:00\",\"2019-12-08T00:00:00\",\"2019-12-15T00:00:00\",\"2019-12-22T00:00:00\",\"2019-12-29T00:00:00\",\"2020-01-05T00:00:00\",\"2020-01-12T00:00:00\",\"2020-01-19T00:00:00\",\"2020-01-26T00:00:00\",\"2020-02-02T00:00:00\",\"2020-02-09T00:00:00\",\"2020-02-16T00:00:00\",\"2020-02-23T00:00:00\",\"2020-03-01T00:00:00\",\"2020-03-08T00:00:00\",\"2020-03-15T00:00:00\",\"2020-03-22T00:00:00\",\"2020-03-29T00:00:00\",\"2020-04-05T00:00:00\",\"2020-04-12T00:00:00\"],\"y\":[50.4,57.1,53.7,63.6,61.3,64.5,63.2,59.5,68.2,66.2,63.1,63.4,58.8,63.9,65.9,62.9,61.0,61.1,62.1,61.4,62.4,50.7,65.8,62.5,47.9,52.5,50.1,49.4,51.2,49.3,46.2,49.4,50.4,46.2,48.9,53.9,55.6,63.0,58.8,57.3,62.7,61.9,69.5,61.0,60.9,63.0,58.8,63.7,65.4,68.7,59.9,45.9,51.7,58.9,66.2,60.2,60.2,70.0,70.5,67.8,65.4,69.4,68.1,67.6,65.1,70.6,59.6,60.9,64.0,66.7,62.4,62.6,62.7,52.8,53.8,49.8,46.2,46.5,45.7,48.2,46.8,53.9,50.1,52.7,44.3,46.6,46.2,47.6,55.7,56.3,54.7,57.4,57.3,62.0,58.2,56.6,59.3,57.8,66.8,49.5,55.6,63.6,50.0,39.9,42.8,58.7,59.1,null,null,null,null,null,null,null,null,null,null,null,null,null],\"type\":\"scatter\"},{\"line\":{\"color\":\"rgba(0, 90, 181, 0.7)\",\"dash\":\"solid\"},\"name\":\"Forecast\",\"x\":[\"2017-12-31T00:00:00\",\"2018-01-07T00:00:00\",\"2018-01-14T00:00:00\",\"2018-01-21T00:00:00\",\"2018-01-28T00:00:00\",\"2018-02-04T00:00:00\",\"2018-02-11T00:00:00\",\"2018-02-18T00:00:00\",\"2018-02-25T00:00:00\",\"2018-03-04T00:00:00\",\"2018-03-11T00:00:00\",\"2018-03-18T00:00:00\",\"2018-03-25T00:00:00\",\"2018-04-01T00:00:00\",\"2018-04-08T00:00:00\",\"2018-04-15T00:00:00\",\"2018-04-22T00:00:00\",\"2018-04-29T00:00:00\",\"2018-05-06T00:00:00\",\"2018-05-13T00:00:00\",\"2018-05-20T00:00:00\",\"2018-05-27T00:00:00\",\"2018-06-03T00:00:00\",\"2018-06-10T00:00:00\",\"2018-06-17T00:00:00\",\"2018-06-24T00:00:00\",\"2018-07-01T00:00:00\",\"2018-07-08T00:00:00\",\"2018-07-15T00:00:00\",\"2018-07-22T00:00:00\",\"2018-07-29T00:00:00\",\"2018-08-05T00:00:00\",\"2018-08-12T00:00:00\",\"2018-08-19T00:00:00\",\"2018-08-26T00:00:00\",\"2018-09-02T00:00:00\",\"2018-09-09T00:00:00\",\"2018-09-16T00:00:00\",\"2018-09-23T00:00:00\",\"2018-09-30T00:00:00\",\"2018-10-07T00:00:00\",\"2018-10-14T00:00:00\",\"2018-10-21T00:00:00\",\"2018-10-28T00:00:00\",\"2018-11-04T00:00:00\",\"2018-11-11T00:00:00\",\"2018-11-18T00:00:00\",\"2018-11-25T00:00:00\",\"2018-12-02T00:00:00\",\"2018-12-09T00:00:00\",\"2018-12-16T00:00:00\",\"2018-12-23T00:00:00\",\"2018-12-30T00:00:00\",\"2019-01-06T00:00:00\",\"2019-01-13T00:00:00\",\"2019-01-20T00:00:00\",\"2019-01-27T00:00:00\",\"2019-02-03T00:00:00\",\"2019-02-10T00:00:00\",\"2019-02-17T00:00:00\",\"2019-02-24T00:00:00\",\"2019-03-03T00:00:00\",\"2019-03-10T00:00:00\",\"2019-03-17T00:00:00\",\"2019-03-24T00:00:00\",\"2019-03-31T00:00:00\",\"2019-04-07T00:00:00\",\"2019-04-14T00:00:00\",\"2019-04-21T00:00:00\",\"2019-04-28T00:00:00\",\"2019-05-05T00:00:00\",\"2019-05-12T00:00:00\",\"2019-05-19T00:00:00\",\"2019-05-26T00:00:00\",\"2019-06-02T00:00:00\",\"2019-06-09T00:00:00\",\"2019-06-16T00:00:00\",\"2019-06-23T00:00:00\",\"2019-06-30T00:00:00\",\"2019-07-07T00:00:00\",\"2019-07-14T00:00:00\",\"2019-07-21T00:00:00\",\"2019-07-28T00:00:00\",\"2019-08-04T00:00:00\",\"2019-08-11T00:00:00\",\"2019-08-18T00:00:00\",\"2019-08-25T00:00:00\",\"2019-09-01T00:00:00\",\"2019-09-08T00:00:00\",\"2019-09-15T00:00:00\",\"2019-09-22T00:00:00\",\"2019-09-29T00:00:00\",\"2019-10-06T00:00:00\",\"2019-10-13T00:00:00\",\"2019-10-20T00:00:00\",\"2019-10-27T00:00:00\",\"2019-11-03T00:00:00\",\"2019-11-10T00:00:00\",\"2019-11-17T00:00:00\",\"2019-11-24T00:00:00\",\"2019-12-01T00:00:00\",\"2019-12-08T00:00:00\",\"2019-12-15T00:00:00\",\"2019-12-22T00:00:00\",\"2019-12-29T00:00:00\",\"2020-01-05T00:00:00\",\"2020-01-12T00:00:00\",\"2020-01-19T00:00:00\",\"2020-01-26T00:00:00\",\"2020-02-02T00:00:00\",\"2020-02-09T00:00:00\",\"2020-02-16T00:00:00\",\"2020-02-23T00:00:00\",\"2020-03-01T00:00:00\",\"2020-03-08T00:00:00\",\"2020-03-15T00:00:00\",\"2020-03-22T00:00:00\",\"2020-03-29T00:00:00\",\"2020-04-05T00:00:00\",\"2020-04-12T00:00:00\"],\"y\":[52.286368553447254,60.17507189062278,60.60409739435108,60.53003782126354,61.16858822721952,65.57780841998509,65.38997955478776,62.288616891500766,65.7059995528067,65.92786766469526,64.61313806357433,63.898996596513406,62.049968664886336,65.38106662603602,61.96354501538845,61.826226683370066,62.34912967566739,63.14984165570818,61.80955606415235,61.97934519221983,61.930513718688914,53.2012691678339,60.356746544138126,56.6889063757598,50.30338729413186,51.69244109762241,51.19046846602394,51.19419531222247,52.25893374202483,53.67283044824961,51.25973572076688,53.16682727470119,50.33520699218263,50.014631896575835,50.66211591735255,53.60172471947246,57.575526025439984,60.319235679738554,58.39679565624381,58.75426168327023,61.15998713039173,62.54212641664507,63.642985904260854,60.363398205275814,60.867006579368606,62.19066131278938,62.993684680171896,57.643645312676,62.761098996879284,65.45546318939115,56.54955819383315,47.04542080381304,51.427210683253065,59.74967911931221,60.46083308920436,60.723132284605214,60.808113301799416,64.98224542152182,65.8206313957989,62.208690523876896,64.82472002608266,65.98834183940295,64.11468686382518,63.84341482733142,61.271348872927426,64.53251708839741,61.86101945857668,60.69204921960072,61.560517602360136,61.9310396411494,61.249925426585435,60.279699093426416,61.6537358586746,52.302512558993314,57.873484290063885,56.75908647258677,48.827136153010166,50.04250230296359,49.45195482714385,49.49853249398024,49.944722469520585,51.96235914871652,49.2523626394322,50.94980167841172,48.61628125366041,47.58005378524907,48.13758586740407,50.48210468664429,54.70386148072429,57.44092582898084,56.214890633346734,55.484263876320405,58.125520716826415,59.26921629413985,60.967318132570014,57.48271731409245,57.62824626245978,58.101804634569866,60.009580334203015,54.68619986670039,57.99765339057606,62.40255016524243,54.44989857474148,44.419866183168274,46.10204600354379,55.191312044474834,56.492055331694594,56.68071814564454,56.40018534126268,60.01067398685621,61.99605420149062,58.29728776959929,59.796959266546764,62.094961263052724,59.87709549266005,59.97937684500452,57.064591502358766,59.77993575648877,58.51497295425612,56.115838085329614],\"type\":\"scatter\"}],                        {\"legend\":{\"traceorder\":\"reversed\"},\"showlegend\":true,\"title\":{\"text\":\"Forecast vs Actual\",\"x\":0.5},\"xaxis\":{\"title\":{\"text\":\"ts\"}},\"yaxis\":{\"title\":{\"text\":\"y\"}},\"template\":{\"data\":{\"histogram2dcontour\":[{\"type\":\"histogram2dcontour\",\"colorbar\":{\"outlinewidth\":0,\"ticks\":\"\"},\"colorscale\":[[0.0,\"#0d0887\"],[0.1111111111111111,\"#46039f\"],[0.2222222222222222,\"#7201a8\"],[0.3333333333333333,\"#9c179e\"],[0.4444444444444444,\"#bd3786\"],[0.5555555555555556,\"#d8576b\"],[0.6666666666666666,\"#ed7953\"],[0.7777777777777778,\"#fb9f3a\"],[0.8888888888888888,\"#fdca26\"],[1.0,\"#f0f921\"]]}],\"choropleth\":[{\"type\":\"choropleth\",\"colorbar\":{\"outlinewidth\":0,\"ticks\":\"\"}}],\"histogram2d\":[{\"type\":\"histogram2d\",\"colorbar\":{\"outlinewidth\":0,\"ticks\":\"\"},\"colorscale\":[[0.0,\"#0d0887\"],[0.1111111111111111,\"#46039f\"],[0.2222222222222222,\"#7201a8\"],[0.3333333333333333,\"#9c179e\"],[0.4444444444444444,\"#bd3786\"],[0.5555555555555556,\"#d8576b\"],[0.6666666666666666,\"#ed7953\"],[0.7777777777777778,\"#fb9f3a\"],[0.8888888888888888,\"#fdca26\"],[1.0,\"#f0f921\"]]}],\"heatmap\":[{\"type\":\"heatmap\",\"colorbar\":{\"outlinewidth\":0,\"ticks\":\"\"},\"colorscale\":[[0.0,\"#0d0887\"],[0.1111111111111111,\"#46039f\"],[0.2222222222222222,\"#7201a8\"],[0.3333333333333333,\"#9c179e\"],[0.4444444444444444,\"#bd3786\"],[0.5555555555555556,\"#d8576b\"],[0.6666666666666666,\"#ed7953\"],[0.7777777777777778,\"#fb9f3a\"],[0.8888888888888888,\"#fdca26\"],[1.0,\"#f0f921\"]]}],\"heatmapgl\":[{\"type\":\"heatmapgl\",\"colorbar\":{\"outlinewidth\":0,\"ticks\":\"\"},\"colorscale\":[[0.0,\"#0d0887\"],[0.1111111111111111,\"#46039f\"],[0.2222222222222222,\"#7201a8\"],[0.3333333333333333,\"#9c179e\"],[0.4444444444444444,\"#bd3786\"],[0.5555555555555556,\"#d8576b\"],[0.6666666666666666,\"#ed7953\"],[0.7777777777777778,\"#fb9f3a\"],[0.8888888888888888,\"#fdca26\"],[1.0,\"#f0f921\"]]}],\"contourcarpet\":[{\"type\":\"contourcarpet\",\"colorbar\":{\"outlinewidth\":0,\"ticks\":\"\"}}],\"contour\":[{\"type\":\"contour\",\"colorbar\":{\"outlinewidth\":0,\"ticks\":\"\"},\"colorscale\":[[0.0,\"#0d0887\"],[0.1111111111111111,\"#46039f\"],[0.2222222222222222,\"#7201a8\"],[0.3333333333333333,\"#9c179e\"],[0.4444444444444444,\"#bd3786\"],[0.5555555555555556,\"#d8576b\"],[0.6666666666666666,\"#ed7953\"],[0.7777777777777778,\"#fb9f3a\"],[0.8888888888888888,\"#fdca26\"],[1.0,\"#f0f921\"]]}],\"surface\":[{\"type\":\"surface\",\"colorbar\":{\"outlinewidth\":0,\"ticks\":\"\"},\"colorscale\":[[0.0,\"#0d0887\"],[0.1111111111111111,\"#46039f\"],[0.2222222222222222,\"#7201a8\"],[0.3333333333333333,\"#9c179e\"],[0.4444444444444444,\"#bd3786\"],[0.5555555555555556,\"#d8576b\"],[0.6666666666666666,\"#ed7953\"],[0.7777777777777778,\"#fb9f3a\"],[0.8888888888888888,\"#fdca26\"],[1.0,\"#f0f921\"]]}],\"mesh3d\":[{\"type\":\"mesh3d\",\"colorbar\":{\"outlinewidth\":0,\"ticks\":\"\"}}],\"scatter\":[{\"fillpattern\":{\"fillmode\":\"overlay\",\"size\":10,\"solidity\":0.2},\"type\":\"scatter\"}],\"parcoords\":[{\"type\":\"parcoords\",\"line\":{\"colorbar\":{\"outlinewidth\":0,\"ticks\":\"\"}}}],\"scatterpolargl\":[{\"type\":\"scatterpolargl\",\"marker\":{\"colorbar\":{\"outlinewidth\":0,\"ticks\":\"\"}}}],\"bar\":[{\"error_x\":{\"color\":\"#2a3f5f\"},\"error_y\":{\"color\":\"#2a3f5f\"},\"marker\":{\"line\":{\"color\":\"#E5ECF6\",\"width\":0.5},\"pattern\":{\"fillmode\":\"overlay\",\"size\":10,\"solidity\":0.2}},\"type\":\"bar\"}],\"scattergeo\":[{\"type\":\"scattergeo\",\"marker\":{\"colorbar\":{\"outlinewidth\":0,\"ticks\":\"\"}}}],\"scatterpolar\":[{\"type\":\"scatterpolar\",\"marker\":{\"colorbar\":{\"outlinewidth\":0,\"ticks\":\"\"}}}],\"histogram\":[{\"marker\":{\"pattern\":{\"fillmode\":\"overlay\",\"size\":10,\"solidity\":0.2}},\"type\":\"histogram\"}],\"scattergl\":[{\"type\":\"scattergl\",\"marker\":{\"colorbar\":{\"outlinewidth\":0,\"ticks\":\"\"}}}],\"scatter3d\":[{\"type\":\"scatter3d\",\"line\":{\"colorbar\":{\"outlinewidth\":0,\"ticks\":\"\"}},\"marker\":{\"colorbar\":{\"outlinewidth\":0,\"ticks\":\"\"}}}],\"scattermapbox\":[{\"type\":\"scattermapbox\",\"marker\":{\"colorbar\":{\"outlinewidth\":0,\"ticks\":\"\"}}}],\"scatterternary\":[{\"type\":\"scatterternary\",\"marker\":{\"colorbar\":{\"outlinewidth\":0,\"ticks\":\"\"}}}],\"scattercarpet\":[{\"type\":\"scattercarpet\",\"marker\":{\"colorbar\":{\"outlinewidth\":0,\"ticks\":\"\"}}}],\"carpet\":[{\"aaxis\":{\"endlinecolor\":\"#2a3f5f\",\"gridcolor\":\"white\",\"linecolor\":\"white\",\"minorgridcolor\":\"white\",\"startlinecolor\":\"#2a3f5f\"},\"baxis\":{\"endlinecolor\":\"#2a3f5f\",\"gridcolor\":\"white\",\"linecolor\":\"white\",\"minorgridcolor\":\"white\",\"startlinecolor\":\"#2a3f5f\"},\"type\":\"carpet\"}],\"table\":[{\"cells\":{\"fill\":{\"color\":\"#EBF0F8\"},\"line\":{\"color\":\"white\"}},\"header\":{\"fill\":{\"color\":\"#C8D4E3\"},\"line\":{\"color\":\"white\"}},\"type\":\"table\"}],\"barpolar\":[{\"marker\":{\"line\":{\"color\":\"#E5ECF6\",\"width\":0.5},\"pattern\":{\"fillmode\":\"overlay\",\"size\":10,\"solidity\":0.2}},\"type\":\"barpolar\"}],\"pie\":[{\"automargin\":true,\"type\":\"pie\"}]},\"layout\":{\"autotypenumbers\":\"strict\",\"colorway\":[\"#636efa\",\"#EF553B\",\"#00cc96\",\"#ab63fa\",\"#FFA15A\",\"#19d3f3\",\"#FF6692\",\"#B6E880\",\"#FF97FF\",\"#FECB52\"],\"font\":{\"color\":\"#2a3f5f\"},\"hovermode\":\"closest\",\"hoverlabel\":{\"align\":\"left\"},\"paper_bgcolor\":\"white\",\"plot_bgcolor\":\"#E5ECF6\",\"polar\":{\"bgcolor\":\"#E5ECF6\",\"angularaxis\":{\"gridcolor\":\"white\",\"linecolor\":\"white\",\"ticks\":\"\"},\"radialaxis\":{\"gridcolor\":\"white\",\"linecolor\":\"white\",\"ticks\":\"\"}},\"ternary\":{\"bgcolor\":\"#E5ECF6\",\"aaxis\":{\"gridcolor\":\"white\",\"linecolor\":\"white\",\"ticks\":\"\"},\"baxis\":{\"gridcolor\":\"white\",\"linecolor\":\"white\",\"ticks\":\"\"},\"caxis\":{\"gridcolor\":\"white\",\"linecolor\":\"white\",\"ticks\":\"\"}},\"coloraxis\":{\"colorbar\":{\"outlinewidth\":0,\"ticks\":\"\"}},\"colorscale\":{\"sequential\":[[0.0,\"#0d0887\"],[0.1111111111111111,\"#46039f\"],[0.2222222222222222,\"#7201a8\"],[0.3333333333333333,\"#9c179e\"],[0.4444444444444444,\"#bd3786\"],[0.5555555555555556,\"#d8576b\"],[0.6666666666666666,\"#ed7953\"],[0.7777777777777778,\"#fb9f3a\"],[0.8888888888888888,\"#fdca26\"],[1.0,\"#f0f921\"]],\"sequentialminus\":[[0.0,\"#0d0887\"],[0.1111111111111111,\"#46039f\"],[0.2222222222222222,\"#7201a8\"],[0.3333333333333333,\"#9c179e\"],[0.4444444444444444,\"#bd3786\"],[0.5555555555555556,\"#d8576b\"],[0.6666666666666666,\"#ed7953\"],[0.7777777777777778,\"#fb9f3a\"],[0.8888888888888888,\"#fdca26\"],[1.0,\"#f0f921\"]],\"diverging\":[[0,\"#8e0152\"],[0.1,\"#c51b7d\"],[0.2,\"#de77ae\"],[0.3,\"#f1b6da\"],[0.4,\"#fde0ef\"],[0.5,\"#f7f7f7\"],[0.6,\"#e6f5d0\"],[0.7,\"#b8e186\"],[0.8,\"#7fbc41\"],[0.9,\"#4d9221\"],[1,\"#276419\"]]},\"xaxis\":{\"gridcolor\":\"white\",\"linecolor\":\"white\",\"ticks\":\"\",\"title\":{\"standoff\":15},\"zerolinecolor\":\"white\",\"automargin\":true,\"zerolinewidth\":2},\"yaxis\":{\"gridcolor\":\"white\",\"linecolor\":\"white\",\"ticks\":\"\",\"title\":{\"standoff\":15},\"zerolinecolor\":\"white\",\"automargin\":true,\"zerolinewidth\":2},\"scene\":{\"xaxis\":{\"backgroundcolor\":\"#E5ECF6\",\"gridcolor\":\"white\",\"linecolor\":\"white\",\"showbackground\":true,\"ticks\":\"\",\"zerolinecolor\":\"white\",\"gridwidth\":2},\"yaxis\":{\"backgroundcolor\":\"#E5ECF6\",\"gridcolor\":\"white\",\"linecolor\":\"white\",\"showbackground\":true,\"ticks\":\"\",\"zerolinecolor\":\"white\",\"gridwidth\":2},\"zaxis\":{\"backgroundcolor\":\"#E5ECF6\",\"gridcolor\":\"white\",\"linecolor\":\"white\",\"showbackground\":true,\"ticks\":\"\",\"zerolinecolor\":\"white\",\"gridwidth\":2}},\"shapedefaults\":{\"line\":{\"color\":\"#2a3f5f\"}},\"annotationdefaults\":{\"arrowcolor\":\"#2a3f5f\",\"arrowhead\":0,\"arrowwidth\":1},\"geo\":{\"bgcolor\":\"white\",\"landcolor\":\"#E5ECF6\",\"subunitcolor\":\"white\",\"showland\":true,\"showlakes\":true,\"lakecolor\":\"white\"},\"title\":{\"x\":0.05},\"mapbox\":{\"style\":\"light\"}}},\"shapes\":[{\"line\":{\"color\":\"rgba(100, 100, 100, 0.9)\",\"width\":1.0},\"type\":\"line\",\"x0\":\"2020-01-12T00:00:00\",\"x1\":\"2020-01-12T00:00:00\",\"xref\":\"x\",\"y0\":0,\"y1\":1,\"yref\":\"paper\"}],\"annotations\":[{\"arrowhead\":0,\"ax\":-60,\"ay\":0,\"showarrow\":true,\"text\":\"Train End Date\",\"x\":\"2020-01-12T00:00:00\",\"xref\":\"x\",\"y\":0.97,\"yref\":\"paper\"}]},                        {\"responsive\": true}                    ).then(function(){\n",
       "                            \n",
       "var gd = document.getElementById('2c0667ea-056e-4f9d-b4a8-fb58ef679c84');\n",
       "var x = new MutationObserver(function (mutations, observer) {{\n",
       "        var display = window.getComputedStyle(gd).display;\n",
       "        if (!display || display === 'none') {{\n",
       "            console.log([gd, 'removed!']);\n",
       "            Plotly.purge(gd);\n",
       "            observer.disconnect();\n",
       "        }}\n",
       "}});\n",
       "\n",
       "// Listen for the removal of the full notebook cells\n",
       "var notebookContainer = gd.closest('#notebook-container');\n",
       "if (notebookContainer) {{\n",
       "    x.observe(notebookContainer, {childList: true});\n",
       "}}\n",
       "\n",
       "// Listen for the clearing of the current output cell\n",
       "var outputEl = gd.closest('.output');\n",
       "if (outputEl) {{\n",
       "    x.observe(outputEl, {childList: true});\n",
       "}}\n",
       "\n",
       "                        })                };                });            </script>        </div>"
      ]
     },
     "metadata": {},
     "output_type": "display_data"
    },
    {
     "data": {
      "application/vnd.plotly.v1+json": {
       "config": {
        "plotlyServerURL": "https://plot.ly"
       },
       "data": [
        {
         "mode": "lines",
         "name": "y",
         "opacity": 0.8,
         "showlegend": false,
         "type": "scatter",
         "x": [
          "2017-12-31T00:00:00",
          "2018-01-07T00:00:00",
          "2018-01-14T00:00:00",
          "2018-01-21T00:00:00",
          "2018-01-28T00:00:00",
          "2018-02-04T00:00:00",
          "2018-02-11T00:00:00",
          "2018-02-18T00:00:00",
          "2018-02-25T00:00:00",
          "2018-03-04T00:00:00",
          "2018-03-11T00:00:00",
          "2018-03-18T00:00:00",
          "2018-03-25T00:00:00",
          "2018-04-01T00:00:00",
          "2018-04-08T00:00:00",
          "2018-04-15T00:00:00",
          "2018-04-22T00:00:00",
          "2018-04-29T00:00:00",
          "2018-05-06T00:00:00",
          "2018-05-13T00:00:00",
          "2018-05-20T00:00:00",
          "2018-05-27T00:00:00",
          "2018-06-03T00:00:00",
          "2018-06-10T00:00:00",
          "2018-06-17T00:00:00",
          "2018-06-24T00:00:00",
          "2018-07-01T00:00:00",
          "2018-07-08T00:00:00",
          "2018-07-15T00:00:00",
          "2018-07-22T00:00:00",
          "2018-07-29T00:00:00",
          "2018-08-05T00:00:00",
          "2018-08-12T00:00:00",
          "2018-08-19T00:00:00",
          "2018-08-26T00:00:00",
          "2018-09-02T00:00:00",
          "2018-09-09T00:00:00",
          "2018-09-16T00:00:00",
          "2018-09-23T00:00:00",
          "2018-09-30T00:00:00",
          "2018-10-07T00:00:00",
          "2018-10-14T00:00:00",
          "2018-10-21T00:00:00",
          "2018-10-28T00:00:00",
          "2018-11-04T00:00:00",
          "2018-11-11T00:00:00",
          "2018-11-18T00:00:00",
          "2018-11-25T00:00:00",
          "2018-12-02T00:00:00",
          "2018-12-09T00:00:00",
          "2018-12-16T00:00:00",
          "2018-12-23T00:00:00",
          "2018-12-30T00:00:00",
          "2019-01-06T00:00:00",
          "2019-01-13T00:00:00",
          "2019-01-20T00:00:00",
          "2019-01-27T00:00:00",
          "2019-02-03T00:00:00",
          "2019-02-10T00:00:00",
          "2019-02-17T00:00:00",
          "2019-02-24T00:00:00",
          "2019-03-03T00:00:00",
          "2019-03-10T00:00:00",
          "2019-03-17T00:00:00",
          "2019-03-24T00:00:00",
          "2019-03-31T00:00:00",
          "2019-04-07T00:00:00",
          "2019-04-14T00:00:00",
          "2019-04-21T00:00:00",
          "2019-04-28T00:00:00",
          "2019-05-05T00:00:00",
          "2019-05-12T00:00:00",
          "2019-05-19T00:00:00",
          "2019-05-26T00:00:00",
          "2019-06-02T00:00:00",
          "2019-06-09T00:00:00",
          "2019-06-16T00:00:00",
          "2019-06-23T00:00:00",
          "2019-06-30T00:00:00",
          "2019-07-07T00:00:00",
          "2019-07-14T00:00:00",
          "2019-07-21T00:00:00",
          "2019-07-28T00:00:00",
          "2019-08-04T00:00:00",
          "2019-08-11T00:00:00",
          "2019-08-18T00:00:00",
          "2019-08-25T00:00:00",
          "2019-09-01T00:00:00",
          "2019-09-08T00:00:00",
          "2019-09-15T00:00:00",
          "2019-09-22T00:00:00",
          "2019-09-29T00:00:00",
          "2019-10-06T00:00:00",
          "2019-10-13T00:00:00",
          "2019-10-20T00:00:00",
          "2019-10-27T00:00:00",
          "2019-11-03T00:00:00",
          "2019-11-10T00:00:00",
          "2019-11-17T00:00:00",
          "2019-11-24T00:00:00",
          "2019-12-01T00:00:00",
          "2019-12-08T00:00:00",
          "2019-12-15T00:00:00",
          "2019-12-22T00:00:00",
          "2019-12-29T00:00:00",
          "2020-01-05T00:00:00",
          "2020-01-12T00:00:00"
         ],
         "xaxis": "x",
         "y": [
          50.4,
          57.1,
          53.7,
          63.6,
          61.3,
          64.5,
          63.2,
          59.5,
          68.2,
          66.2,
          63.1,
          63.4,
          58.8,
          63.9,
          65.9,
          62.9,
          61,
          61.1,
          62.1,
          61.4,
          62.4,
          50.7,
          65.8,
          62.5,
          47.9,
          52.5,
          50.1,
          49.4,
          51.2,
          49.3,
          46.2,
          49.4,
          50.4,
          46.2,
          48.9,
          53.9,
          55.6,
          63,
          58.8,
          57.3,
          62.7,
          61.9,
          69.5,
          61,
          60.9,
          63,
          58.8,
          63.7,
          65.4,
          68.7,
          59.9,
          45.9,
          51.7,
          58.9,
          66.2,
          60.2,
          60.2,
          70,
          70.5,
          67.8,
          65.4,
          69.4,
          68.1,
          67.6,
          65.1,
          70.6,
          59.6,
          60.9,
          64,
          66.7,
          62.4,
          62.6,
          62.7,
          52.8,
          53.8,
          49.8,
          46.2,
          46.5,
          45.7,
          48.2,
          46.8,
          53.9,
          50.1,
          52.7,
          44.3,
          46.6,
          46.2,
          47.6,
          55.7,
          56.3,
          54.7,
          57.4,
          57.3,
          62,
          58.2,
          56.6,
          59.3,
          57.8,
          66.8,
          49.5,
          55.6,
          63.6,
          50,
          39.9,
          42.8,
          58.7,
          59.1
         ],
         "yaxis": "y"
        },
        {
         "mode": "lines",
         "name": "trend",
         "opacity": 0.8,
         "showlegend": false,
         "type": "scatter",
         "x": [
          "2017-12-31T00:00:00",
          "2018-01-07T00:00:00",
          "2018-01-14T00:00:00",
          "2018-01-21T00:00:00",
          "2018-01-28T00:00:00",
          "2018-02-04T00:00:00",
          "2018-02-11T00:00:00",
          "2018-02-18T00:00:00",
          "2018-02-25T00:00:00",
          "2018-03-04T00:00:00",
          "2018-03-11T00:00:00",
          "2018-03-18T00:00:00",
          "2018-03-25T00:00:00",
          "2018-04-01T00:00:00",
          "2018-04-08T00:00:00",
          "2018-04-15T00:00:00",
          "2018-04-22T00:00:00",
          "2018-04-29T00:00:00",
          "2018-05-06T00:00:00",
          "2018-05-13T00:00:00",
          "2018-05-20T00:00:00",
          "2018-05-27T00:00:00",
          "2018-06-03T00:00:00",
          "2018-06-10T00:00:00",
          "2018-06-17T00:00:00",
          "2018-06-24T00:00:00",
          "2018-07-01T00:00:00",
          "2018-07-08T00:00:00",
          "2018-07-15T00:00:00",
          "2018-07-22T00:00:00",
          "2018-07-29T00:00:00",
          "2018-08-05T00:00:00",
          "2018-08-12T00:00:00",
          "2018-08-19T00:00:00",
          "2018-08-26T00:00:00",
          "2018-09-02T00:00:00",
          "2018-09-09T00:00:00",
          "2018-09-16T00:00:00",
          "2018-09-23T00:00:00",
          "2018-09-30T00:00:00",
          "2018-10-07T00:00:00",
          "2018-10-14T00:00:00",
          "2018-10-21T00:00:00",
          "2018-10-28T00:00:00",
          "2018-11-04T00:00:00",
          "2018-11-11T00:00:00",
          "2018-11-18T00:00:00",
          "2018-11-25T00:00:00",
          "2018-12-02T00:00:00",
          "2018-12-09T00:00:00",
          "2018-12-16T00:00:00",
          "2018-12-23T00:00:00",
          "2018-12-30T00:00:00",
          "2019-01-06T00:00:00",
          "2019-01-13T00:00:00",
          "2019-01-20T00:00:00",
          "2019-01-27T00:00:00",
          "2019-02-03T00:00:00",
          "2019-02-10T00:00:00",
          "2019-02-17T00:00:00",
          "2019-02-24T00:00:00",
          "2019-03-03T00:00:00",
          "2019-03-10T00:00:00",
          "2019-03-17T00:00:00",
          "2019-03-24T00:00:00",
          "2019-03-31T00:00:00",
          "2019-04-07T00:00:00",
          "2019-04-14T00:00:00",
          "2019-04-21T00:00:00",
          "2019-04-28T00:00:00",
          "2019-05-05T00:00:00",
          "2019-05-12T00:00:00",
          "2019-05-19T00:00:00",
          "2019-05-26T00:00:00",
          "2019-06-02T00:00:00",
          "2019-06-09T00:00:00",
          "2019-06-16T00:00:00",
          "2019-06-23T00:00:00",
          "2019-06-30T00:00:00",
          "2019-07-07T00:00:00",
          "2019-07-14T00:00:00",
          "2019-07-21T00:00:00",
          "2019-07-28T00:00:00",
          "2019-08-04T00:00:00",
          "2019-08-11T00:00:00",
          "2019-08-18T00:00:00",
          "2019-08-25T00:00:00",
          "2019-09-01T00:00:00",
          "2019-09-08T00:00:00",
          "2019-09-15T00:00:00",
          "2019-09-22T00:00:00",
          "2019-09-29T00:00:00",
          "2019-10-06T00:00:00",
          "2019-10-13T00:00:00",
          "2019-10-20T00:00:00",
          "2019-10-27T00:00:00",
          "2019-11-03T00:00:00",
          "2019-11-10T00:00:00",
          "2019-11-17T00:00:00",
          "2019-11-24T00:00:00",
          "2019-12-01T00:00:00",
          "2019-12-08T00:00:00",
          "2019-12-15T00:00:00",
          "2019-12-22T00:00:00",
          "2019-12-29T00:00:00",
          "2020-01-05T00:00:00",
          "2020-01-12T00:00:00"
         ],
         "xaxis": "x2",
         "y": [
          0,
          0,
          0,
          0,
          0,
          0,
          0,
          0,
          0,
          0,
          0,
          0,
          0,
          0,
          0,
          0,
          0,
          0,
          0,
          0,
          0,
          0,
          0,
          0,
          0,
          0,
          0,
          0,
          0,
          0,
          0,
          0,
          0,
          0,
          0,
          0,
          0,
          0,
          0,
          0,
          0,
          0,
          0,
          0,
          0,
          0,
          0,
          0,
          0,
          0,
          0,
          0,
          0,
          0,
          0,
          0,
          0,
          0,
          -0.08144943408458945,
          -0.1628988681691789,
          -0.24434830225376833,
          -0.3257977363393234,
          -0.40724717042391284,
          -0.48869660450850233,
          -0.5701460385930918,
          -0.6515954726786468,
          -0.7330449067632363,
          -0.8144943408478257,
          -0.8959437749324152,
          -0.9773932090179703,
          -1.0588426431025597,
          -1.1402920771871492,
          -1.2217415112717387,
          -1.303190945356328,
          -1.3846403794418831,
          -1.4660898135264726,
          -1.547539247611062,
          -1.6289886816956514,
          -1.7104381157812065,
          -1.791887549865796,
          -1.8733369839503855,
          -1.954786418034975,
          -2.0362358521195647,
          -2.1176852862051194,
          -2.1991347202897087,
          -2.2805841543742984,
          -2.3620335884588877,
          -2.4434830225444433,
          -2.5249324566290325,
          -2.606381890713622,
          -2.6878313247982115,
          -2.7692807588837662,
          -2.8507301929683555,
          -2.932179627052945,
          -3.0136290611375345,
          -3.095078495222124,
          -3.1765279293076794,
          -3.2579773633922686,
          -3.3394267974768583,
          -3.4208762315614476,
          -3.5023256656470023,
          -3.583775099731592,
          -3.6652245338161813,
          -3.746673967900771,
          -3.8281234019853603,
          -3.9094456706782497,
          -3.990672565325674
         ],
         "yaxis": "y2"
        },
        {
         "mode": "lines",
         "name": "YEARLY_SEASONALITY",
         "opacity": 0.8,
         "showlegend": false,
         "type": "scatter",
         "x": [
          0.010958904109589041,
          0.0136986301369863,
          0.01643835616438356,
          0.030136986301369864,
          0.03287671232876712,
          0.03561643835616438,
          0.052054794520547946,
          0.0547945205479452,
          0.07123287671232877,
          0.07397260273972603,
          0.09041095890410959,
          0.09315068493150686,
          0.1095890410958904,
          0.11232876712328767,
          0.12876712328767123,
          0.13150684931506848,
          0.14794520547945206,
          0.1506849315068493,
          0.16712328767123288,
          0.16986301369863013,
          0.1863013698630137,
          0.18904109589041096,
          0.2054794520547945,
          0.20821917808219179,
          0.22465753424657534,
          0.2273972602739726,
          0.24383561643835616,
          0.2465753424657534,
          0.26301369863013696,
          0.26575342465753427,
          0.2821917808219178,
          0.28493150684931506,
          0.3013698630136986,
          0.3041095890410959,
          0.32054794520547947,
          0.3232876712328767,
          0.33972602739726027,
          0.3424657534246575,
          0.3589041095890411,
          0.36164383561643837,
          0.3780821917808219,
          0.38082191780821917,
          0.3972602739726027,
          0.4,
          0.41643835616438357,
          0.4191780821917808,
          0.43561643835616437,
          0.4383561643835616,
          0.4547945205479452,
          0.4575342465753425,
          0.473972602739726,
          0.4767123287671233,
          0.4931506849315068,
          0.4958904109589041,
          0.5123287671232877,
          0.5150684931506849,
          0.5315068493150685,
          0.5342465753424658,
          0.5506849315068493,
          0.5534246575342465,
          0.5698630136986301,
          0.5726027397260274,
          0.589041095890411,
          0.5917808219178082,
          0.6082191780821918,
          0.6109589041095891,
          0.6273972602739726,
          0.6301369863013698,
          0.6465753424657534,
          0.6493150684931507,
          0.6657534246575343,
          0.6684931506849315,
          0.684931506849315,
          0.6876712328767123,
          0.7041095890410959,
          0.7068493150684931,
          0.7232876712328767,
          0.726027397260274,
          0.7424657534246575,
          0.7452054794520548,
          0.7616438356164383,
          0.7643835616438356,
          0.7808219178082192,
          0.7835616438356164,
          0.8,
          0.8027397260273973,
          0.8191780821917808,
          0.821917808219178,
          0.8383561643835616,
          0.8410958904109589,
          0.8575342465753425,
          0.8602739726027397,
          0.8767123287671232,
          0.8794520547945206,
          0.8958904109589041,
          0.8986301369863013,
          0.915068493150685,
          0.9178082191780822,
          0.9342465753424658,
          0.936986301369863,
          0.9534246575342465,
          0.9561643835616438,
          0.9726027397260274,
          0.9753424657534246,
          0.9917808219178083,
          0.9945205479452055,
          0.9972602739726028
         ],
         "xaxis": "x3",
         "y": [
          3.9939356363819356,
          4.642857040541065,
          5.068249811851637,
          5.375905818249125,
          5.354011010433209,
          5.358810130637448,
          5.477845020891587,
          5.423215742492394,
          5.701291223028273,
          6.061766148448378,
          9.875423342750679,
          10.470986341213944,
          10.79525875111235,
          10.283157476016616,
          7.126302128332445,
          7.0433296277871325,
          9.962246249565286,
          10.599177474035562,
          11.20731749697113,
          10.821045585924113,
          9.415111955477954,
          9.506315984803187,
          9.225289353068781,
          8.792174517742263,
          6.734672832749375,
          6.943146586115194,
          10.077290482304916,
          10.274244547264875,
          7.487242286568767,
          6.8567229366173015,
          6.3997214816774,
          6.719404604598918,
          7.3496392985214065,
          7.2423075968962465,
          7.801610771396218,
          8.043019576937033,
          7.201945990916847,
          6.702733985381206,
          6.3131690918424175,
          6.872523113448689,
          7.768655291175192,
          6.823691639917765,
          -0.8921301572878205,
          -1.2965644938035683,
          4.15130259073462,
          5.249924465366979,
          3.118354207342097,
          1.5820842969886533,
          -4.732146678149917,
          -4.803434784639287,
          -3.4353310941119,
          -3.414380981148742,
          -3.9444291358460903,
          -3.9163536127472116,
          -3.816402034925108,
          -3.9126267665486782,
          -3.2887626253001754,
          -2.8478883367463155,
          -1.1896765120196495,
          -1.4339916305215359,
          -3.818223587219384,
          -3.847086358004272,
          -2.039335114154306,
          -1.9399948040699506,
          -4.291406104821028,
          -4.771615086588521,
          -5.246184139147779,
          -5.0921901821953135,
          -4.607202622908187,
          -4.4447061614185905,
          -1.395958129606908,
          -0.7198211193231822,
          2.121971858582177,
          2.468703946668842,
          4.940485640923315,
          5.212413600967411,
          3.795899879373799,
          3.2899735774726677,
          3.1467225564330255,
          3.647439604499082,
          5.869428831023623,
          5.914699866678098,
          6.956108657479165,
          7.435304337873921,
          8.8741251149364,
          8.536163825489709,
          5.470973730543429,
          5.256576126504666,
          5.6979521129963135,
          5.760184500597465,
          6.344684244365534,
          6.699400208985957,
          8.242185052908727,
          7.886862601400752,
          3.0002540194906975,
          2.5368232339048524,
          6.393156977451918,
          7.654276918108135,
          10.879503186202879,
          10.34864111062001,
          3.00830102978652,
          1.4427361150620064,
          -6.940281927702101,
          -7.713285513182702,
          -5.176652673241991,
          -3.762517398698252,
          -2.247149265626117
         ],
         "yaxis": "y3"
        },
        {
         "mode": "lines",
         "name": "events",
         "opacity": 0.8,
         "showlegend": false,
         "type": "scatter",
         "x": [
          "2017-12-31T00:00:00",
          "2018-01-07T00:00:00",
          "2018-01-14T00:00:00",
          "2018-01-21T00:00:00",
          "2018-01-28T00:00:00",
          "2018-02-04T00:00:00",
          "2018-02-11T00:00:00",
          "2018-02-18T00:00:00",
          "2018-02-25T00:00:00",
          "2018-03-04T00:00:00",
          "2018-03-11T00:00:00",
          "2018-03-18T00:00:00",
          "2018-03-25T00:00:00",
          "2018-04-01T00:00:00",
          "2018-04-08T00:00:00",
          "2018-04-15T00:00:00",
          "2018-04-22T00:00:00",
          "2018-04-29T00:00:00",
          "2018-05-06T00:00:00",
          "2018-05-13T00:00:00",
          "2018-05-20T00:00:00",
          "2018-05-27T00:00:00",
          "2018-06-03T00:00:00",
          "2018-06-10T00:00:00",
          "2018-06-17T00:00:00",
          "2018-06-24T00:00:00",
          "2018-07-01T00:00:00",
          "2018-07-08T00:00:00",
          "2018-07-15T00:00:00",
          "2018-07-22T00:00:00",
          "2018-07-29T00:00:00",
          "2018-08-05T00:00:00",
          "2018-08-12T00:00:00",
          "2018-08-19T00:00:00",
          "2018-08-26T00:00:00",
          "2018-09-02T00:00:00",
          "2018-09-09T00:00:00",
          "2018-09-16T00:00:00",
          "2018-09-23T00:00:00",
          "2018-09-30T00:00:00",
          "2018-10-07T00:00:00",
          "2018-10-14T00:00:00",
          "2018-10-21T00:00:00",
          "2018-10-28T00:00:00",
          "2018-11-04T00:00:00",
          "2018-11-11T00:00:00",
          "2018-11-18T00:00:00",
          "2018-11-25T00:00:00",
          "2018-12-02T00:00:00",
          "2018-12-09T00:00:00",
          "2018-12-16T00:00:00",
          "2018-12-23T00:00:00",
          "2018-12-30T00:00:00",
          "2019-01-06T00:00:00",
          "2019-01-13T00:00:00",
          "2019-01-20T00:00:00",
          "2019-01-27T00:00:00",
          "2019-02-03T00:00:00",
          "2019-02-10T00:00:00",
          "2019-02-17T00:00:00",
          "2019-02-24T00:00:00",
          "2019-03-03T00:00:00",
          "2019-03-10T00:00:00",
          "2019-03-17T00:00:00",
          "2019-03-24T00:00:00",
          "2019-03-31T00:00:00",
          "2019-04-07T00:00:00",
          "2019-04-14T00:00:00",
          "2019-04-21T00:00:00",
          "2019-04-28T00:00:00",
          "2019-05-05T00:00:00",
          "2019-05-12T00:00:00",
          "2019-05-19T00:00:00",
          "2019-05-26T00:00:00",
          "2019-06-02T00:00:00",
          "2019-06-09T00:00:00",
          "2019-06-16T00:00:00",
          "2019-06-23T00:00:00",
          "2019-06-30T00:00:00",
          "2019-07-07T00:00:00",
          "2019-07-14T00:00:00",
          "2019-07-21T00:00:00",
          "2019-07-28T00:00:00",
          "2019-08-04T00:00:00",
          "2019-08-11T00:00:00",
          "2019-08-18T00:00:00",
          "2019-08-25T00:00:00",
          "2019-09-01T00:00:00",
          "2019-09-08T00:00:00",
          "2019-09-15T00:00:00",
          "2019-09-22T00:00:00",
          "2019-09-29T00:00:00",
          "2019-10-06T00:00:00",
          "2019-10-13T00:00:00",
          "2019-10-20T00:00:00",
          "2019-10-27T00:00:00",
          "2019-11-03T00:00:00",
          "2019-11-10T00:00:00",
          "2019-11-17T00:00:00",
          "2019-11-24T00:00:00",
          "2019-12-01T00:00:00",
          "2019-12-08T00:00:00",
          "2019-12-15T00:00:00",
          "2019-12-22T00:00:00",
          "2019-12-29T00:00:00",
          "2020-01-05T00:00:00",
          "2020-01-12T00:00:00"
         ],
         "xaxis": "x4",
         "y": [
          -0.5733042596977715,
          0,
          0.13846518494248525,
          0,
          0,
          0,
          0,
          0.13846518494248525,
          0,
          0,
          0,
          0,
          0,
          0,
          0,
          0,
          0,
          0,
          0,
          0,
          0,
          -0.6089884171336799,
          0,
          0,
          0,
          0,
          0,
          0,
          0,
          0,
          0,
          0,
          0,
          0,
          0,
          -0.7852762399755026,
          0,
          0,
          0,
          0,
          0.13846518494248525,
          0,
          0,
          0,
          0,
          0.3844390250322806,
          0,
          0,
          0,
          0,
          0,
          -0.34811576177540365,
          0.08290600318016857,
          0,
          0,
          0.13846518494248525,
          0,
          0,
          0,
          0.13846518494248525,
          0,
          0,
          0,
          0,
          0,
          0,
          0,
          0,
          0,
          0,
          0,
          0,
          0,
          -0.6089884171336799,
          0,
          0,
          0,
          0,
          0,
          0,
          0,
          0,
          0,
          0,
          0,
          0,
          0,
          -0.7852762399755026,
          0,
          0,
          0,
          0,
          0,
          0.13846518494248525,
          0,
          0,
          0,
          -0.09172432517454442,
          0,
          0,
          0,
          0,
          0,
          0,
          0,
          0,
          0
         ],
         "yaxis": "y4"
        },
        {
         "mode": "lines",
         "name": "residual",
         "opacity": 0.8,
         "showlegend": false,
         "type": "scatter",
         "x": [
          "2017-12-31T00:00:00",
          "2018-01-07T00:00:00",
          "2018-01-14T00:00:00",
          "2018-01-21T00:00:00",
          "2018-01-28T00:00:00",
          "2018-02-04T00:00:00",
          "2018-02-11T00:00:00",
          "2018-02-18T00:00:00",
          "2018-02-25T00:00:00",
          "2018-03-04T00:00:00",
          "2018-03-11T00:00:00",
          "2018-03-18T00:00:00",
          "2018-03-25T00:00:00",
          "2018-04-01T00:00:00",
          "2018-04-08T00:00:00",
          "2018-04-15T00:00:00",
          "2018-04-22T00:00:00",
          "2018-04-29T00:00:00",
          "2018-05-06T00:00:00",
          "2018-05-13T00:00:00",
          "2018-05-20T00:00:00",
          "2018-05-27T00:00:00",
          "2018-06-03T00:00:00",
          "2018-06-10T00:00:00",
          "2018-06-17T00:00:00",
          "2018-06-24T00:00:00",
          "2018-07-01T00:00:00",
          "2018-07-08T00:00:00",
          "2018-07-15T00:00:00",
          "2018-07-22T00:00:00",
          "2018-07-29T00:00:00",
          "2018-08-05T00:00:00",
          "2018-08-12T00:00:00",
          "2018-08-19T00:00:00",
          "2018-08-26T00:00:00",
          "2018-09-02T00:00:00",
          "2018-09-09T00:00:00",
          "2018-09-16T00:00:00",
          "2018-09-23T00:00:00",
          "2018-09-30T00:00:00",
          "2018-10-07T00:00:00",
          "2018-10-14T00:00:00",
          "2018-10-21T00:00:00",
          "2018-10-28T00:00:00",
          "2018-11-04T00:00:00",
          "2018-11-11T00:00:00",
          "2018-11-18T00:00:00",
          "2018-11-25T00:00:00",
          "2018-12-02T00:00:00",
          "2018-12-09T00:00:00",
          "2018-12-16T00:00:00",
          "2018-12-23T00:00:00",
          "2018-12-30T00:00:00",
          "2019-01-06T00:00:00",
          "2019-01-13T00:00:00",
          "2019-01-20T00:00:00",
          "2019-01-27T00:00:00",
          "2019-02-03T00:00:00",
          "2019-02-10T00:00:00",
          "2019-02-17T00:00:00",
          "2019-02-24T00:00:00",
          "2019-03-03T00:00:00",
          "2019-03-10T00:00:00",
          "2019-03-17T00:00:00",
          "2019-03-24T00:00:00",
          "2019-03-31T00:00:00",
          "2019-04-07T00:00:00",
          "2019-04-14T00:00:00",
          "2019-04-21T00:00:00",
          "2019-04-28T00:00:00",
          "2019-05-05T00:00:00",
          "2019-05-12T00:00:00",
          "2019-05-19T00:00:00",
          "2019-05-26T00:00:00",
          "2019-06-02T00:00:00",
          "2019-06-09T00:00:00",
          "2019-06-16T00:00:00",
          "2019-06-23T00:00:00",
          "2019-06-30T00:00:00",
          "2019-07-07T00:00:00",
          "2019-07-14T00:00:00",
          "2019-07-21T00:00:00",
          "2019-07-28T00:00:00",
          "2019-08-04T00:00:00",
          "2019-08-11T00:00:00",
          "2019-08-18T00:00:00",
          "2019-08-25T00:00:00",
          "2019-09-01T00:00:00",
          "2019-09-08T00:00:00",
          "2019-09-15T00:00:00",
          "2019-09-22T00:00:00",
          "2019-09-29T00:00:00",
          "2019-10-06T00:00:00",
          "2019-10-13T00:00:00",
          "2019-10-20T00:00:00",
          "2019-10-27T00:00:00",
          "2019-11-03T00:00:00",
          "2019-11-10T00:00:00",
          "2019-11-17T00:00:00",
          "2019-11-24T00:00:00",
          "2019-12-01T00:00:00",
          "2019-12-08T00:00:00",
          "2019-12-15T00:00:00",
          "2019-12-22T00:00:00",
          "2019-12-29T00:00:00",
          "2020-01-05T00:00:00",
          "2020-01-12T00:00:00"
         ],
         "xaxis": "x5",
         "y": [
          -1.8863685534472552,
          -3.0750718906227803,
          -6.904097394351105,
          3.0699621787364393,
          0.13141177278048843,
          -1.077808419985118,
          -2.1899795547877545,
          -2.7886168915007445,
          2.4940004471932866,
          0.27213233530471825,
          -1.5131380635743525,
          -0.49899659651340045,
          -3.2499686648863104,
          -1.4810666260360037,
          3.9364549846115295,
          1.0737733166299677,
          -1.349129675667399,
          -2.0498416557081853,
          0.29044393584763384,
          -0.5793451922198329,
          0.4694862813110703,
          -2.5012691678338683,
          5.443253455861829,
          5.811093624240208,
          -2.4033872941318535,
          0.8075589023776075,
          -1.090468466023907,
          -1.7941953122224632,
          -1.0589337420248341,
          -4.372830448249601,
          -5.0597357207668665,
          -3.7668272747011997,
          0.06479300781739283,
          -3.8146318965758397,
          -1.7621159173525527,
          0.29827528052754815,
          -1.97552602543999,
          2.6807643202614173,
          0.40320434375616543,
          -1.4542616832702606,
          1.540012869608283,
          -0.6421264166450769,
          5.857014095739153,
          0.6366017947241787,
          0.03299342063139932,
          0.8093386872106194,
          -4.193684680171913,
          6.056354687324017,
          2.638901003120722,
          3.244536810608821,
          3.350441806166863,
          -1.145420803813039,
          0.2727893167469304,
          -0.8496791193121922,
          5.739166910795632,
          -0.5231322846052251,
          -0.6081133017993992,
          5.017754578478204,
          4.679368604201102,
          5.5913094761230795,
          0.5752799739173611,
          3.411658160597071,
          3.985313136174824,
          3.756585172668565,
          3.828651127072547,
          6.067482911602582,
          -2.261019458576662,
          0.20795078039927262,
          2.439482397639864,
          4.768960358850585,
          1.1500745734145852,
          2.3203009065735927,
          1.0462641413253948,
          0.4974874410066903,
          -4.073484290063881,
          -6.959086472586755,
          -2.627136153010163,
          -3.542502302963598,
          -3.751954827143834,
          -1.2985324939802538,
          -3.1447224695205875,
          1.9376408512834686,
          0.8476373605678305,
          1.750198321588286,
          -4.316281253660399,
          -0.9800537852490763,
          -1.9375858674040742,
          -2.882104686644304,
          0.996138519275739,
          -1.1409258289808406,
          -1.5148906333467096,
          1.915736123679629,
          -0.8255207168264178,
          2.730783705860155,
          -2.76731813257004,
          -0.8827173140924458,
          1.6717537375402287,
          -0.3018046345698693,
          6.79041966579701,
          -5.186199866700392,
          -2.397653390576103,
          1.1974498347575917,
          -4.449898574741496,
          -4.519866183168254,
          -3.302046003543815,
          3.5086879555251826,
          2.6079446683054
         ],
         "yaxis": "y5"
        },
        {
         "line": {
          "color": "#F44336",
          "dash": "dash",
          "width": 1.5
         },
         "mode": "lines",
         "name": "trend change point",
         "showlegend": true,
         "type": "scatter",
         "x": [
          "2019-02-03T00:00:00",
          "2019-02-03T00:00:00"
         ],
         "xaxis": "x2",
         "y": [
          -3.990672565325674,
          0
         ],
         "yaxis": "y2"
        }
       ],
       "layout": {
        "autosize": true,
        "showlegend": true,
        "template": {
         "data": {
          "bar": [
           {
            "error_x": {
             "color": "#2a3f5f"
            },
            "error_y": {
             "color": "#2a3f5f"
            },
            "marker": {
             "line": {
              "color": "#E5ECF6",
              "width": 0.5
             },
             "pattern": {
              "fillmode": "overlay",
              "size": 10,
              "solidity": 0.2
             }
            },
            "type": "bar"
           }
          ],
          "barpolar": [
           {
            "marker": {
             "line": {
              "color": "#E5ECF6",
              "width": 0.5
             },
             "pattern": {
              "fillmode": "overlay",
              "size": 10,
              "solidity": 0.2
             }
            },
            "type": "barpolar"
           }
          ],
          "carpet": [
           {
            "aaxis": {
             "endlinecolor": "#2a3f5f",
             "gridcolor": "white",
             "linecolor": "white",
             "minorgridcolor": "white",
             "startlinecolor": "#2a3f5f"
            },
            "baxis": {
             "endlinecolor": "#2a3f5f",
             "gridcolor": "white",
             "linecolor": "white",
             "minorgridcolor": "white",
             "startlinecolor": "#2a3f5f"
            },
            "type": "carpet"
           }
          ],
          "choropleth": [
           {
            "colorbar": {
             "outlinewidth": 0,
             "ticks": ""
            },
            "type": "choropleth"
           }
          ],
          "contour": [
           {
            "colorbar": {
             "outlinewidth": 0,
             "ticks": ""
            },
            "colorscale": [
             [
              0,
              "#0d0887"
             ],
             [
              0.1111111111111111,
              "#46039f"
             ],
             [
              0.2222222222222222,
              "#7201a8"
             ],
             [
              0.3333333333333333,
              "#9c179e"
             ],
             [
              0.4444444444444444,
              "#bd3786"
             ],
             [
              0.5555555555555556,
              "#d8576b"
             ],
             [
              0.6666666666666666,
              "#ed7953"
             ],
             [
              0.7777777777777778,
              "#fb9f3a"
             ],
             [
              0.8888888888888888,
              "#fdca26"
             ],
             [
              1,
              "#f0f921"
             ]
            ],
            "type": "contour"
           }
          ],
          "contourcarpet": [
           {
            "colorbar": {
             "outlinewidth": 0,
             "ticks": ""
            },
            "type": "contourcarpet"
           }
          ],
          "heatmap": [
           {
            "colorbar": {
             "outlinewidth": 0,
             "ticks": ""
            },
            "colorscale": [
             [
              0,
              "#0d0887"
             ],
             [
              0.1111111111111111,
              "#46039f"
             ],
             [
              0.2222222222222222,
              "#7201a8"
             ],
             [
              0.3333333333333333,
              "#9c179e"
             ],
             [
              0.4444444444444444,
              "#bd3786"
             ],
             [
              0.5555555555555556,
              "#d8576b"
             ],
             [
              0.6666666666666666,
              "#ed7953"
             ],
             [
              0.7777777777777778,
              "#fb9f3a"
             ],
             [
              0.8888888888888888,
              "#fdca26"
             ],
             [
              1,
              "#f0f921"
             ]
            ],
            "type": "heatmap"
           }
          ],
          "heatmapgl": [
           {
            "colorbar": {
             "outlinewidth": 0,
             "ticks": ""
            },
            "colorscale": [
             [
              0,
              "#0d0887"
             ],
             [
              0.1111111111111111,
              "#46039f"
             ],
             [
              0.2222222222222222,
              "#7201a8"
             ],
             [
              0.3333333333333333,
              "#9c179e"
             ],
             [
              0.4444444444444444,
              "#bd3786"
             ],
             [
              0.5555555555555556,
              "#d8576b"
             ],
             [
              0.6666666666666666,
              "#ed7953"
             ],
             [
              0.7777777777777778,
              "#fb9f3a"
             ],
             [
              0.8888888888888888,
              "#fdca26"
             ],
             [
              1,
              "#f0f921"
             ]
            ],
            "type": "heatmapgl"
           }
          ],
          "histogram": [
           {
            "marker": {
             "pattern": {
              "fillmode": "overlay",
              "size": 10,
              "solidity": 0.2
             }
            },
            "type": "histogram"
           }
          ],
          "histogram2d": [
           {
            "colorbar": {
             "outlinewidth": 0,
             "ticks": ""
            },
            "colorscale": [
             [
              0,
              "#0d0887"
             ],
             [
              0.1111111111111111,
              "#46039f"
             ],
             [
              0.2222222222222222,
              "#7201a8"
             ],
             [
              0.3333333333333333,
              "#9c179e"
             ],
             [
              0.4444444444444444,
              "#bd3786"
             ],
             [
              0.5555555555555556,
              "#d8576b"
             ],
             [
              0.6666666666666666,
              "#ed7953"
             ],
             [
              0.7777777777777778,
              "#fb9f3a"
             ],
             [
              0.8888888888888888,
              "#fdca26"
             ],
             [
              1,
              "#f0f921"
             ]
            ],
            "type": "histogram2d"
           }
          ],
          "histogram2dcontour": [
           {
            "colorbar": {
             "outlinewidth": 0,
             "ticks": ""
            },
            "colorscale": [
             [
              0,
              "#0d0887"
             ],
             [
              0.1111111111111111,
              "#46039f"
             ],
             [
              0.2222222222222222,
              "#7201a8"
             ],
             [
              0.3333333333333333,
              "#9c179e"
             ],
             [
              0.4444444444444444,
              "#bd3786"
             ],
             [
              0.5555555555555556,
              "#d8576b"
             ],
             [
              0.6666666666666666,
              "#ed7953"
             ],
             [
              0.7777777777777778,
              "#fb9f3a"
             ],
             [
              0.8888888888888888,
              "#fdca26"
             ],
             [
              1,
              "#f0f921"
             ]
            ],
            "type": "histogram2dcontour"
           }
          ],
          "mesh3d": [
           {
            "colorbar": {
             "outlinewidth": 0,
             "ticks": ""
            },
            "type": "mesh3d"
           }
          ],
          "parcoords": [
           {
            "line": {
             "colorbar": {
              "outlinewidth": 0,
              "ticks": ""
             }
            },
            "type": "parcoords"
           }
          ],
          "pie": [
           {
            "automargin": true,
            "type": "pie"
           }
          ],
          "scatter": [
           {
            "fillpattern": {
             "fillmode": "overlay",
             "size": 10,
             "solidity": 0.2
            },
            "type": "scatter"
           }
          ],
          "scatter3d": [
           {
            "line": {
             "colorbar": {
              "outlinewidth": 0,
              "ticks": ""
             }
            },
            "marker": {
             "colorbar": {
              "outlinewidth": 0,
              "ticks": ""
             }
            },
            "type": "scatter3d"
           }
          ],
          "scattercarpet": [
           {
            "marker": {
             "colorbar": {
              "outlinewidth": 0,
              "ticks": ""
             }
            },
            "type": "scattercarpet"
           }
          ],
          "scattergeo": [
           {
            "marker": {
             "colorbar": {
              "outlinewidth": 0,
              "ticks": ""
             }
            },
            "type": "scattergeo"
           }
          ],
          "scattergl": [
           {
            "marker": {
             "colorbar": {
              "outlinewidth": 0,
              "ticks": ""
             }
            },
            "type": "scattergl"
           }
          ],
          "scattermapbox": [
           {
            "marker": {
             "colorbar": {
              "outlinewidth": 0,
              "ticks": ""
             }
            },
            "type": "scattermapbox"
           }
          ],
          "scatterpolar": [
           {
            "marker": {
             "colorbar": {
              "outlinewidth": 0,
              "ticks": ""
             }
            },
            "type": "scatterpolar"
           }
          ],
          "scatterpolargl": [
           {
            "marker": {
             "colorbar": {
              "outlinewidth": 0,
              "ticks": ""
             }
            },
            "type": "scatterpolargl"
           }
          ],
          "scatterternary": [
           {
            "marker": {
             "colorbar": {
              "outlinewidth": 0,
              "ticks": ""
             }
            },
            "type": "scatterternary"
           }
          ],
          "surface": [
           {
            "colorbar": {
             "outlinewidth": 0,
             "ticks": ""
            },
            "colorscale": [
             [
              0,
              "#0d0887"
             ],
             [
              0.1111111111111111,
              "#46039f"
             ],
             [
              0.2222222222222222,
              "#7201a8"
             ],
             [
              0.3333333333333333,
              "#9c179e"
             ],
             [
              0.4444444444444444,
              "#bd3786"
             ],
             [
              0.5555555555555556,
              "#d8576b"
             ],
             [
              0.6666666666666666,
              "#ed7953"
             ],
             [
              0.7777777777777778,
              "#fb9f3a"
             ],
             [
              0.8888888888888888,
              "#fdca26"
             ],
             [
              1,
              "#f0f921"
             ]
            ],
            "type": "surface"
           }
          ],
          "table": [
           {
            "cells": {
             "fill": {
              "color": "#EBF0F8"
             },
             "line": {
              "color": "white"
             }
            },
            "header": {
             "fill": {
              "color": "#C8D4E3"
             },
             "line": {
              "color": "white"
             }
            },
            "type": "table"
           }
          ]
         },
         "layout": {
          "annotationdefaults": {
           "arrowcolor": "#2a3f5f",
           "arrowhead": 0,
           "arrowwidth": 1
          },
          "autotypenumbers": "strict",
          "coloraxis": {
           "colorbar": {
            "outlinewidth": 0,
            "ticks": ""
           }
          },
          "colorscale": {
           "diverging": [
            [
             0,
             "#8e0152"
            ],
            [
             0.1,
             "#c51b7d"
            ],
            [
             0.2,
             "#de77ae"
            ],
            [
             0.3,
             "#f1b6da"
            ],
            [
             0.4,
             "#fde0ef"
            ],
            [
             0.5,
             "#f7f7f7"
            ],
            [
             0.6,
             "#e6f5d0"
            ],
            [
             0.7,
             "#b8e186"
            ],
            [
             0.8,
             "#7fbc41"
            ],
            [
             0.9,
             "#4d9221"
            ],
            [
             1,
             "#276419"
            ]
           ],
           "sequential": [
            [
             0,
             "#0d0887"
            ],
            [
             0.1111111111111111,
             "#46039f"
            ],
            [
             0.2222222222222222,
             "#7201a8"
            ],
            [
             0.3333333333333333,
             "#9c179e"
            ],
            [
             0.4444444444444444,
             "#bd3786"
            ],
            [
             0.5555555555555556,
             "#d8576b"
            ],
            [
             0.6666666666666666,
             "#ed7953"
            ],
            [
             0.7777777777777778,
             "#fb9f3a"
            ],
            [
             0.8888888888888888,
             "#fdca26"
            ],
            [
             1,
             "#f0f921"
            ]
           ],
           "sequentialminus": [
            [
             0,
             "#0d0887"
            ],
            [
             0.1111111111111111,
             "#46039f"
            ],
            [
             0.2222222222222222,
             "#7201a8"
            ],
            [
             0.3333333333333333,
             "#9c179e"
            ],
            [
             0.4444444444444444,
             "#bd3786"
            ],
            [
             0.5555555555555556,
             "#d8576b"
            ],
            [
             0.6666666666666666,
             "#ed7953"
            ],
            [
             0.7777777777777778,
             "#fb9f3a"
            ],
            [
             0.8888888888888888,
             "#fdca26"
            ],
            [
             1,
             "#f0f921"
            ]
           ]
          },
          "colorway": [
           "#636efa",
           "#EF553B",
           "#00cc96",
           "#ab63fa",
           "#FFA15A",
           "#19d3f3",
           "#FF6692",
           "#B6E880",
           "#FF97FF",
           "#FECB52"
          ],
          "font": {
           "color": "#2a3f5f"
          },
          "geo": {
           "bgcolor": "white",
           "lakecolor": "white",
           "landcolor": "#E5ECF6",
           "showlakes": true,
           "showland": true,
           "subunitcolor": "white"
          },
          "hoverlabel": {
           "align": "left"
          },
          "hovermode": "closest",
          "mapbox": {
           "style": "light"
          },
          "paper_bgcolor": "white",
          "plot_bgcolor": "#E5ECF6",
          "polar": {
           "angularaxis": {
            "gridcolor": "white",
            "linecolor": "white",
            "ticks": ""
           },
           "bgcolor": "#E5ECF6",
           "radialaxis": {
            "gridcolor": "white",
            "linecolor": "white",
            "ticks": ""
           }
          },
          "scene": {
           "xaxis": {
            "backgroundcolor": "#E5ECF6",
            "gridcolor": "white",
            "gridwidth": 2,
            "linecolor": "white",
            "showbackground": true,
            "ticks": "",
            "zerolinecolor": "white"
           },
           "yaxis": {
            "backgroundcolor": "#E5ECF6",
            "gridcolor": "white",
            "gridwidth": 2,
            "linecolor": "white",
            "showbackground": true,
            "ticks": "",
            "zerolinecolor": "white"
           },
           "zaxis": {
            "backgroundcolor": "#E5ECF6",
            "gridcolor": "white",
            "gridwidth": 2,
            "linecolor": "white",
            "showbackground": true,
            "ticks": "",
            "zerolinecolor": "white"
           }
          },
          "shapedefaults": {
           "line": {
            "color": "#2a3f5f"
           }
          },
          "ternary": {
           "aaxis": {
            "gridcolor": "white",
            "linecolor": "white",
            "ticks": ""
           },
           "baxis": {
            "gridcolor": "white",
            "linecolor": "white",
            "ticks": ""
           },
           "bgcolor": "#E5ECF6",
           "caxis": {
            "gridcolor": "white",
            "linecolor": "white",
            "ticks": ""
           }
          },
          "title": {
           "x": 0.05
          },
          "xaxis": {
           "automargin": true,
           "gridcolor": "white",
           "linecolor": "white",
           "ticks": "",
           "title": {
            "standoff": 15
           },
           "zerolinecolor": "white",
           "zerolinewidth": 2
          },
          "yaxis": {
           "automargin": true,
           "gridcolor": "white",
           "linecolor": "white",
           "ticks": "",
           "title": {
            "standoff": 15
           },
           "zerolinecolor": "white",
           "zerolinewidth": 2
          }
         }
        },
        "title": {
         "text": "Component plots",
         "x": 0.5
        },
        "xaxis": {
         "anchor": "y",
         "autorange": true,
         "domain": [
          0,
          1
         ],
         "mirror": true,
         "range": [
          "2017-12-31",
          "2020-01-12"
         ],
         "showline": true,
         "title": {
          "text": "ts"
         },
         "type": "date"
        },
        "xaxis2": {
         "anchor": "y2",
         "autorange": true,
         "domain": [
          0,
          1
         ],
         "mirror": true,
         "range": [
          "2017-12-31",
          "2020-01-12"
         ],
         "showline": true,
         "title": {
          "text": "ts"
         },
         "type": "date"
        },
        "xaxis3": {
         "anchor": "y3",
         "autorange": true,
         "domain": [
          0,
          1
         ],
         "mirror": true,
         "range": [
          0.010958904109589041,
          0.9972602739726028
         ],
         "showline": true,
         "title": {
          "text": "Time of year"
         },
         "type": "linear"
        },
        "xaxis4": {
         "anchor": "y4",
         "autorange": true,
         "domain": [
          0,
          1
         ],
         "mirror": true,
         "range": [
          "2017-12-31",
          "2020-01-12"
         ],
         "showline": true,
         "title": {
          "text": "ts"
         },
         "type": "date"
        },
        "xaxis5": {
         "anchor": "y5",
         "autorange": true,
         "domain": [
          0,
          1
         ],
         "mirror": true,
         "range": [
          "2017-12-31",
          "2020-01-12"
         ],
         "showline": true,
         "title": {
          "text": "ts"
         },
         "type": "date"
        },
        "yaxis": {
         "anchor": "x",
         "autorange": true,
         "domain": [
          0.8559999999999999,
          0.9999999999999999
         ],
         "mirror": true,
         "range": [
          38.19444444444444,
          72.30555555555554
         ],
         "showline": true,
         "title": {
          "text": "y"
         },
         "type": "linear"
        },
        "yaxis2": {
         "anchor": "x2",
         "autorange": true,
         "domain": [
          0.6419999999999999,
          0.7859999999999999
         ],
         "mirror": true,
         "range": [
          -4.212376596732656,
          0.2217040314069819
         ],
         "showline": true,
         "title": {
          "text": "trend"
         },
         "type": "linear"
        },
        "yaxis3": {
         "anchor": "x3",
         "autorange": true,
         "domain": [
          0.42799999999999994,
          0.572
         ],
         "mirror": true,
         "range": [
          -8.764430124857915,
          12.258462108646343
         ],
         "showline": true,
         "title": {
          "text": "yearly"
         },
         "type": "linear"
        },
        "yaxis4": {
         "anchor": "x4",
         "autorange": true,
         "domain": [
          0.21399999999999997,
          0.358
         ],
         "mirror": true,
         "range": [
          -0.8502604213648238,
          0.44942320642160194
         ],
         "showline": true,
         "title": {
          "text": "events"
         },
         "type": "linear"
        },
        "yaxis5": {
         "anchor": "x5",
         "autorange": true,
         "domain": [
          0,
          0.144
         ],
         "mirror": true,
         "range": [
          -7.722947924719186,
          7.554281117929442
         ],
         "showline": true,
         "title": {
          "text": "residual"
         },
         "type": "linear"
        }
       }
      },
      "image/png": "[encoded data removed]",
      "text/html": [
       "<div>                            <div id=\"b89c0622-137d-44ce-a9c8-921496a6a209\" class=\"plotly-graph-div\" style=\"height:1750px; width:100%;\"></div>            <script type=\"text/javascript\">                require([\"plotly\"], function(Plotly) {                    window.PLOTLYENV=window.PLOTLYENV || {};                                    if (document.getElementById(\"b89c0622-137d-44ce-a9c8-921496a6a209\")) {                    Plotly.newPlot(                        \"b89c0622-137d-44ce-a9c8-921496a6a209\",                        [{\"mode\":\"lines\",\"name\":\"y\",\"opacity\":0.8,\"showlegend\":false,\"x\":[\"2017-12-31T00:00:00\",\"2018-01-07T00:00:00\",\"2018-01-14T00:00:00\",\"2018-01-21T00:00:00\",\"2018-01-28T00:00:00\",\"2018-02-04T00:00:00\",\"2018-02-11T00:00:00\",\"2018-02-18T00:00:00\",\"2018-02-25T00:00:00\",\"2018-03-04T00:00:00\",\"2018-03-11T00:00:00\",\"2018-03-18T00:00:00\",\"2018-03-25T00:00:00\",\"2018-04-01T00:00:00\",\"2018-04-08T00:00:00\",\"2018-04-15T00:00:00\",\"2018-04-22T00:00:00\",\"2018-04-29T00:00:00\",\"2018-05-06T00:00:00\",\"2018-05-13T00:00:00\",\"2018-05-20T00:00:00\",\"2018-05-27T00:00:00\",\"2018-06-03T00:00:00\",\"2018-06-10T00:00:00\",\"2018-06-17T00:00:00\",\"2018-06-24T00:00:00\",\"2018-07-01T00:00:00\",\"2018-07-08T00:00:00\",\"2018-07-15T00:00:00\",\"2018-07-22T00:00:00\",\"2018-07-29T00:00:00\",\"2018-08-05T00:00:00\",\"2018-08-12T00:00:00\",\"2018-08-19T00:00:00\",\"2018-08-26T00:00:00\",\"2018-09-02T00:00:00\",\"2018-09-09T00:00:00\",\"2018-09-16T00:00:00\",\"2018-09-23T00:00:00\",\"2018-09-30T00:00:00\",\"2018-10-07T00:00:00\",\"2018-10-14T00:00:00\",\"2018-10-21T00:00:00\",\"2018-10-28T00:00:00\",\"2018-11-04T00:00:00\",\"2018-11-11T00:00:00\",\"2018-11-18T00:00:00\",\"2018-11-25T00:00:00\",\"2018-12-02T00:00:00\",\"2018-12-09T00:00:00\",\"2018-12-16T00:00:00\",\"2018-12-23T00:00:00\",\"2018-12-30T00:00:00\",\"2019-01-06T00:00:00\",\"2019-01-13T00:00:00\",\"2019-01-20T00:00:00\",\"2019-01-27T00:00:00\",\"2019-02-03T00:00:00\",\"2019-02-10T00:00:00\",\"2019-02-17T00:00:00\",\"2019-02-24T00:00:00\",\"2019-03-03T00:00:00\",\"2019-03-10T00:00:00\",\"2019-03-17T00:00:00\",\"2019-03-24T00:00:00\",\"2019-03-31T00:00:00\",\"2019-04-07T00:00:00\",\"2019-04-14T00:00:00\",\"2019-04-21T00:00:00\",\"2019-04-28T00:00:00\",\"2019-05-05T00:00:00\",\"2019-05-12T00:00:00\",\"2019-05-19T00:00:00\",\"2019-05-26T00:00:00\",\"2019-06-02T00:00:00\",\"2019-06-09T00:00:00\",\"2019-06-16T00:00:00\",\"2019-06-23T00:00:00\",\"2019-06-30T00:00:00\",\"2019-07-07T00:00:00\",\"2019-07-14T00:00:00\",\"2019-07-21T00:00:00\",\"2019-07-28T00:00:00\",\"2019-08-04T00:00:00\",\"2019-08-11T00:00:00\",\"2019-08-18T00:00:00\",\"2019-08-25T00:00:00\",\"2019-09-01T00:00:00\",\"2019-09-08T00:00:00\",\"2019-09-15T00:00:00\",\"2019-09-22T00:00:00\",\"2019-09-29T00:00:00\",\"2019-10-06T00:00:00\",\"2019-10-13T00:00:00\",\"2019-10-20T00:00:00\",\"2019-10-27T00:00:00\",\"2019-11-03T00:00:00\",\"2019-11-10T00:00:00\",\"2019-11-17T00:00:00\",\"2019-11-24T00:00:00\",\"2019-12-01T00:00:00\",\"2019-12-08T00:00:00\",\"2019-12-15T00:00:00\",\"2019-12-22T00:00:00\",\"2019-12-29T00:00:00\",\"2020-01-05T00:00:00\",\"2020-01-12T00:00:00\"],\"y\":[50.4,57.1,53.7,63.6,61.3,64.5,63.2,59.5,68.2,66.2,63.1,63.4,58.8,63.9,65.9,62.9,61.0,61.1,62.1,61.4,62.4,50.7,65.8,62.5,47.9,52.5,50.1,49.4,51.2,49.3,46.2,49.4,50.4,46.2,48.9,53.9,55.6,63.0,58.8,57.3,62.7,61.9,69.5,61.0,60.9,63.0,58.8,63.7,65.4,68.7,59.9,45.9,51.7,58.9,66.2,60.2,60.2,70.0,70.5,67.8,65.4,69.4,68.1,67.6,65.1,70.6,59.6,60.9,64.0,66.7,62.4,62.6,62.7,52.8,53.8,49.8,46.2,46.5,45.7,48.2,46.8,53.9,50.1,52.7,44.3,46.6,46.2,47.6,55.7,56.3,54.7,57.4,57.3,62.0,58.2,56.6,59.3,57.8,66.8,49.5,55.6,63.6,50.0,39.9,42.8,58.7,59.1],\"type\":\"scatter\",\"xaxis\":\"x\",\"yaxis\":\"y\"},{\"mode\":\"lines\",\"name\":\"trend\",\"opacity\":0.8,\"showlegend\":false,\"x\":[\"2017-12-31T00:00:00\",\"2018-01-07T00:00:00\",\"2018-01-14T00:00:00\",\"2018-01-21T00:00:00\",\"2018-01-28T00:00:00\",\"2018-02-04T00:00:00\",\"2018-02-11T00:00:00\",\"2018-02-18T00:00:00\",\"2018-02-25T00:00:00\",\"2018-03-04T00:00:00\",\"2018-03-11T00:00:00\",\"2018-03-18T00:00:00\",\"2018-03-25T00:00:00\",\"2018-04-01T00:00:00\",\"2018-04-08T00:00:00\",\"2018-04-15T00:00:00\",\"2018-04-22T00:00:00\",\"2018-04-29T00:00:00\",\"2018-05-06T00:00:00\",\"2018-05-13T00:00:00\",\"2018-05-20T00:00:00\",\"2018-05-27T00:00:00\",\"2018-06-03T00:00:00\",\"2018-06-10T00:00:00\",\"2018-06-17T00:00:00\",\"2018-06-24T00:00:00\",\"2018-07-01T00:00:00\",\"2018-07-08T00:00:00\",\"2018-07-15T00:00:00\",\"2018-07-22T00:00:00\",\"2018-07-29T00:00:00\",\"2018-08-05T00:00:00\",\"2018-08-12T00:00:00\",\"2018-08-19T00:00:00\",\"2018-08-26T00:00:00\",\"2018-09-02T00:00:00\",\"2018-09-09T00:00:00\",\"2018-09-16T00:00:00\",\"2018-09-23T00:00:00\",\"2018-09-30T00:00:00\",\"2018-10-07T00:00:00\",\"2018-10-14T00:00:00\",\"2018-10-21T00:00:00\",\"2018-10-28T00:00:00\",\"2018-11-04T00:00:00\",\"2018-11-11T00:00:00\",\"2018-11-18T00:00:00\",\"2018-11-25T00:00:00\",\"2018-12-02T00:00:00\",\"2018-12-09T00:00:00\",\"2018-12-16T00:00:00\",\"2018-12-23T00:00:00\",\"2018-12-30T00:00:00\",\"2019-01-06T00:00:00\",\"2019-01-13T00:00:00\",\"2019-01-20T00:00:00\",\"2019-01-27T00:00:00\",\"2019-02-03T00:00:00\",\"2019-02-10T00:00:00\",\"2019-02-17T00:00:00\",\"2019-02-24T00:00:00\",\"2019-03-03T00:00:00\",\"2019-03-10T00:00:00\",\"2019-03-17T00:00:00\",\"2019-03-24T00:00:00\",\"2019-03-31T00:00:00\",\"2019-04-07T00:00:00\",\"2019-04-14T00:00:00\",\"2019-04-21T00:00:00\",\"2019-04-28T00:00:00\",\"2019-05-05T00:00:00\",\"2019-05-12T00:00:00\",\"2019-05-19T00:00:00\",\"2019-05-26T00:00:00\",\"2019-06-02T00:00:00\",\"2019-06-09T00:00:00\",\"2019-06-16T00:00:00\",\"2019-06-23T00:00:00\",\"2019-06-30T00:00:00\",\"2019-07-07T00:00:00\",\"2019-07-14T00:00:00\",\"2019-07-21T00:00:00\",\"2019-07-28T00:00:00\",\"2019-08-04T00:00:00\",\"2019-08-11T00:00:00\",\"2019-08-18T00:00:00\",\"2019-08-25T00:00:00\",\"2019-09-01T00:00:00\",\"2019-09-08T00:00:00\",\"2019-09-15T00:00:00\",\"2019-09-22T00:00:00\",\"2019-09-29T00:00:00\",\"2019-10-06T00:00:00\",\"2019-10-13T00:00:00\",\"2019-10-20T00:00:00\",\"2019-10-27T00:00:00\",\"2019-11-03T00:00:00\",\"2019-11-10T00:00:00\",\"2019-11-17T00:00:00\",\"2019-11-24T00:00:00\",\"2019-12-01T00:00:00\",\"2019-12-08T00:00:00\",\"2019-12-15T00:00:00\",\"2019-12-22T00:00:00\",\"2019-12-29T00:00:00\",\"2020-01-05T00:00:00\",\"2020-01-12T00:00:00\"],\"y\":[0.0,0.0,0.0,0.0,0.0,0.0,0.0,0.0,0.0,0.0,0.0,0.0,0.0,0.0,0.0,0.0,0.0,0.0,0.0,0.0,0.0,0.0,0.0,0.0,0.0,0.0,0.0,0.0,0.0,0.0,0.0,0.0,0.0,0.0,0.0,0.0,0.0,0.0,0.0,0.0,0.0,0.0,0.0,0.0,0.0,0.0,0.0,0.0,0.0,0.0,0.0,0.0,0.0,0.0,0.0,0.0,0.0,0.0,-0.08144943408458945,-0.1628988681691789,-0.24434830225376833,-0.3257977363393234,-0.40724717042391284,-0.48869660450850233,-0.5701460385930918,-0.6515954726786468,-0.7330449067632363,-0.8144943408478257,-0.8959437749324152,-0.9773932090179703,-1.0588426431025597,-1.1402920771871492,-1.2217415112717387,-1.303190945356328,-1.3846403794418831,-1.4660898135264726,-1.547539247611062,-1.6289886816956514,-1.7104381157812065,-1.791887549865796,-1.8733369839503855,-1.954786418034975,-2.0362358521195647,-2.1176852862051194,-2.1991347202897087,-2.2805841543742984,-2.3620335884588877,-2.4434830225444433,-2.5249324566290325,-2.606381890713622,-2.6878313247982115,-2.7692807588837662,-2.8507301929683555,-2.932179627052945,-3.0136290611375345,-3.095078495222124,-3.1765279293076794,-3.2579773633922686,-3.3394267974768583,-3.4208762315614476,-3.5023256656470023,-3.583775099731592,-3.6652245338161813,-3.746673967900771,-3.8281234019853603,-3.9094456706782497,-3.990672565325674],\"type\":\"scatter\",\"xaxis\":\"x2\",\"yaxis\":\"y2\"},{\"mode\":\"lines\",\"name\":\"YEARLY_SEASONALITY\",\"opacity\":0.8,\"showlegend\":false,\"x\":[0.010958904109589041,0.0136986301369863,0.01643835616438356,0.030136986301369864,0.03287671232876712,0.03561643835616438,0.052054794520547946,0.0547945205479452,0.07123287671232877,0.07397260273972603,0.09041095890410959,0.09315068493150686,0.1095890410958904,0.11232876712328767,0.12876712328767123,0.13150684931506848,0.14794520547945206,0.1506849315068493,0.16712328767123288,0.16986301369863013,0.1863013698630137,0.18904109589041096,0.2054794520547945,0.20821917808219179,0.22465753424657534,0.2273972602739726,0.24383561643835616,0.2465753424657534,0.26301369863013696,0.26575342465753427,0.2821917808219178,0.28493150684931506,0.3013698630136986,0.3041095890410959,0.32054794520547947,0.3232876712328767,0.33972602739726027,0.3424657534246575,0.3589041095890411,0.36164383561643837,0.3780821917808219,0.38082191780821917,0.3972602739726027,0.4,0.41643835616438357,0.4191780821917808,0.43561643835616437,0.4383561643835616,0.4547945205479452,0.4575342465753425,0.473972602739726,0.4767123287671233,0.4931506849315068,0.4958904109589041,0.5123287671232877,0.5150684931506849,0.5315068493150685,0.5342465753424658,0.5506849315068493,0.5534246575342465,0.5698630136986301,0.5726027397260274,0.589041095890411,0.5917808219178082,0.6082191780821918,0.6109589041095891,0.6273972602739726,0.6301369863013698,0.6465753424657534,0.6493150684931507,0.6657534246575343,0.6684931506849315,0.684931506849315,0.6876712328767123,0.7041095890410959,0.7068493150684931,0.7232876712328767,0.726027397260274,0.7424657534246575,0.7452054794520548,0.7616438356164383,0.7643835616438356,0.7808219178082192,0.7835616438356164,0.8,0.8027397260273973,0.8191780821917808,0.821917808219178,0.8383561643835616,0.8410958904109589,0.8575342465753425,0.8602739726027397,0.8767123287671232,0.8794520547945206,0.8958904109589041,0.8986301369863013,0.915068493150685,0.9178082191780822,0.9342465753424658,0.936986301369863,0.9534246575342465,0.9561643835616438,0.9726027397260274,0.9753424657534246,0.9917808219178083,0.9945205479452055,0.9972602739726028],\"y\":[3.9939356363819356,4.642857040541065,5.068249811851637,5.375905818249125,5.354011010433209,5.358810130637448,5.477845020891587,5.423215742492394,5.701291223028273,6.061766148448378,9.875423342750679,10.470986341213944,10.79525875111235,10.283157476016616,7.126302128332445,7.0433296277871325,9.962246249565286,10.599177474035562,11.20731749697113,10.821045585924113,9.415111955477954,9.506315984803187,9.225289353068781,8.792174517742263,6.734672832749375,6.943146586115194,10.077290482304916,10.274244547264875,7.487242286568767,6.8567229366173015,6.3997214816774,6.719404604598918,7.3496392985214065,7.2423075968962465,7.801610771396218,8.043019576937033,7.201945990916847,6.702733985381206,6.3131690918424175,6.872523113448689,7.768655291175192,6.823691639917765,-0.8921301572878205,-1.2965644938035683,4.15130259073462,5.249924465366979,3.118354207342097,1.5820842969886533,-4.732146678149917,-4.803434784639287,-3.4353310941119,-3.414380981148742,-3.9444291358460903,-3.9163536127472116,-3.816402034925108,-3.9126267665486782,-3.2887626253001754,-2.8478883367463155,-1.1896765120196495,-1.4339916305215359,-3.818223587219384,-3.847086358004272,-2.039335114154306,-1.9399948040699506,-4.291406104821028,-4.771615086588521,-5.246184139147779,-5.0921901821953135,-4.607202622908187,-4.4447061614185905,-1.395958129606908,-0.7198211193231822,2.121971858582177,2.468703946668842,4.940485640923315,5.212413600967411,3.795899879373799,3.2899735774726677,3.1467225564330255,3.647439604499082,5.869428831023623,5.914699866678098,6.956108657479165,7.435304337873921,8.8741251149364,8.536163825489709,5.470973730543429,5.256576126504666,5.6979521129963135,5.760184500597465,6.344684244365534,6.699400208985957,8.242185052908727,7.886862601400752,3.0002540194906975,2.5368232339048524,6.393156977451918,7.654276918108135,10.879503186202879,10.34864111062001,3.00830102978652,1.4427361150620064,-6.940281927702101,-7.713285513182702,-5.176652673241991,-3.762517398698252,-2.247149265626117],\"type\":\"scatter\",\"xaxis\":\"x3\",\"yaxis\":\"y3\"},{\"mode\":\"lines\",\"name\":\"events\",\"opacity\":0.8,\"showlegend\":false,\"x\":[\"2017-12-31T00:00:00\",\"2018-01-07T00:00:00\",\"2018-01-14T00:00:00\",\"2018-01-21T00:00:00\",\"2018-01-28T00:00:00\",\"2018-02-04T00:00:00\",\"2018-02-11T00:00:00\",\"2018-02-18T00:00:00\",\"2018-02-25T00:00:00\",\"2018-03-04T00:00:00\",\"2018-03-11T00:00:00\",\"2018-03-18T00:00:00\",\"2018-03-25T00:00:00\",\"2018-04-01T00:00:00\",\"2018-04-08T00:00:00\",\"2018-04-15T00:00:00\",\"2018-04-22T00:00:00\",\"2018-04-29T00:00:00\",\"2018-05-06T00:00:00\",\"2018-05-13T00:00:00\",\"2018-05-20T00:00:00\",\"2018-05-27T00:00:00\",\"2018-06-03T00:00:00\",\"2018-06-10T00:00:00\",\"2018-06-17T00:00:00\",\"2018-06-24T00:00:00\",\"2018-07-01T00:00:00\",\"2018-07-08T00:00:00\",\"2018-07-15T00:00:00\",\"2018-07-22T00:00:00\",\"2018-07-29T00:00:00\",\"2018-08-05T00:00:00\",\"2018-08-12T00:00:00\",\"2018-08-19T00:00:00\",\"2018-08-26T00:00:00\",\"2018-09-02T00:00:00\",\"2018-09-09T00:00:00\",\"2018-09-16T00:00:00\",\"2018-09-23T00:00:00\",\"2018-09-30T00:00:00\",\"2018-10-07T00:00:00\",\"2018-10-14T00:00:00\",\"2018-10-21T00:00:00\",\"2018-10-28T00:00:00\",\"2018-11-04T00:00:00\",\"2018-11-11T00:00:00\",\"2018-11-18T00:00:00\",\"2018-11-25T00:00:00\",\"2018-12-02T00:00:00\",\"2018-12-09T00:00:00\",\"2018-12-16T00:00:00\",\"2018-12-23T00:00:00\",\"2018-12-30T00:00:00\",\"2019-01-06T00:00:00\",\"2019-01-13T00:00:00\",\"2019-01-20T00:00:00\",\"2019-01-27T00:00:00\",\"2019-02-03T00:00:00\",\"2019-02-10T00:00:00\",\"2019-02-17T00:00:00\",\"2019-02-24T00:00:00\",\"2019-03-03T00:00:00\",\"2019-03-10T00:00:00\",\"2019-03-17T00:00:00\",\"2019-03-24T00:00:00\",\"2019-03-31T00:00:00\",\"2019-04-07T00:00:00\",\"2019-04-14T00:00:00\",\"2019-04-21T00:00:00\",\"2019-04-28T00:00:00\",\"2019-05-05T00:00:00\",\"2019-05-12T00:00:00\",\"2019-05-19T00:00:00\",\"2019-05-26T00:00:00\",\"2019-06-02T00:00:00\",\"2019-06-09T00:00:00\",\"2019-06-16T00:00:00\",\"2019-06-23T00:00:00\",\"2019-06-30T00:00:00\",\"2019-07-07T00:00:00\",\"2019-07-14T00:00:00\",\"2019-07-21T00:00:00\",\"2019-07-28T00:00:00\",\"2019-08-04T00:00:00\",\"2019-08-11T00:00:00\",\"2019-08-18T00:00:00\",\"2019-08-25T00:00:00\",\"2019-09-01T00:00:00\",\"2019-09-08T00:00:00\",\"2019-09-15T00:00:00\",\"2019-09-22T00:00:00\",\"2019-09-29T00:00:00\",\"2019-10-06T00:00:00\",\"2019-10-13T00:00:00\",\"2019-10-20T00:00:00\",\"2019-10-27T00:00:00\",\"2019-11-03T00:00:00\",\"2019-11-10T00:00:00\",\"2019-11-17T00:00:00\",\"2019-11-24T00:00:00\",\"2019-12-01T00:00:00\",\"2019-12-08T00:00:00\",\"2019-12-15T00:00:00\",\"2019-12-22T00:00:00\",\"2019-12-29T00:00:00\",\"2020-01-05T00:00:00\",\"2020-01-12T00:00:00\"],\"y\":[-0.5733042596977715,0.0,0.13846518494248525,0.0,0.0,0.0,0.0,0.13846518494248525,0.0,0.0,0.0,0.0,0.0,0.0,0.0,0.0,0.0,0.0,0.0,0.0,0.0,-0.6089884171336799,0.0,0.0,0.0,0.0,0.0,0.0,0.0,0.0,0.0,0.0,0.0,0.0,0.0,-0.7852762399755026,0.0,0.0,0.0,0.0,0.13846518494248525,0.0,0.0,0.0,0.0,0.3844390250322806,0.0,0.0,0.0,0.0,0.0,-0.34811576177540365,0.08290600318016857,0.0,0.0,0.13846518494248525,0.0,0.0,0.0,0.13846518494248525,0.0,0.0,0.0,0.0,0.0,0.0,0.0,0.0,0.0,0.0,0.0,0.0,0.0,-0.6089884171336799,0.0,0.0,0.0,0.0,0.0,0.0,0.0,0.0,0.0,0.0,0.0,0.0,0.0,-0.7852762399755026,0.0,0.0,0.0,0.0,0.0,0.13846518494248525,0.0,0.0,0.0,-0.09172432517454442,0.0,0.0,0.0,0.0,0.0,0.0,0.0,0.0,0.0],\"type\":\"scatter\",\"xaxis\":\"x4\",\"yaxis\":\"y4\"},{\"mode\":\"lines\",\"name\":\"residual\",\"opacity\":0.8,\"showlegend\":false,\"x\":[\"2017-12-31T00:00:00\",\"2018-01-07T00:00:00\",\"2018-01-14T00:00:00\",\"2018-01-21T00:00:00\",\"2018-01-28T00:00:00\",\"2018-02-04T00:00:00\",\"2018-02-11T00:00:00\",\"2018-02-18T00:00:00\",\"2018-02-25T00:00:00\",\"2018-03-04T00:00:00\",\"2018-03-11T00:00:00\",\"2018-03-18T00:00:00\",\"2018-03-25T00:00:00\",\"2018-04-01T00:00:00\",\"2018-04-08T00:00:00\",\"2018-04-15T00:00:00\",\"2018-04-22T00:00:00\",\"2018-04-29T00:00:00\",\"2018-05-06T00:00:00\",\"2018-05-13T00:00:00\",\"2018-05-20T00:00:00\",\"2018-05-27T00:00:00\",\"2018-06-03T00:00:00\",\"2018-06-10T00:00:00\",\"2018-06-17T00:00:00\",\"2018-06-24T00:00:00\",\"2018-07-01T00:00:00\",\"2018-07-08T00:00:00\",\"2018-07-15T00:00:00\",\"2018-07-22T00:00:00\",\"2018-07-29T00:00:00\",\"2018-08-05T00:00:00\",\"2018-08-12T00:00:00\",\"2018-08-19T00:00:00\",\"2018-08-26T00:00:00\",\"2018-09-02T00:00:00\",\"2018-09-09T00:00:00\",\"2018-09-16T00:00:00\",\"2018-09-23T00:00:00\",\"2018-09-30T00:00:00\",\"2018-10-07T00:00:00\",\"2018-10-14T00:00:00\",\"2018-10-21T00:00:00\",\"2018-10-28T00:00:00\",\"2018-11-04T00:00:00\",\"2018-11-11T00:00:00\",\"2018-11-18T00:00:00\",\"2018-11-25T00:00:00\",\"2018-12-02T00:00:00\",\"2018-12-09T00:00:00\",\"2018-12-16T00:00:00\",\"2018-12-23T00:00:00\",\"2018-12-30T00:00:00\",\"2019-01-06T00:00:00\",\"2019-01-13T00:00:00\",\"2019-01-20T00:00:00\",\"2019-01-27T00:00:00\",\"2019-02-03T00:00:00\",\"2019-02-10T00:00:00\",\"2019-02-17T00:00:00\",\"2019-02-24T00:00:00\",\"2019-03-03T00:00:00\",\"2019-03-10T00:00:00\",\"2019-03-17T00:00:00\",\"2019-03-24T00:00:00\",\"2019-03-31T00:00:00\",\"2019-04-07T00:00:00\",\"2019-04-14T00:00:00\",\"2019-04-21T00:00:00\",\"2019-04-28T00:00:00\",\"2019-05-05T00:00:00\",\"2019-05-12T00:00:00\",\"2019-05-19T00:00:00\",\"2019-05-26T00:00:00\",\"2019-06-02T00:00:00\",\"2019-06-09T00:00:00\",\"2019-06-16T00:00:00\",\"2019-06-23T00:00:00\",\"2019-06-30T00:00:00\",\"2019-07-07T00:00:00\",\"2019-07-14T00:00:00\",\"2019-07-21T00:00:00\",\"2019-07-28T00:00:00\",\"2019-08-04T00:00:00\",\"2019-08-11T00:00:00\",\"2019-08-18T00:00:00\",\"2019-08-25T00:00:00\",\"2019-09-01T00:00:00\",\"2019-09-08T00:00:00\",\"2019-09-15T00:00:00\",\"2019-09-22T00:00:00\",\"2019-09-29T00:00:00\",\"2019-10-06T00:00:00\",\"2019-10-13T00:00:00\",\"2019-10-20T00:00:00\",\"2019-10-27T00:00:00\",\"2019-11-03T00:00:00\",\"2019-11-10T00:00:00\",\"2019-11-17T00:00:00\",\"2019-11-24T00:00:00\",\"2019-12-01T00:00:00\",\"2019-12-08T00:00:00\",\"2019-12-15T00:00:00\",\"2019-12-22T00:00:00\",\"2019-12-29T00:00:00\",\"2020-01-05T00:00:00\",\"2020-01-12T00:00:00\"],\"y\":[-1.8863685534472552,-3.0750718906227803,-6.904097394351105,3.0699621787364393,0.13141177278048843,-1.077808419985118,-2.1899795547877545,-2.7886168915007445,2.4940004471932866,0.27213233530471825,-1.5131380635743525,-0.49899659651340045,-3.2499686648863104,-1.4810666260360037,3.9364549846115295,1.0737733166299677,-1.349129675667399,-2.0498416557081853,0.29044393584763384,-0.5793451922198329,0.4694862813110703,-2.5012691678338683,5.443253455861829,5.811093624240208,-2.4033872941318535,0.8075589023776075,-1.090468466023907,-1.7941953122224632,-1.0589337420248341,-4.372830448249601,-5.0597357207668665,-3.7668272747011997,0.06479300781739283,-3.8146318965758397,-1.7621159173525527,0.29827528052754815,-1.97552602543999,2.6807643202614173,0.40320434375616543,-1.4542616832702606,1.540012869608283,-0.6421264166450769,5.857014095739153,0.6366017947241787,0.03299342063139932,0.8093386872106194,-4.193684680171913,6.056354687324017,2.638901003120722,3.244536810608821,3.350441806166863,-1.145420803813039,0.2727893167469304,-0.8496791193121922,5.739166910795632,-0.5231322846052251,-0.6081133017993992,5.017754578478204,4.679368604201102,5.5913094761230795,0.5752799739173611,3.411658160597071,3.985313136174824,3.756585172668565,3.828651127072547,6.067482911602582,-2.261019458576662,0.20795078039927262,2.439482397639864,4.768960358850585,1.1500745734145852,2.3203009065735927,1.0462641413253948,0.4974874410066903,-4.073484290063881,-6.959086472586755,-2.627136153010163,-3.542502302963598,-3.751954827143834,-1.2985324939802538,-3.1447224695205875,1.9376408512834686,0.8476373605678305,1.750198321588286,-4.316281253660399,-0.9800537852490763,-1.9375858674040742,-2.882104686644304,0.996138519275739,-1.1409258289808406,-1.5148906333467096,1.915736123679629,-0.8255207168264178,2.730783705860155,-2.76731813257004,-0.8827173140924458,1.6717537375402287,-0.3018046345698693,6.79041966579701,-5.186199866700392,-2.397653390576103,1.1974498347575917,-4.449898574741496,-4.519866183168254,-3.302046003543815,3.5086879555251826,2.6079446683054],\"type\":\"scatter\",\"xaxis\":\"x5\",\"yaxis\":\"y5\"},{\"line\":{\"color\":\"#F44336\",\"dash\":\"dash\",\"width\":1.5},\"mode\":\"lines\",\"name\":\"trend change point\",\"showlegend\":true,\"x\":[\"2019-02-03T00:00:00\",\"2019-02-03T00:00:00\"],\"y\":[-3.990672565325674,0.0],\"type\":\"scatter\",\"xaxis\":\"x2\",\"yaxis\":\"y2\"}],                        {\"template\":{\"data\":{\"histogram2dcontour\":[{\"type\":\"histogram2dcontour\",\"colorbar\":{\"outlinewidth\":0,\"ticks\":\"\"},\"colorscale\":[[0.0,\"#0d0887\"],[0.1111111111111111,\"#46039f\"],[0.2222222222222222,\"#7201a8\"],[0.3333333333333333,\"#9c179e\"],[0.4444444444444444,\"#bd3786\"],[0.5555555555555556,\"#d8576b\"],[0.6666666666666666,\"#ed7953\"],[0.7777777777777778,\"#fb9f3a\"],[0.8888888888888888,\"#fdca26\"],[1.0,\"#f0f921\"]]}],\"choropleth\":[{\"type\":\"choropleth\",\"colorbar\":{\"outlinewidth\":0,\"ticks\":\"\"}}],\"histogram2d\":[{\"type\":\"histogram2d\",\"colorbar\":{\"outlinewidth\":0,\"ticks\":\"\"},\"colorscale\":[[0.0,\"#0d0887\"],[0.1111111111111111,\"#46039f\"],[0.2222222222222222,\"#7201a8\"],[0.3333333333333333,\"#9c179e\"],[0.4444444444444444,\"#bd3786\"],[0.5555555555555556,\"#d8576b\"],[0.6666666666666666,\"#ed7953\"],[0.7777777777777778,\"#fb9f3a\"],[0.8888888888888888,\"#fdca26\"],[1.0,\"#f0f921\"]]}],\"heatmap\":[{\"type\":\"heatmap\",\"colorbar\":{\"outlinewidth\":0,\"ticks\":\"\"},\"colorscale\":[[0.0,\"#0d0887\"],[0.1111111111111111,\"#46039f\"],[0.2222222222222222,\"#7201a8\"],[0.3333333333333333,\"#9c179e\"],[0.4444444444444444,\"#bd3786\"],[0.5555555555555556,\"#d8576b\"],[0.6666666666666666,\"#ed7953\"],[0.7777777777777778,\"#fb9f3a\"],[0.8888888888888888,\"#fdca26\"],[1.0,\"#f0f921\"]]}],\"heatmapgl\":[{\"type\":\"heatmapgl\",\"colorbar\":{\"outlinewidth\":0,\"ticks\":\"\"},\"colorscale\":[[0.0,\"#0d0887\"],[0.1111111111111111,\"#46039f\"],[0.2222222222222222,\"#7201a8\"],[0.3333333333333333,\"#9c179e\"],[0.4444444444444444,\"#bd3786\"],[0.5555555555555556,\"#d8576b\"],[0.6666666666666666,\"#ed7953\"],[0.7777777777777778,\"#fb9f3a\"],[0.8888888888888888,\"#fdca26\"],[1.0,\"#f0f921\"]]}],\"contourcarpet\":[{\"type\":\"contourcarpet\",\"colorbar\":{\"outlinewidth\":0,\"ticks\":\"\"}}],\"contour\":[{\"type\":\"contour\",\"colorbar\":{\"outlinewidth\":0,\"ticks\":\"\"},\"colorscale\":[[0.0,\"#0d0887\"],[0.1111111111111111,\"#46039f\"],[0.2222222222222222,\"#7201a8\"],[0.3333333333333333,\"#9c179e\"],[0.4444444444444444,\"#bd3786\"],[0.5555555555555556,\"#d8576b\"],[0.6666666666666666,\"#ed7953\"],[0.7777777777777778,\"#fb9f3a\"],[0.8888888888888888,\"#fdca26\"],[1.0,\"#f0f921\"]]}],\"surface\":[{\"type\":\"surface\",\"colorbar\":{\"outlinewidth\":0,\"ticks\":\"\"},\"colorscale\":[[0.0,\"#0d0887\"],[0.1111111111111111,\"#46039f\"],[0.2222222222222222,\"#7201a8\"],[0.3333333333333333,\"#9c179e\"],[0.4444444444444444,\"#bd3786\"],[0.5555555555555556,\"#d8576b\"],[0.6666666666666666,\"#ed7953\"],[0.7777777777777778,\"#fb9f3a\"],[0.8888888888888888,\"#fdca26\"],[1.0,\"#f0f921\"]]}],\"mesh3d\":[{\"type\":\"mesh3d\",\"colorbar\":{\"outlinewidth\":0,\"ticks\":\"\"}}],\"scatter\":[{\"fillpattern\":{\"fillmode\":\"overlay\",\"size\":10,\"solidity\":0.2},\"type\":\"scatter\"}],\"parcoords\":[{\"type\":\"parcoords\",\"line\":{\"colorbar\":{\"outlinewidth\":0,\"ticks\":\"\"}}}],\"scatterpolargl\":[{\"type\":\"scatterpolargl\",\"marker\":{\"colorbar\":{\"outlinewidth\":0,\"ticks\":\"\"}}}],\"bar\":[{\"error_x\":{\"color\":\"#2a3f5f\"},\"error_y\":{\"color\":\"#2a3f5f\"},\"marker\":{\"line\":{\"color\":\"#E5ECF6\",\"width\":0.5},\"pattern\":{\"fillmode\":\"overlay\",\"size\":10,\"solidity\":0.2}},\"type\":\"bar\"}],\"scattergeo\":[{\"type\":\"scattergeo\",\"marker\":{\"colorbar\":{\"outlinewidth\":0,\"ticks\":\"\"}}}],\"scatterpolar\":[{\"type\":\"scatterpolar\",\"marker\":{\"colorbar\":{\"outlinewidth\":0,\"ticks\":\"\"}}}],\"histogram\":[{\"marker\":{\"pattern\":{\"fillmode\":\"overlay\",\"size\":10,\"solidity\":0.2}},\"type\":\"histogram\"}],\"scattergl\":[{\"type\":\"scattergl\",\"marker\":{\"colorbar\":{\"outlinewidth\":0,\"ticks\":\"\"}}}],\"scatter3d\":[{\"type\":\"scatter3d\",\"line\":{\"colorbar\":{\"outlinewidth\":0,\"ticks\":\"\"}},\"marker\":{\"colorbar\":{\"outlinewidth\":0,\"ticks\":\"\"}}}],\"scattermapbox\":[{\"type\":\"scattermapbox\",\"marker\":{\"colorbar\":{\"outlinewidth\":0,\"ticks\":\"\"}}}],\"scatterternary\":[{\"type\":\"scatterternary\",\"marker\":{\"colorbar\":{\"outlinewidth\":0,\"ticks\":\"\"}}}],\"scattercarpet\":[{\"type\":\"scattercarpet\",\"marker\":{\"colorbar\":{\"outlinewidth\":0,\"ticks\":\"\"}}}],\"carpet\":[{\"aaxis\":{\"endlinecolor\":\"#2a3f5f\",\"gridcolor\":\"white\",\"linecolor\":\"white\",\"minorgridcolor\":\"white\",\"startlinecolor\":\"#2a3f5f\"},\"baxis\":{\"endlinecolor\":\"#2a3f5f\",\"gridcolor\":\"white\",\"linecolor\":\"white\",\"minorgridcolor\":\"white\",\"startlinecolor\":\"#2a3f5f\"},\"type\":\"carpet\"}],\"table\":[{\"cells\":{\"fill\":{\"color\":\"#EBF0F8\"},\"line\":{\"color\":\"white\"}},\"header\":{\"fill\":{\"color\":\"#C8D4E3\"},\"line\":{\"color\":\"white\"}},\"type\":\"table\"}],\"barpolar\":[{\"marker\":{\"line\":{\"color\":\"#E5ECF6\",\"width\":0.5},\"pattern\":{\"fillmode\":\"overlay\",\"size\":10,\"solidity\":0.2}},\"type\":\"barpolar\"}],\"pie\":[{\"automargin\":true,\"type\":\"pie\"}]},\"layout\":{\"autotypenumbers\":\"strict\",\"colorway\":[\"#636efa\",\"#EF553B\",\"#00cc96\",\"#ab63fa\",\"#FFA15A\",\"#19d3f3\",\"#FF6692\",\"#B6E880\",\"#FF97FF\",\"#FECB52\"],\"font\":{\"color\":\"#2a3f5f\"},\"hovermode\":\"closest\",\"hoverlabel\":{\"align\":\"left\"},\"paper_bgcolor\":\"white\",\"plot_bgcolor\":\"#E5ECF6\",\"polar\":{\"bgcolor\":\"#E5ECF6\",\"angularaxis\":{\"gridcolor\":\"white\",\"linecolor\":\"white\",\"ticks\":\"\"},\"radialaxis\":{\"gridcolor\":\"white\",\"linecolor\":\"white\",\"ticks\":\"\"}},\"ternary\":{\"bgcolor\":\"#E5ECF6\",\"aaxis\":{\"gridcolor\":\"white\",\"linecolor\":\"white\",\"ticks\":\"\"},\"baxis\":{\"gridcolor\":\"white\",\"linecolor\":\"white\",\"ticks\":\"\"},\"caxis\":{\"gridcolor\":\"white\",\"linecolor\":\"white\",\"ticks\":\"\"}},\"coloraxis\":{\"colorbar\":{\"outlinewidth\":0,\"ticks\":\"\"}},\"colorscale\":{\"sequential\":[[0.0,\"#0d0887\"],[0.1111111111111111,\"#46039f\"],[0.2222222222222222,\"#7201a8\"],[0.3333333333333333,\"#9c179e\"],[0.4444444444444444,\"#bd3786\"],[0.5555555555555556,\"#d8576b\"],[0.6666666666666666,\"#ed7953\"],[0.7777777777777778,\"#fb9f3a\"],[0.8888888888888888,\"#fdca26\"],[1.0,\"#f0f921\"]],\"sequentialminus\":[[0.0,\"#0d0887\"],[0.1111111111111111,\"#46039f\"],[0.2222222222222222,\"#7201a8\"],[0.3333333333333333,\"#9c179e\"],[0.4444444444444444,\"#bd3786\"],[0.5555555555555556,\"#d8576b\"],[0.6666666666666666,\"#ed7953\"],[0.7777777777777778,\"#fb9f3a\"],[0.8888888888888888,\"#fdca26\"],[1.0,\"#f0f921\"]],\"diverging\":[[0,\"#8e0152\"],[0.1,\"#c51b7d\"],[0.2,\"#de77ae\"],[0.3,\"#f1b6da\"],[0.4,\"#fde0ef\"],[0.5,\"#f7f7f7\"],[0.6,\"#e6f5d0\"],[0.7,\"#b8e186\"],[0.8,\"#7fbc41\"],[0.9,\"#4d9221\"],[1,\"#276419\"]]},\"xaxis\":{\"gridcolor\":\"white\",\"linecolor\":\"white\",\"ticks\":\"\",\"title\":{\"standoff\":15},\"zerolinecolor\":\"white\",\"automargin\":true,\"zerolinewidth\":2},\"yaxis\":{\"gridcolor\":\"white\",\"linecolor\":\"white\",\"ticks\":\"\",\"title\":{\"standoff\":15},\"zerolinecolor\":\"white\",\"automargin\":true,\"zerolinewidth\":2},\"scene\":{\"xaxis\":{\"backgroundcolor\":\"#E5ECF6\",\"gridcolor\":\"white\",\"linecolor\":\"white\",\"showbackground\":true,\"ticks\":\"\",\"zerolinecolor\":\"white\",\"gridwidth\":2},\"yaxis\":{\"backgroundcolor\":\"#E5ECF6\",\"gridcolor\":\"white\",\"linecolor\":\"white\",\"showbackground\":true,\"ticks\":\"\",\"zerolinecolor\":\"white\",\"gridwidth\":2},\"zaxis\":{\"backgroundcolor\":\"#E5ECF6\",\"gridcolor\":\"white\",\"linecolor\":\"white\",\"showbackground\":true,\"ticks\":\"\",\"zerolinecolor\":\"white\",\"gridwidth\":2}},\"shapedefaults\":{\"line\":{\"color\":\"#2a3f5f\"}},\"annotationdefaults\":{\"arrowcolor\":\"#2a3f5f\",\"arrowhead\":0,\"arrowwidth\":1},\"geo\":{\"bgcolor\":\"white\",\"landcolor\":\"#E5ECF6\",\"subunitcolor\":\"white\",\"showland\":true,\"showlakes\":true,\"lakecolor\":\"white\"},\"title\":{\"x\":0.05},\"mapbox\":{\"style\":\"light\"}}},\"xaxis\":{\"anchor\":\"y\",\"domain\":[0.0,1.0],\"title\":{\"text\":\"ts\"},\"showline\":true,\"mirror\":true},\"yaxis\":{\"anchor\":\"x\",\"domain\":[0.8559999999999999,0.9999999999999999],\"title\":{\"text\":\"y\"},\"showline\":true,\"mirror\":true},\"xaxis2\":{\"anchor\":\"y2\",\"domain\":[0.0,1.0],\"title\":{\"text\":\"ts\"},\"showline\":true,\"mirror\":true},\"yaxis2\":{\"anchor\":\"x2\",\"domain\":[0.6419999999999999,0.7859999999999999],\"title\":{\"text\":\"trend\"},\"showline\":true,\"mirror\":true},\"xaxis3\":{\"anchor\":\"y3\",\"domain\":[0.0,1.0],\"title\":{\"text\":\"Time of year\"},\"showline\":true,\"mirror\":true},\"yaxis3\":{\"anchor\":\"x3\",\"domain\":[0.42799999999999994,0.572],\"title\":{\"text\":\"yearly\"},\"showline\":true,\"mirror\":true},\"xaxis4\":{\"anchor\":\"y4\",\"domain\":[0.0,1.0],\"title\":{\"text\":\"ts\"},\"showline\":true,\"mirror\":true},\"yaxis4\":{\"anchor\":\"x4\",\"domain\":[0.21399999999999997,0.358],\"title\":{\"text\":\"events\"},\"showline\":true,\"mirror\":true},\"xaxis5\":{\"anchor\":\"y5\",\"domain\":[0.0,1.0],\"title\":{\"text\":\"ts\"},\"showline\":true,\"mirror\":true},\"yaxis5\":{\"anchor\":\"x5\",\"domain\":[0.0,0.144],\"title\":{\"text\":\"residual\"},\"showline\":true,\"mirror\":true},\"title\":{\"text\":\"Component plots\",\"x\":0.5},\"showlegend\":true,\"height\":1750},                        {\"responsive\": true}                    ).then(function(){\n",
       "                            \n",
       "var gd = document.getElementById('b89c0622-137d-44ce-a9c8-921496a6a209');\n",
       "var x = new MutationObserver(function (mutations, observer) {{\n",
       "        var display = window.getComputedStyle(gd).display;\n",
       "        if (!display || display === 'none') {{\n",
       "            console.log([gd, 'removed!']);\n",
       "            Plotly.purge(gd);\n",
       "            observer.disconnect();\n",
       "        }}\n",
       "}});\n",
       "\n",
       "// Listen for the removal of the full notebook cells\n",
       "var notebookContainer = gd.closest('#notebook-container');\n",
       "if (notebookContainer) {{\n",
       "    x.observe(notebookContainer, {childList: true});\n",
       "}}\n",
       "\n",
       "// Listen for the clearing of the current output cell\n",
       "var outputEl = gd.closest('.output');\n",
       "if (outputEl) {{\n",
       "    x.observe(outputEl, {childList: true});\n",
       "}}\n",
       "\n",
       "                        })                };                });            </script>        </div>"
      ]
     },
     "metadata": {},
     "output_type": "display_data"
    },
    {
     "data": {
      "text/plain": [
       "ForecastResult(timeseries=<greykite.framework.input.univariate_time_series.UnivariateTimeSeries object at 0x00000179E0EA8D88>, grid_search=RandomizedSearchCV(cv=RollingTimeSeriesSplit(expanding_window=True, forecast_horizon=13,\n",
       "            max_splits=6, min_train_periods=104, periods_between_splits=13,\n",
       "            periods_between_train_test=0, use_most_recent_splits=True),\n",
       "                   estimator=Pipeline(steps=[('input',\n",
       "                                              PandasFeatureUnion(transformer_list=[('date',\n",
       "                                                                                    Pipeline(steps=[('select_date',\n",
       "                                                                                                     ColumnSelector(column_names=['ts'...\n",
       "                            'OutsideTolerance3p': make_scorer(score_func_finite),\n",
       "                            'OutsideTolerance4p': make_scorer(score_func_finite),\n",
       "                            'OutsideTolerance5p': make_scorer(score_func_finite),\n",
       "                            'Q80': make_scorer(score_func_finite),\n",
       "                            'Q95': make_scorer(score_func_finite),\n",
       "                            'Q99': make_scorer(score_func_finite),\n",
       "                            'R2': make_scorer(score_func_finite),\n",
       "                            'RMSE': make_scorer(score_func_finite),\n",
       "                            'sMAPE': make_scorer(score_func_finite)},\n",
       "                   verbose=1), model=Pipeline(steps=[('input',\n",
       "                 PandasFeatureUnion(transformer_list=[('date',\n",
       "                                                       Pipeline(steps=[('select_date',\n",
       "                                                                        ColumnSelector(column_names=['ts']))])),\n",
       "                                                      ('response',\n",
       "                                                       Pipeline(steps=[('select_val',\n",
       "                                                                        ColumnSelector(column_names=['y'])),\n",
       "                                                                       ('outlier',\n",
       "                                                                        ZscoreOutlierTransformer()),\n",
       "                                                                       ('null',\n",
       "                                                                        NullTransformer(impute_algorithm='interpolate',\n",
       "                                                                                        impute_params={'axis': 0,\n",
       "                                                                                                       'limit_direct...\n",
       "                                                            'start_year': 2017},\n",
       "                                           uncertainty_dict={'params': {'conditional_cols': None,\n",
       "                                                                        'quantile_estimation_method': 'normal_fit',\n",
       "                                                                        'quantiles': [0.025000000000000022,\n",
       "                                                                                      0.975],\n",
       "                                                                        'sample_size_thresh': 5,\n",
       "                                                                        'small_sample_size_method': 'std_quantiles',\n",
       "                                                                        'small_sample_size_quantile': 0.98},\n",
       "                                                             'uncertainty_method': 'simple_conditional_residuals'},\n",
       "                                           weekly_seasonality=0,\n",
       "                                           yearly_seasonality=25))]), backtest=<greykite.framework.output.univariate_forecast.UnivariateForecast object at 0x00000179E1EFAD88>, forecast=<greykite.framework.output.univariate_forecast.UnivariateForecast object at 0x00000179E20D4148>)"
      ]
     },
     "execution_count": 12,
     "metadata": {},
     "output_type": "execute_result"
    }
   ],
   "source": [
    "greykite_fit_explore(combined_states_begining_covid, 'depression')"
   ]
  },
  {
   "cell_type": "code",
   "execution_count": null,
   "id": "59cdc3f6-5296-490e-ae1d-da3f76aee1c8",
   "metadata": {},
   "outputs": [],
   "source": []
  },
  {
   "cell_type": "code",
   "execution_count": null,
   "id": "c5ada298-87f9-4c0e-a13f-9d8a21193e38",
   "metadata": {},
   "outputs": [],
   "source": []
  },
  {
   "cell_type": "code",
   "execution_count": null,
   "id": "7e282208-c2eb-4fbb-8fc3-7d4aa82ac0c7",
   "metadata": {},
   "outputs": [],
   "source": []
  },
  {
   "cell_type": "code",
   "execution_count": null,
   "id": "dfd8e5a3-adfd-492c-bee1-edeb1573e53f",
   "metadata": {},
   "outputs": [],
   "source": []
  },
  {
   "cell_type": "code",
   "execution_count": null,
   "id": "d7e694d5-b89a-4d23-a4f6-f22b54c78bd8",
   "metadata": {},
   "outputs": [],
   "source": []
  },
  {
   "cell_type": "code",
   "execution_count": null,
   "id": "7f2940dc-a056-4b7e-8c37-d68c5ee8771d",
   "metadata": {},
   "outputs": [],
   "source": []
  },
  {
   "cell_type": "code",
   "execution_count": null,
   "id": "ef226b3f-9563-49c6-a1fc-2d89cab104f2",
   "metadata": {},
   "outputs": [],
   "source": []
  },
  {
   "cell_type": "code",
   "execution_count": null,
   "id": "bd75ce43-842b-492f-b155-b2f496e9806b",
   "metadata": {},
   "outputs": [],
   "source": []
  }
 ],
 "metadata": {
  "kernelspec": {
   "display_name": "Python 3 (ipykernel)",
   "language": "python",
   "name": "python3"
  },
  "language_info": {
   "codemirror_mode": {
    "name": "ipython",
    "version": 3
   },
   "file_extension": ".py",
   "mimetype": "text/x-python",
   "name": "python",
   "nbconvert_exporter": "python",
   "pygments_lexer": "ipython3",
   "version": "3.7.16"
  }
 },
 "nbformat": 4,
 "nbformat_minor": 5
}
