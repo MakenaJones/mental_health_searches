{
 "cells": [
  {
   "cell_type": "markdown",
   "id": "2263b442-4693-4558-a0ee-cd335db9fa8c",
   "metadata": {},
   "source": [
    "# Prepare Data for EDA and Models"
   ]
  },
  {
   "cell_type": "code",
   "execution_count": 2,
   "id": "b8cf579c-131a-4edd-9222-85edf466fb17",
   "metadata": {},
   "outputs": [],
   "source": [
    "# Imports\n",
    "import pandas as pd\n",
    "from os import listdir\n",
    "\n",
    "\n",
    "#from datetime import datetime, date"
   ]
  },
  {
   "cell_type": "code",
   "execution_count": 3,
   "id": "f7dd292d-a455-45ce-81b1-d965cee88ef2",
   "metadata": {},
   "outputs": [],
   "source": [
    "def combine_files(path_to_files):\n",
    "    df = pd.DataFrame()\n",
    "    file_list = listdir('../data/')\n",
    "    for file in file_list:\n",
    "        df = pd.concat([df, pd.read_csv(f'../data/{file}')])\n",
    "    return df"
   ]
  },
  {
   "cell_type": "code",
   "execution_count": 4,
   "id": "a8aa7c77-4008-418e-a95b-197cf7e9ca69",
   "metadata": {},
   "outputs": [
    {
     "data": {
      "text/html": [
       "<div>\n",
       "<style scoped>\n",
       "    .dataframe tbody tr th:only-of-type {\n",
       "        vertical-align: middle;\n",
       "    }\n",
       "\n",
       "    .dataframe tbody tr th {\n",
       "        vertical-align: top;\n",
       "    }\n",
       "\n",
       "    .dataframe thead th {\n",
       "        text-align: right;\n",
       "    }\n",
       "</style>\n",
       "<table border=\"1\" class=\"dataframe\">\n",
       "  <thead>\n",
       "    <tr style=\"text-align: right;\">\n",
       "      <th></th>\n",
       "      <th>state</th>\n",
       "      <th>week</th>\n",
       "      <th>depression</th>\n",
       "      <th>anxiety</th>\n",
       "      <th>addiction</th>\n",
       "      <th>counselling</th>\n",
       "      <th>mental_health</th>\n",
       "      <th>stay_at_home</th>\n",
       "      <th>mask_mandate</th>\n",
       "      <th>gatherings_banned</th>\n",
       "      <th>business_closures</th>\n",
       "      <th>travel_restrictions</th>\n",
       "    </tr>\n",
       "  </thead>\n",
       "  <tbody>\n",
       "    <tr>\n",
       "      <th>0</th>\n",
       "      <td>Alaska</td>\n",
       "      <td>2017-12-31</td>\n",
       "      <td>28</td>\n",
       "      <td>46</td>\n",
       "      <td>24</td>\n",
       "      <td>37</td>\n",
       "      <td>0</td>\n",
       "      <td>0</td>\n",
       "      <td>0</td>\n",
       "      <td>0.0</td>\n",
       "      <td>0</td>\n",
       "      <td>0</td>\n",
       "    </tr>\n",
       "    <tr>\n",
       "      <th>1</th>\n",
       "      <td>Alaska</td>\n",
       "      <td>2018-01-07</td>\n",
       "      <td>37</td>\n",
       "      <td>45</td>\n",
       "      <td>25</td>\n",
       "      <td>65</td>\n",
       "      <td>37</td>\n",
       "      <td>0</td>\n",
       "      <td>0</td>\n",
       "      <td>0.0</td>\n",
       "      <td>0</td>\n",
       "      <td>0</td>\n",
       "    </tr>\n",
       "    <tr>\n",
       "      <th>2</th>\n",
       "      <td>Alaska</td>\n",
       "      <td>2018-01-14</td>\n",
       "      <td>10</td>\n",
       "      <td>46</td>\n",
       "      <td>16</td>\n",
       "      <td>53</td>\n",
       "      <td>30</td>\n",
       "      <td>0</td>\n",
       "      <td>0</td>\n",
       "      <td>0.0</td>\n",
       "      <td>0</td>\n",
       "      <td>0</td>\n",
       "    </tr>\n",
       "    <tr>\n",
       "      <th>3</th>\n",
       "      <td>Alaska</td>\n",
       "      <td>2018-01-21</td>\n",
       "      <td>33</td>\n",
       "      <td>41</td>\n",
       "      <td>10</td>\n",
       "      <td>35</td>\n",
       "      <td>14</td>\n",
       "      <td>0</td>\n",
       "      <td>0</td>\n",
       "      <td>0.0</td>\n",
       "      <td>0</td>\n",
       "      <td>0</td>\n",
       "    </tr>\n",
       "    <tr>\n",
       "      <th>4</th>\n",
       "      <td>Alaska</td>\n",
       "      <td>2018-01-28</td>\n",
       "      <td>32</td>\n",
       "      <td>24</td>\n",
       "      <td>0</td>\n",
       "      <td>40</td>\n",
       "      <td>0</td>\n",
       "      <td>0</td>\n",
       "      <td>0</td>\n",
       "      <td>0.0</td>\n",
       "      <td>0</td>\n",
       "      <td>0</td>\n",
       "    </tr>\n",
       "  </tbody>\n",
       "</table>\n",
       "</div>"
      ],
      "text/plain": [
       "    state        week  depression  anxiety  addiction  counselling  \\\n",
       "0  Alaska  2017-12-31          28       46         24           37   \n",
       "1  Alaska  2018-01-07          37       45         25           65   \n",
       "2  Alaska  2018-01-14          10       46         16           53   \n",
       "3  Alaska  2018-01-21          33       41         10           35   \n",
       "4  Alaska  2018-01-28          32       24          0           40   \n",
       "\n",
       "   mental_health  stay_at_home  mask_mandate  gatherings_banned  \\\n",
       "0              0             0             0                0.0   \n",
       "1             37             0             0                0.0   \n",
       "2             30             0             0                0.0   \n",
       "3             14             0             0                0.0   \n",
       "4              0             0             0                0.0   \n",
       "\n",
       "   business_closures  travel_restrictions  \n",
       "0                  0                    0  \n",
       "1                  0                    0  \n",
       "2                  0                    0  \n",
       "3                  0                    0  \n",
       "4                  0                    0  "
      ]
     },
     "execution_count": 4,
     "metadata": {},
     "output_type": "execute_result"
    }
   ],
   "source": [
    "all_states = combine_files('../data/')\n",
    "all_states.head()"
   ]
  },
  {
   "cell_type": "code",
   "execution_count": 1,
   "id": "9b75e7a9-8a45-4996-a89f-54d63400725f",
   "metadata": {},
   "outputs": [
    {
     "ename": "NameError",
     "evalue": "name 'pd' is not defined",
     "output_type": "error",
     "traceback": [
      "\u001b[1;31m---------------------------------------------------------------------------\u001b[0m",
      "\u001b[1;31mNameError\u001b[0m                                 Traceback (most recent call last)",
      "Cell \u001b[1;32mIn[1], line 1\u001b[0m\n\u001b[1;32m----> 1\u001b[0m all_states[\u001b[38;5;124m'\u001b[39m\u001b[38;5;124mweek\u001b[39m\u001b[38;5;124m'\u001b[39m] \u001b[38;5;241m=\u001b[39m \u001b[43mpd\u001b[49m\u001b[38;5;241m.\u001b[39mto_datetime(all_states[\u001b[38;5;124m'\u001b[39m\u001b[38;5;124mweek\u001b[39m\u001b[38;5;124m'\u001b[39m], \u001b[38;5;28mformat\u001b[39m \u001b[38;5;241m=\u001b[39m \u001b[38;5;124m'\u001b[39m\u001b[38;5;124m%\u001b[39m\u001b[38;5;124mY-\u001b[39m\u001b[38;5;124m%\u001b[39m\u001b[38;5;124mm-\u001b[39m\u001b[38;5;132;01m%d\u001b[39;00m\u001b[38;5;124m'\u001b[39m)\n\u001b[0;32m      2\u001b[0m all_states\u001b[38;5;241m.\u001b[39mhead()\n",
      "\u001b[1;31mNameError\u001b[0m: name 'pd' is not defined"
     ]
    }
   ],
   "source": [
    "all_states['week'] = pd.to_datetime(all_states['week'], format = '%Y-%m-%d')\n",
    "all_states.head()"
   ]
  },
  {
   "cell_type": "code",
   "execution_count": null,
   "id": "ae676265-2f1e-4a5f-8ca7-ec39dadddacf",
   "metadata": {},
   "outputs": [],
   "source": []
  },
  {
   "cell_type": "code",
   "execution_count": 8,
   "id": "9a4c1bc5-2aaa-4124-ae31-01dc67005581",
   "metadata": {},
   "outputs": [],
   "source": [
    "# Save combined data to csv\n",
    "all_states.to_csv('../data/all_states.csv', index=False)"
   ]
  },
  {
   "cell_type": "code",
   "execution_count": null,
   "id": "f6d2795b-6eab-442f-84b5-bcc2240e8fac",
   "metadata": {},
   "outputs": [],
   "source": []
  }
 ],
 "metadata": {
  "kernelspec": {
   "display_name": "Python 3 (ipykernel)",
   "language": "python",
   "name": "python3"
  },
  "language_info": {
   "codemirror_mode": {
    "name": "ipython",
    "version": 3
   },
   "file_extension": ".py",
   "mimetype": "text/x-python",
   "name": "python",
   "nbconvert_exporter": "python",
   "pygments_lexer": "ipython3",
   "version": "3.10.9"
  }
 },
 "nbformat": 4,
 "nbformat_minor": 5
}
