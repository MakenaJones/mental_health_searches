{
 "cells": [
  {
   "cell_type": "markdown",
   "id": "2263b442-4693-4558-a0ee-cd335db9fa8c",
   "metadata": {},
   "source": [
    "# Prepare Data for EDA and Models"
   ]
  },
  {
   "cell_type": "code",
   "execution_count": 4,
   "id": "b8cf579c-131a-4edd-9222-85edf466fb17",
   "metadata": {},
   "outputs": [],
   "source": [
    "# Imports\n",
    "import pandas as pd\n",
    "from os import listdir\n",
    "\n",
    "\n",
    "#from datetime import datetime, date"
   ]
  },
  {
   "cell_type": "code",
   "execution_count": 9,
   "id": "f7dd292d-a455-45ce-81b1-d965cee88ef2",
   "metadata": {},
   "outputs": [],
   "source": [
    "def combine_files(path_to_files):\n",
    "    df = pd.DataFrame()\n",
    "    file_list = listdir('../data/')\n",
    "    for file in file_list:\n",
    "        if ('.csv' in file) & (file != 'all_states.csv'):\n",
    "            df = pd.concat([df, pd.read_csv(f'../data/{file}')])\n",
    "    return df"
   ]
  },
  {
   "cell_type": "code",
   "execution_count": 10,
   "id": "a8aa7c77-4008-418e-a95b-197cf7e9ca69",
   "metadata": {},
   "outputs": [
    {
     "data": {
      "text/html": [
       "<div>\n",
       "<style scoped>\n",
       "    .dataframe tbody tr th:only-of-type {\n",
       "        vertical-align: middle;\n",
       "    }\n",
       "\n",
       "    .dataframe tbody tr th {\n",
       "        vertical-align: top;\n",
       "    }\n",
       "\n",
       "    .dataframe thead th {\n",
       "        text-align: right;\n",
       "    }\n",
       "</style>\n",
       "<table border=\"1\" class=\"dataframe\">\n",
       "  <thead>\n",
       "    <tr style=\"text-align: right;\">\n",
       "      <th></th>\n",
       "      <th>state</th>\n",
       "      <th>week</th>\n",
       "      <th>depression</th>\n",
       "      <th>anxiety</th>\n",
       "      <th>addiction</th>\n",
       "      <th>counselling</th>\n",
       "      <th>mental_health</th>\n",
       "      <th>stay_at_home</th>\n",
       "      <th>mask_mandate</th>\n",
       "      <th>gatherings_banned</th>\n",
       "      <th>business_closures</th>\n",
       "      <th>travel_restrictions</th>\n",
       "    </tr>\n",
       "  </thead>\n",
       "  <tbody>\n",
       "    <tr>\n",
       "      <th>0</th>\n",
       "      <td>Alaska</td>\n",
       "      <td>2017-12-31</td>\n",
       "      <td>28</td>\n",
       "      <td>46</td>\n",
       "      <td>24</td>\n",
       "      <td>37</td>\n",
       "      <td>0</td>\n",
       "      <td>0</td>\n",
       "      <td>0</td>\n",
       "      <td>0</td>\n",
       "      <td>0</td>\n",
       "      <td>0</td>\n",
       "    </tr>\n",
       "    <tr>\n",
       "      <th>1</th>\n",
       "      <td>Alaska</td>\n",
       "      <td>2018-01-07</td>\n",
       "      <td>37</td>\n",
       "      <td>45</td>\n",
       "      <td>25</td>\n",
       "      <td>65</td>\n",
       "      <td>37</td>\n",
       "      <td>0</td>\n",
       "      <td>0</td>\n",
       "      <td>0</td>\n",
       "      <td>0</td>\n",
       "      <td>0</td>\n",
       "    </tr>\n",
       "    <tr>\n",
       "      <th>2</th>\n",
       "      <td>Alaska</td>\n",
       "      <td>2018-01-14</td>\n",
       "      <td>10</td>\n",
       "      <td>46</td>\n",
       "      <td>16</td>\n",
       "      <td>53</td>\n",
       "      <td>30</td>\n",
       "      <td>0</td>\n",
       "      <td>0</td>\n",
       "      <td>0</td>\n",
       "      <td>0</td>\n",
       "      <td>0</td>\n",
       "    </tr>\n",
       "    <tr>\n",
       "      <th>3</th>\n",
       "      <td>Alaska</td>\n",
       "      <td>2018-01-21</td>\n",
       "      <td>33</td>\n",
       "      <td>41</td>\n",
       "      <td>10</td>\n",
       "      <td>35</td>\n",
       "      <td>14</td>\n",
       "      <td>0</td>\n",
       "      <td>0</td>\n",
       "      <td>0</td>\n",
       "      <td>0</td>\n",
       "      <td>0</td>\n",
       "    </tr>\n",
       "    <tr>\n",
       "      <th>4</th>\n",
       "      <td>Alaska</td>\n",
       "      <td>2018-01-28</td>\n",
       "      <td>32</td>\n",
       "      <td>24</td>\n",
       "      <td>0</td>\n",
       "      <td>40</td>\n",
       "      <td>0</td>\n",
       "      <td>0</td>\n",
       "      <td>0</td>\n",
       "      <td>0</td>\n",
       "      <td>0</td>\n",
       "      <td>0</td>\n",
       "    </tr>\n",
       "  </tbody>\n",
       "</table>\n",
       "</div>"
      ],
      "text/plain": [
       "    state        week  depression  anxiety  addiction  counselling  \\\n",
       "0  Alaska  2017-12-31          28       46         24           37   \n",
       "1  Alaska  2018-01-07          37       45         25           65   \n",
       "2  Alaska  2018-01-14          10       46         16           53   \n",
       "3  Alaska  2018-01-21          33       41         10           35   \n",
       "4  Alaska  2018-01-28          32       24          0           40   \n",
       "\n",
       "   mental_health  stay_at_home  mask_mandate  gatherings_banned  \\\n",
       "0              0             0             0                  0   \n",
       "1             37             0             0                  0   \n",
       "2             30             0             0                  0   \n",
       "3             14             0             0                  0   \n",
       "4              0             0             0                  0   \n",
       "\n",
       "   business_closures  travel_restrictions  \n",
       "0                  0                    0  \n",
       "1                  0                    0  \n",
       "2                  0                    0  \n",
       "3                  0                    0  \n",
       "4                  0                    0  "
      ]
     },
     "execution_count": 10,
     "metadata": {},
     "output_type": "execute_result"
    }
   ],
   "source": [
    "all_states = combine_files('../data/')\n",
    "all_states.head()"
   ]
  },
  {
   "cell_type": "code",
   "execution_count": 12,
   "id": "9b75e7a9-8a45-4996-a89f-54d63400725f",
   "metadata": {},
   "outputs": [
    {
     "data": {
      "text/plain": [
       "state                          object\n",
       "week                   datetime64[ns]\n",
       "depression                      int64\n",
       "anxiety                         int64\n",
       "addiction                       int64\n",
       "counselling                     int64\n",
       "mental_health                   int64\n",
       "stay_at_home                    int64\n",
       "mask_mandate                    int64\n",
       "gatherings_banned               int64\n",
       "business_closures               int64\n",
       "travel_restrictions             int64\n",
       "dtype: object"
      ]
     },
     "execution_count": 12,
     "metadata": {},
     "output_type": "execute_result"
    }
   ],
   "source": [
    "# updating the week column to be datetime type\n",
    "all_states['week'] = pd.to_datetime(all_states['week'], format = '%Y-%m-%d')\n",
    "all_states.dtypes"
   ]
  },
  {
   "cell_type": "code",
   "execution_count": 13,
   "id": "9a4c1bc5-2aaa-4124-ae31-01dc67005581",
   "metadata": {},
   "outputs": [],
   "source": [
    "# Save combined data to csv\n",
    "all_states.to_csv('../data/all_states.csv', index=False)"
   ]
  },
  {
   "cell_type": "code",
   "execution_count": null,
   "id": "f6d2795b-6eab-442f-84b5-bcc2240e8fac",
   "metadata": {},
   "outputs": [],
   "source": []
  }
 ],
 "metadata": {
  "kernelspec": {
   "display_name": "Python 3 (ipykernel)",
   "language": "python",
   "name": "python3"
  },
  "language_info": {
   "codemirror_mode": {
    "name": "ipython",
    "version": 3
   },
   "file_extension": ".py",
   "mimetype": "text/x-python",
   "name": "python",
   "nbconvert_exporter": "python",
   "pygments_lexer": "ipython3",
   "version": "3.7.16"
  }
 },
 "nbformat": 4,
 "nbformat_minor": 5
}
